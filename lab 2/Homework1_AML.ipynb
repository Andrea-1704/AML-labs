{
  "nbformat": 4,
  "nbformat_minor": 0,
  "metadata": {
    "colab": {
      "provenance": [],
      "gpuType": "T4"
    },
    "kernelspec": {
      "name": "python3",
      "display_name": "Python 3"
    },
    "accelerator": "GPU"
  },
  "cells": [
    {
      "cell_type": "markdown",
      "metadata": {
        "id": "c9QcGnGPdX2C"
      },
      "source": [
        "\n",
        "**Install requirements**"
      ]
    },
    {
      "cell_type": "code",
      "metadata": {
        "id": "k9O3aM3Tb28q",
        "colab": {
          "base_uri": "https://localhost:8080/"
        },
        "outputId": "0d2a9eb9-67f4-4f3e-f91b-0be68d1e4981"
      },
      "source": [
        "!pip3 install torch torchvision torchaudio"
      ],
      "execution_count": 1,
      "outputs": [
        {
          "output_type": "stream",
          "name": "stdout",
          "text": [
            "Requirement already satisfied: torch in /usr/local/lib/python3.10/dist-packages (2.5.0+cu121)\n",
            "Requirement already satisfied: torchvision in /usr/local/lib/python3.10/dist-packages (0.20.0+cu121)\n",
            "Requirement already satisfied: torchaudio in /usr/local/lib/python3.10/dist-packages (2.5.0+cu121)\n",
            "Requirement already satisfied: filelock in /usr/local/lib/python3.10/dist-packages (from torch) (3.16.1)\n",
            "Requirement already satisfied: typing-extensions>=4.8.0 in /usr/local/lib/python3.10/dist-packages (from torch) (4.12.2)\n",
            "Requirement already satisfied: networkx in /usr/local/lib/python3.10/dist-packages (from torch) (3.4.2)\n",
            "Requirement already satisfied: jinja2 in /usr/local/lib/python3.10/dist-packages (from torch) (3.1.4)\n",
            "Requirement already satisfied: fsspec in /usr/local/lib/python3.10/dist-packages (from torch) (2024.10.0)\n",
            "Requirement already satisfied: sympy==1.13.1 in /usr/local/lib/python3.10/dist-packages (from torch) (1.13.1)\n",
            "Requirement already satisfied: mpmath<1.4,>=1.1.0 in /usr/local/lib/python3.10/dist-packages (from sympy==1.13.1->torch) (1.3.0)\n",
            "Requirement already satisfied: numpy in /usr/local/lib/python3.10/dist-packages (from torchvision) (1.26.4)\n",
            "Requirement already satisfied: pillow!=8.3.*,>=5.3.0 in /usr/local/lib/python3.10/dist-packages (from torchvision) (10.4.0)\n",
            "Requirement already satisfied: MarkupSafe>=2.0 in /usr/local/lib/python3.10/dist-packages (from jinja2->torch) (3.0.2)\n"
          ]
        }
      ]
    },
    {
      "cell_type": "code",
      "source": [
        "!pip3 install 'tqdm'"
      ],
      "metadata": {
        "id": "qVKGznT4y4QT",
        "colab": {
          "base_uri": "https://localhost:8080/"
        },
        "outputId": "437a443d-9f5e-44c4-fc0a-9bb19cde3ebc"
      },
      "execution_count": 2,
      "outputs": [
        {
          "output_type": "stream",
          "name": "stdout",
          "text": [
            "Requirement already satisfied: tqdm in /usr/local/lib/python3.10/dist-packages (4.66.6)\n"
          ]
        }
      ]
    },
    {
      "cell_type": "markdown",
      "metadata": {
        "id": "fo942LMOdlh4"
      },
      "source": [
        "**Import libraries**"
      ]
    },
    {
      "cell_type": "code",
      "metadata": {
        "id": "DokFOdD1dJEl"
      },
      "source": [
        "import os\n",
        "import logging\n",
        "\n",
        "import torch\n",
        "import torch.nn as nn\n",
        "import torch.optim as optim\n",
        "from torch.utils.data import Subset, DataLoader\n",
        "from torch.backends import cudnn\n",
        "\n",
        "import torchvision\n",
        "from torchvision import transforms\n",
        "from torchvision.models import alexnet\n",
        "\n",
        "from PIL import Image\n",
        "from tqdm import tqdm\n",
        "\n",
        "from sklearn.model_selection import train_test_split"
      ],
      "execution_count": 3,
      "outputs": []
    },
    {
      "cell_type": "markdown",
      "metadata": {
        "id": "OIDLJuIXK_vh"
      },
      "source": [
        "**Set Arguments**"
      ]
    },
    {
      "cell_type": "code",
      "metadata": {
        "id": "d5PkYfqfK_SA"
      },
      "source": [
        "DEVICE = 'cuda' # 'cuda' or 'cpu'\n",
        "\n",
        "NUM_CLASSES = 102 # 101 + 1: There is am extra Background class that should be removed\n",
        "\n",
        "BATCH_SIZE = 256     # Higher batch sizes allows for larger learning rates. An empirical heuristic suggests that, when changing\n",
        "                     # the batch size, learning rate should change by the same factor to have comparable results\n",
        "\n",
        "LR = 1e-3            # The initial Learning Rate\n",
        "MOMENTUM = 0.9       # Hyperparameter for SGD, keep this at 0.9 when using SGD\n",
        "WEIGHT_DECAY = 5e-5  # Regularization, you can keep this at the default\n",
        "\n",
        "NUM_EPOCHS = 30      # Total number of training epochs (iterations over dataset)\n",
        "STEP_SIZE = 20       # How many epochs before decreasing learning rate (if using a step-down policy)\n",
        "GAMMA = 0.1          # Multiplicative factor for learning rate step-down\n",
        "\n",
        "LOG_FREQUENCY = 10"
      ],
      "execution_count": 4,
      "outputs": []
    },
    {
      "cell_type": "markdown",
      "metadata": {
        "id": "9gwii0TBHvzh"
      },
      "source": [
        "**Define Data Preprocessing**"
      ]
    },
    {
      "cell_type": "code",
      "metadata": {
        "id": "QUDdw4j2H0Mc"
      },
      "source": [
        "# Define transforms for training phase\n",
        "train_transform = transforms.Compose([transforms.Resize(256),      # Resizes short size of the PIL image to 256\n",
        "                                      transforms.CenterCrop(224),  # Crops a central square patch of the image\n",
        "                                                                   # 224 because torchvision's AlexNet needs a 224x224 input!\n",
        "                                                                   # Remember this when applying different transformations, otherwise you get an error\n",
        "                                      transforms.ToTensor(), # Turn PIL Image to torch.Tensor\n",
        "                                      transforms.Normalize((0.5, 0.5, 0.5), (0.5, 0.5, 0.5)) # Normalizes tensor with mean and standard deviation\n",
        "])\n",
        "# Define transforms for the evaluation phase\n",
        "eval_transform = transforms.Compose([transforms.Resize(256),\n",
        "                                      transforms.CenterCrop(224),\n",
        "                                      transforms.ToTensor(),\n",
        "                                      transforms.Normalize((0.5, 0.5, 0.5), (0.5, 0.5, 0.5))\n",
        "])"
      ],
      "execution_count": 5,
      "outputs": []
    },
    {
      "cell_type": "markdown",
      "metadata": {
        "id": "2qYIHPzYLY7i"
      },
      "source": [
        "**Prepare Dataset**"
      ]
    },
    {
      "cell_type": "code",
      "source": [
        "from torchvision.datasets import VisionDataset\n",
        "\n",
        "from PIL import Image\n",
        "\n",
        "import os\n",
        "import os.path\n",
        "import sys\n",
        "\n",
        "\n",
        "def pil_loader(path):\n",
        "    # open path as file to avoid ResourceWarning (https://github.com/python-pillow/Pillow/issues/835)\n",
        "    with open(path, 'rb') as f:\n",
        "        img = Image.open(f)\n",
        "        return img.convert('RGB')\n",
        "\n",
        "\n",
        "class Caltech(VisionDataset):\n",
        "    def __init__(self, root, split='train', transform=None, target_transform=None):\n",
        "        super(Caltech, self).__init__(root, transform=transform, target_transform=target_transform)\n",
        "        self.split = split\n",
        "\n",
        "        # Manteniamo traccia di ogni singola label e immagine che abbiamo visto nell'ordine\n",
        "        # in cui l'abbiamo vista.\n",
        "        # Questo ci serve perché quando ci arriva una richiesta di get_item ad un indice specifico\n",
        "        # ci basterà accedere a queste due strutture dati all'indice indicato e prendere il\n",
        "        # rispettivo elemento di immagine e di label.\n",
        "        self.images = []\n",
        "        self.labels = []\n",
        "        # Memorizzaiamo un dizionario che ci serve per memorizzare la corretta associazione tra\n",
        "        # la label categorica (\"cane\") e il numero che indica la classe, per esempio 2.\n",
        "\n",
        "        self.dim=0\n",
        "        self.dizionario = dict()\n",
        "\n",
        "        #andiamo a togliere 101_ObjectCategories e andiamo alla cartella che la contiene\n",
        "        #apriamo il file train o text e da li per ogni riga apro il path dato da\n",
        "        #101_ObjectCategories riga\n",
        "        #Per risalire alla cartella \"parent\" che contiene root, puoi utilizzare la funzione\n",
        "        #os.path.dirname(root). Questa funzione restituisce il percorso della cartella padre\n",
        "        #(superiore) di quella specificata in root.\n",
        "        root = os.path.dirname(root)\n",
        "\n",
        "        self.dizionario = dict()\n",
        "        val_label=-1\n",
        "\n",
        "        #apriamo il file train o text e da li per ongi riga apro il path dato da\n",
        "        #101_ObjectCategories riga\n",
        "        split_file = os.path.join(root, f\"{split}.txt\")\n",
        "        with open(split_file, 'r') as f:\n",
        "          for line in f:\n",
        "              # Per concatenare a root una parte del percorso, puoi utilizzare os.path.join().\n",
        "              # Questa funzione permette di aggiungere in modo sicuro parti di percorso a root,\n",
        "              #tenendo conto dei separatori di cartella per ogni sistema operativo.\n",
        "              label, path = line.strip().split(\"/\")\n",
        "              #devo filtrare background e scartarlo:\n",
        "              if label!=\"BACKGROUND_Google\":\n",
        "                self.dim+=1\n",
        "                #aggiungiamo l'immagine che abbiamo appena aperto.\n",
        "                self.images.append(os.path.join(root, '101_ObjectCategories', label, path))\n",
        "\n",
        "                #devo andare ad aggiungere ad ogni iterazione (index=2 deve corrispondere tra\n",
        "                # images e labels) un elemento dentro labels. Questo elemento deve essere\n",
        "                # il valore numeroco corrispondente alla label che abbiamo trovato per quell'im\n",
        "                #magine.\n",
        "\n",
        "                #problema: come faccio a sapere quale sia il corretto valore di label?\n",
        "                #il fiel ci dice la classe \"cane\", vado dentro il dizionario e vedo se è già\n",
        "                # presente tra le chiavi, se lo è considero il valore corrispondente a qella chiave\n",
        "                # altrimenti aggiungo l'associazione e restituisco il valore nuovo di chiave:\n",
        "\n",
        "                if label not in self.dizionario.keys():\n",
        "                  val_label+=1\n",
        "                  self.dizionario[label]=val_label\n",
        "                #NB: adesso devo prendere la label a partire dal dizionario:\n",
        "                self.labels.append(self.dizionario[label])\n",
        "        '''\n",
        "        - Labels should start from 0, so for Caltech you will have lables 0...100 (excluding the background class)\n",
        "        '''\n",
        "\n",
        "    def __getitem__(self, index):\n",
        "        '''\n",
        "        __getitem__ should access an element through its index\n",
        "        Args:\n",
        "            index (int): Index\n",
        "\n",
        "        Returns:\n",
        "            tuple: (sample, target) where target is class_index of the target class.\n",
        "        '''\n",
        "\n",
        "        image, label = self.images[index], self.labels[index]\n",
        "        image = pil_loader(self.images[index])\n",
        "        # Applies preprocessing when accessing the image\n",
        "        if self.transform is not None:\n",
        "            image = self.transform(image)\n",
        "\n",
        "        return image, self.labels[index]\n",
        "\n",
        "    def __len__(self):\n",
        "        '''\n",
        "        The __len__ method returns the length of the dataset\n",
        "        It is mandatory, as this is used by several other components\n",
        "        '''\n",
        "        length = len(self.images) # Provide a way to get the length (number of elements) of the dataset\n",
        "        return self.dim\n",
        "        #posso anche restituire length e mi esce lo stesso risultato"
      ],
      "metadata": {
        "id": "puqnjPh-2yVf"
      },
      "execution_count": 6,
      "outputs": []
    },
    {
      "cell_type": "markdown",
      "source": [
        "# Divisione training e validation set\n",
        "\n",
        "In questa seziona andiamo ad effettuare la divisione tra training e validation set. L'idea è che ovviamente vogliamo fare in modo che il validation set rispetti il più possibile le diverse etichette dei dati. Ovvero dobbiamo fare in modo che il 25% dei dati di ogni classe venga preso nel validation set.\n",
        "\n",
        "MA QUESTA COSA NON LA DEVO FARE MANUALE: MA CON TRAIN_TEST_SPIT E PASSANDO LO STRATIFY COME PARAMETRO.\n",
        "CHE FA IN MODO CHE PRENDE IL 25% DI OGNI CLASSE."
      ],
      "metadata": {
        "id": "X4cwMr_N6PSZ"
      }
    },
    {
      "cell_type": "code",
      "metadata": {
        "id": "QfVq_uDHLbsR",
        "colab": {
          "base_uri": "https://localhost:8080/"
        },
        "collapsed": true,
        "outputId": "9315e7ab-3cd6-4840-e37f-96e46f0f8ef6"
      },
      "source": [
        "# Clone github repository with data\n",
        "import pathlib\n",
        "print(pathlib.Path().resolve())\n",
        "if not os.path.isdir('./Caltech101'):\n",
        "  !git clone https://github.com/MachineLearning2020/Homework2-Caltech101.git\n",
        "  !mv 'Homework2-Caltech101' 'Caltech101'\n",
        "\n",
        "DATA_DIR = 'Caltech101/101_ObjectCategories'\n",
        "\n",
        "# Prepare Pytorch train/test Datasets\n",
        "train_dataset = Caltech(DATA_DIR, split='train',  transform=train_transform)\n",
        "test_dataset = Caltech(DATA_DIR, split='test', transform=eval_transform)\n",
        "\n",
        "#Dobbiamo splittare il dataset, per esempio 75% e 25%:\n",
        "train_indexes = [] # split the indices for your train split\n",
        "val_indexes = []# split the indices for your val split\n",
        "\n",
        "num_train = len(train_dataset)\n",
        "indices = list(range(num_train))\n",
        "\n",
        "train_indexes, val_indexes = train_test_split(indices, test_size=0.25, random_state=42)\n",
        "\n",
        "val_dataset = Subset(train_dataset, val_indexes)\n",
        "train_dataset = Subset(train_dataset, train_indexes)\n",
        "\n",
        "# Check dataset sizes\n",
        "print('Train Dataset: {}'.format(len(train_dataset)))\n",
        "print('Valid Dataset: {}'.format(len(val_dataset)))\n",
        "print('Test Dataset: {}'.format(len(test_dataset)))"
      ],
      "execution_count": 7,
      "outputs": [
        {
          "output_type": "stream",
          "name": "stdout",
          "text": [
            "/content\n",
            "Cloning into 'Homework2-Caltech101'...\n",
            "remote: Enumerating objects: 9256, done.\u001b[K\n",
            "remote: Total 9256 (delta 0), reused 0 (delta 0), pack-reused 9256 (from 1)\u001b[K\n",
            "Receiving objects: 100% (9256/9256), 129.48 MiB | 15.45 MiB/s, done.\n",
            "Resolving deltas: 100% (4/4), done.\n",
            "Updating files: 100% (9149/9149), done.\n",
            "Train Dataset: 4338\n",
            "Valid Dataset: 1446\n",
            "Test Dataset: 2893\n"
          ]
        }
      ]
    },
    {
      "cell_type": "markdown",
      "source": [
        "# Preparazione dei DataLoader"
      ],
      "metadata": {
        "id": "8ME9d42t618i"
      }
    },
    {
      "cell_type": "code",
      "metadata": {
        "id": "VriRw8SI1nle",
        "colab": {
          "base_uri": "https://localhost:8080/"
        },
        "outputId": "e3123bb6-a66b-44ae-f406-50be51159955"
      },
      "source": [
        "# Dataloaders iterate over pytorch datasets and transparently provide useful functions (e.g. parallelization and shuffling)\n",
        "train_dataloader = DataLoader(train_dataset, batch_size=BATCH_SIZE, shuffle=True, num_workers=4, drop_last=True)\n",
        "val_dataloader = DataLoader(val_dataset, batch_size=BATCH_SIZE, shuffle=False, num_workers=4)\n",
        "test_dataloader = DataLoader(test_dataset, batch_size=BATCH_SIZE, shuffle=False, num_workers=4)"
      ],
      "execution_count": 8,
      "outputs": [
        {
          "output_type": "stream",
          "name": "stderr",
          "text": [
            "/usr/local/lib/python3.10/dist-packages/torch/utils/data/dataloader.py:617: UserWarning: This DataLoader will create 4 worker processes in total. Our suggested max number of worker in current system is 2, which is smaller than what this DataLoader is going to create. Please be aware that excessive worker creation might get DataLoader running slow or even freeze, lower the worker number to avoid potential slowness/freeze if necessary.\n",
            "  warnings.warn(\n"
          ]
        }
      ]
    },
    {
      "cell_type": "markdown",
      "metadata": {
        "id": "gbZ1t5Qs2z4j"
      },
      "source": [
        "**Prepare Network**"
      ]
    },
    {
      "cell_type": "markdown",
      "source": [
        "Abbiamo già una funzione che crea una rete di tipo AlexNet. Tuttabia dobbiamo andare a modifcare il sesto livello di classificazione (fully connected) adattando il numero di neuroni risultato in base al numeor di classi che vogliamo classificare, in questo caso 101."
      ],
      "metadata": {
        "id": "jvFmFal57IFB"
      }
    },
    {
      "cell_type": "code",
      "metadata": {
        "id": "exHUjtXa22DN"
      },
      "source": [
        "net = alexnet() # Loading AlexNet model\n",
        "\n",
        "# AlexNet has 1000 output neurons, corresponding to the 1000 ImageNet's classes\n",
        "# We need 101 outputs for Caltech-101\n",
        "net.classifier[6] = nn.Linear(4096, NUM_CLASSES) # nn.Linear in pytorch is a fully connected layer\n",
        "                                                 # The convolutional layer is nn.Conv2d\n",
        "\n",
        "# We just changed the last layer of AlexNet with a new fully connected layer with 101 outputs\n",
        "# It is strongly suggested to study torchvision.models.alexnet source code"
      ],
      "execution_count": 9,
      "outputs": []
    },
    {
      "cell_type": "markdown",
      "metadata": {
        "id": "KEyL3H_R4qCf"
      },
      "source": [
        "**Prepare Training**"
      ]
    },
    {
      "cell_type": "code",
      "metadata": {
        "id": "9sjq00G94tSc",
        "outputId": "591a54a4-c65a-48d7-c3f7-e9c1ac1a07be",
        "colab": {
          "base_uri": "https://localhost:8080/"
        }
      },
      "source": [
        "# Define loss function\n",
        "criterion = nn.CrossEntropyLoss() # for classification, we use Cross Entropy\n",
        "\n",
        "# Choose parameters to optimize\n",
        "# To access a different set of parameters, you have to access submodules of AlexNet\n",
        "# (nn.Module objects, like AlexNet, implement the Composite Pattern)\n",
        "# e.g.: parameters of the fully connected layers: net.classifier.parameters()\n",
        "# e.g.: parameters of the convolutional layers: look at alexnet's source code ;)\n",
        "parameters_to_optimize = net.parameters() # In this case we optimize over all the parameters of AlexNet\n",
        "\n",
        "# Define optimizer\n",
        "# An optimizer updates the weights based on loss\n",
        "# We use SGD with momentum\n",
        "optimizer = optim.SGD(parameters_to_optimize, lr=LR, momentum=MOMENTUM, weight_decay=WEIGHT_DECAY)\n",
        "\n",
        "# Define scheduler\n",
        "# A scheduler dynamically changes learning rate\n",
        "# The most common schedule is the step(-down), which multiplies learning rate by gamma every STEP_SIZE epochs\n",
        "scheduler = optim.lr_scheduler.StepLR(optimizer, step_size=STEP_SIZE, gamma=GAMMA)\n",
        "print(len(train_dataloader))"
      ],
      "execution_count": 10,
      "outputs": [
        {
          "output_type": "stream",
          "name": "stdout",
          "text": [
            "16\n"
          ]
        }
      ]
    },
    {
      "cell_type": "markdown",
      "source": [
        "Nota che optimizer prende in modo esplicito come primo parametro i parametri che bisogna ottimizzare."
      ],
      "metadata": {
        "id": "XihoyQWjfaAL"
      }
    },
    {
      "cell_type": "markdown",
      "metadata": {
        "id": "AxYUli9d9uYQ"
      },
      "source": [
        "**Train**"
      ]
    },
    {
      "cell_type": "code",
      "metadata": {
        "id": "ZcoQ5fD49yT_",
        "outputId": "8a01814b-26d9-42b1-b448-9d993e207ba2",
        "colab": {
          "base_uri": "https://localhost:8080/"
        }
      },
      "source": [
        "# By default, everything is loaded to cpu\n",
        "net = net.to(DEVICE) # this will bring the network to GPU if DEVICE is cuda\n",
        "\n",
        "cudnn.benchmark # Calling this optimizes runtime\n",
        "\n",
        "current_step = 0\n",
        "\n",
        "# Start iterating over the epochs\n",
        "for epoch in range(NUM_EPOCHS):\n",
        "  print('Starting epoch {}/{}, LR = {}'.format(epoch+1, NUM_EPOCHS, scheduler.get_lr()))\n",
        "\n",
        "  # Iterate over the dataset\n",
        "  for images, labels in train_dataloader:\n",
        "    # Bring data over the device of choice\n",
        "    images = images.to(DEVICE)\n",
        "    labels = labels.to(DEVICE)\n",
        "\n",
        "    net.train() # Sets module in training mode\n",
        "\n",
        "    # PyTorch, by default, accumulates gradients after each backward pass\n",
        "    # We need to manually set the gradients to zero before starting a new iteration\n",
        "    optimizer.zero_grad() # Zero-ing the gradients\n",
        "\n",
        "    # Forward pass to the network\n",
        "    outputs = net(images)\n",
        "\n",
        "    # Compute loss based on output and ground truth\n",
        "    loss = criterion(outputs, labels)\n",
        "\n",
        "    # Log loss\n",
        "    if current_step % LOG_FREQUENCY == 0:\n",
        "      print('Step {}, Loss {}'.format(current_step, loss.item()))\n",
        "\n",
        "    # Compute gradients for each layer and update weights\n",
        "    loss.backward()  # backward pass: computes gradients\n",
        "    optimizer.step() # update weights based on accumulated gradients\n",
        "\n",
        "    current_step += 1\n",
        "    # Step the scheduler\n",
        "    scheduler.step()\n",
        "\n"
      ],
      "execution_count": 11,
      "outputs": [
        {
          "output_type": "stream",
          "name": "stdout",
          "text": [
            "Starting epoch 1/30, LR = [0.001]\n"
          ]
        },
        {
          "output_type": "stream",
          "name": "stderr",
          "text": [
            "/usr/local/lib/python3.10/dist-packages/torch/optim/lr_scheduler.py:536: UserWarning: To get the last learning rate computed by the scheduler, please use `get_last_lr()`.\n",
            "  _warn_get_lr_called_within_step(self)\n"
          ]
        },
        {
          "output_type": "stream",
          "name": "stdout",
          "text": [
            "Step 0, Loss 4.624129295349121\n",
            "Step 10, Loss 4.623075485229492\n",
            "Starting epoch 2/30, LR = [0.001]\n",
            "Step 20, Loss 4.621054172515869\n",
            "Step 30, Loss 4.619911193847656\n",
            "Starting epoch 3/30, LR = [0.0001]\n",
            "Step 40, Loss 4.620139122009277\n",
            "Starting epoch 4/30, LR = [1e-05]\n",
            "Step 50, Loss 4.619336128234863\n",
            "Step 60, Loss 4.62135648727417\n",
            "Starting epoch 5/30, LR = [1.0000000000000002e-06]\n",
            "Step 70, Loss 4.620336055755615\n",
            "Starting epoch 6/30, LR = [1.0000000000000004e-08]\n",
            "Step 80, Loss 4.621083736419678\n",
            "Step 90, Loss 4.62130880355835\n",
            "Starting epoch 7/30, LR = [1.0000000000000002e-07]\n",
            "Step 100, Loss 4.62075662612915\n",
            "Step 110, Loss 4.618371963500977\n",
            "Starting epoch 8/30, LR = [1.0000000000000004e-08]\n",
            "Step 120, Loss 4.619703769683838\n",
            "Starting epoch 9/30, LR = [1.0000000000000005e-09]\n",
            "Step 130, Loss 4.619955062866211\n",
            "Step 140, Loss 4.620415210723877\n",
            "Starting epoch 10/30, LR = [1.0000000000000006e-10]\n",
            "Step 150, Loss 4.6203203201293945\n",
            "Starting epoch 11/30, LR = [1.0000000000000006e-12]\n",
            "Step 160, Loss 4.620136737823486\n",
            "Step 170, Loss 4.620175838470459\n",
            "Starting epoch 12/30, LR = [1.0000000000000006e-11]\n",
            "Step 180, Loss 4.620828628540039\n",
            "Step 190, Loss 4.620192527770996\n",
            "Starting epoch 13/30, LR = [1.0000000000000006e-12]\n",
            "Step 200, Loss 4.621042251586914\n",
            "Starting epoch 14/30, LR = [1.0000000000000007e-13]\n",
            "Step 210, Loss 4.620655059814453\n",
            "Step 220, Loss 4.620896339416504\n",
            "Starting epoch 15/30, LR = [1.0000000000000008e-14]\n",
            "Step 230, Loss 4.621726036071777\n",
            "Starting epoch 16/30, LR = [1.000000000000001e-16]\n",
            "Step 240, Loss 4.6206536293029785\n",
            "Step 250, Loss 4.620574474334717\n",
            "Starting epoch 17/30, LR = [1.0000000000000009e-15]\n",
            "Step 260, Loss 4.620116710662842\n",
            "Step 270, Loss 4.620759010314941\n",
            "Starting epoch 18/30, LR = [1.000000000000001e-16]\n",
            "Step 280, Loss 4.62047815322876\n",
            "Starting epoch 19/30, LR = [1.000000000000001e-17]\n",
            "Step 290, Loss 4.6215410232543945\n",
            "Step 300, Loss 4.619741439819336\n",
            "Starting epoch 20/30, LR = [1.000000000000001e-18]\n",
            "Step 310, Loss 4.6201348304748535\n",
            "Starting epoch 21/30, LR = [1.0000000000000011e-20]\n",
            "Step 320, Loss 4.620563983917236\n",
            "Step 330, Loss 4.6219096183776855\n",
            "Starting epoch 22/30, LR = [1.000000000000001e-19]\n",
            "Step 340, Loss 4.6212077140808105\n",
            "Step 350, Loss 4.620758056640625\n",
            "Starting epoch 23/30, LR = [1.0000000000000011e-20]\n",
            "Step 360, Loss 4.6203413009643555\n",
            "Starting epoch 24/30, LR = [1.0000000000000012e-21]\n",
            "Step 370, Loss 4.620786666870117\n",
            "Step 380, Loss 4.620448112487793\n",
            "Starting epoch 25/30, LR = [1.0000000000000012e-22]\n",
            "Step 390, Loss 4.621462821960449\n",
            "Starting epoch 26/30, LR = [1.0000000000000014e-24]\n",
            "Step 400, Loss 4.620535373687744\n",
            "Step 410, Loss 4.620471477508545\n",
            "Starting epoch 27/30, LR = [1.0000000000000013e-23]\n",
            "Step 420, Loss 4.62057638168335\n",
            "Step 430, Loss 4.621029853820801\n",
            "Starting epoch 28/30, LR = [1.0000000000000014e-24]\n",
            "Step 440, Loss 4.620892524719238\n",
            "Starting epoch 29/30, LR = [1.0000000000000014e-25]\n",
            "Step 450, Loss 4.618851661682129\n",
            "Step 460, Loss 4.620922088623047\n",
            "Starting epoch 30/30, LR = [1.0000000000000015e-26]\n",
            "Step 470, Loss 4.620371341705322\n"
          ]
        }
      ]
    },
    {
      "cell_type": "markdown",
      "source": [
        "# best parameters\n",
        "Andiamo ad usare il validation set per trovare la migliore combinazione di parametri (non iperparametri) della rete.\n",
        "\n",
        "Dopo ogni epoca andimo a vedere i risultti che otteniano per quella epoca, magari considerando l'accuracy e vedo come quella rete (con i parametri attuali) performano sui dati di validation.\n",
        "\n",
        "Tramite il metodo net.state_dict() vado a prendere tutti i parametri della rete."
      ],
      "metadata": {
        "id": "ZK8_owP_-ZZq"
      }
    },
    {
      "cell_type": "code",
      "source": [
        "best_loss = float('inf')\n",
        "best_net = None\n",
        "\n",
        "net = net.to(DEVICE)\n",
        "cudnn.benchmark\n",
        "current_step = 0\n",
        "\n",
        "for epoch in range(NUM_EPOCHS):\n",
        "  print('Starting epoch {}/{}, LR = {}'.format(epoch+1, NUM_EPOCHS, scheduler.get_lr()))\n",
        "\n",
        "  for images, labels in train_dataloader:\n",
        "    images = images.to(DEVICE)\n",
        "    labels = labels.to(DEVICE)\n",
        "    net.train()\n",
        "    optimizer.zero_grad()\n",
        "    outputs = net(images)\n",
        "    loss = criterion(outputs, labels)\n",
        "    if current_step % LOG_FREQUENCY == 0:\n",
        "      print('Step {}, Loss {}'.format(current_step, loss.item()))\n",
        "    loss.backward()\n",
        "    optimizer.step()\n",
        "    current_step += 1\n",
        "    scheduler.step()\n",
        "\n",
        "  #verifico la rete sui dati di validazione:\n",
        "  with torch.no_grad():\n",
        "    for images, labels in val_dataloader:\n",
        "          images = images.to(DEVICE)\n",
        "          labels = labels.to(DEVICE)\n",
        "          net.train()\n",
        "          output=net(images)\n",
        "          loss += criterion(output, labels)\n",
        "\n",
        "  loss = loss/len(val_dataloader)\n",
        "  if loss<best_loss:\n",
        "      best_loss=loss\n",
        "      best_net = net.state_dict()\n",
        "\n",
        "#net.load_state_dict(best_net)"
      ],
      "metadata": {
        "colab": {
          "base_uri": "https://localhost:8080/"
        },
        "id": "0usxR7gu-hcE",
        "outputId": "4a913e75-9f27-4ac3-f760-dedb39c3c9be"
      },
      "execution_count": 12,
      "outputs": [
        {
          "output_type": "stream",
          "name": "stdout",
          "text": [
            "Starting epoch 1/30, LR = [1.0000000000000015e-28]\n",
            "Step 0, Loss 4.6196417808532715\n",
            "Step 10, Loss 4.620029926300049\n",
            "Starting epoch 2/30, LR = [1.0000000000000015e-27]\n",
            "Step 20, Loss 4.620226860046387\n",
            "Step 30, Loss 4.621089935302734\n",
            "Starting epoch 3/30, LR = [1.0000000000000015e-28]\n",
            "Step 40, Loss 4.620354652404785\n",
            "Starting epoch 4/30, LR = [1.0000000000000016e-29]\n",
            "Step 50, Loss 4.620602130889893\n",
            "Step 60, Loss 4.620983123779297\n",
            "Starting epoch 5/30, LR = [1.0000000000000017e-30]\n",
            "Step 70, Loss 4.618955612182617\n",
            "Starting epoch 6/30, LR = [1.0000000000000017e-32]\n",
            "Step 80, Loss 4.62069845199585\n",
            "Step 90, Loss 4.620182037353516\n",
            "Starting epoch 7/30, LR = [1.0000000000000016e-31]\n",
            "Step 100, Loss 4.619753837585449\n",
            "Step 110, Loss 4.619147300720215\n",
            "Starting epoch 8/30, LR = [1.0000000000000017e-32]\n",
            "Step 120, Loss 4.621214389801025\n",
            "Starting epoch 9/30, LR = [1.0000000000000018e-33]\n",
            "Step 130, Loss 4.620014667510986\n",
            "Step 140, Loss 4.620233058929443\n",
            "Starting epoch 10/30, LR = [1.0000000000000019e-34]\n",
            "Step 150, Loss 4.619892120361328\n",
            "Starting epoch 11/30, LR = [1.000000000000002e-36]\n",
            "Step 160, Loss 4.620114803314209\n",
            "Step 170, Loss 4.6199421882629395\n",
            "Starting epoch 12/30, LR = [1.0000000000000019e-35]\n",
            "Step 180, Loss 4.620752334594727\n",
            "Step 190, Loss 4.620184421539307\n",
            "Starting epoch 13/30, LR = [1.000000000000002e-36]\n",
            "Step 200, Loss 4.620421409606934\n",
            "Starting epoch 14/30, LR = [1.000000000000002e-37]\n",
            "Step 210, Loss 4.619657039642334\n",
            "Step 220, Loss 4.620877265930176\n",
            "Starting epoch 15/30, LR = [1.000000000000002e-38]\n",
            "Step 230, Loss 4.621870517730713\n",
            "Starting epoch 16/30, LR = [1.0000000000000022e-40]\n",
            "Step 240, Loss 4.620176792144775\n",
            "Step 250, Loss 4.6196794509887695\n",
            "Starting epoch 17/30, LR = [1.000000000000002e-39]\n",
            "Step 260, Loss 4.620129585266113\n",
            "Step 270, Loss 4.620338439941406\n",
            "Starting epoch 18/30, LR = [1.0000000000000022e-40]\n",
            "Step 280, Loss 4.620797157287598\n",
            "Starting epoch 19/30, LR = [1.0000000000000022e-41]\n",
            "Step 290, Loss 4.620840549468994\n",
            "Step 300, Loss 4.620659351348877\n",
            "Starting epoch 20/30, LR = [1.0000000000000023e-42]\n",
            "Step 310, Loss 4.6209235191345215\n",
            "Starting epoch 21/30, LR = [1.0000000000000023e-44]\n",
            "Step 320, Loss 4.620019435882568\n",
            "Step 330, Loss 4.620238304138184\n",
            "Starting epoch 22/30, LR = [1.0000000000000023e-43]\n",
            "Step 340, Loss 4.620322227478027\n",
            "Step 350, Loss 4.620303630828857\n",
            "Starting epoch 23/30, LR = [1.0000000000000023e-44]\n",
            "Step 360, Loss 4.62030029296875\n",
            "Starting epoch 24/30, LR = [1.0000000000000023e-45]\n",
            "Step 370, Loss 4.621007919311523\n",
            "Step 380, Loss 4.62036657333374\n",
            "Starting epoch 25/30, LR = [1.0000000000000024e-46]\n",
            "Step 390, Loss 4.620630741119385\n",
            "Starting epoch 26/30, LR = [1.0000000000000024e-48]\n",
            "Step 400, Loss 4.620631694793701\n",
            "Step 410, Loss 4.6214518547058105\n",
            "Starting epoch 27/30, LR = [1.0000000000000024e-47]\n",
            "Step 420, Loss 4.620456695556641\n",
            "Step 430, Loss 4.621743202209473\n",
            "Starting epoch 28/30, LR = [1.0000000000000024e-48]\n",
            "Step 440, Loss 4.620975494384766\n",
            "Starting epoch 29/30, LR = [1.0000000000000024e-49]\n",
            "Step 450, Loss 4.62065315246582\n",
            "Step 460, Loss 4.621582984924316\n",
            "Starting epoch 30/30, LR = [1.0000000000000025e-50]\n",
            "Step 470, Loss 4.619297981262207\n"
          ]
        }
      ]
    },
    {
      "cell_type": "markdown",
      "metadata": {
        "id": "UsHFI-GAJd69"
      },
      "source": [
        "# Validation\n",
        "Adesso andiamo ad effettuare il processo di validation, ovvero andiamo a scegliere opportuna i valori degli IPER PARAMETRI DELLA RETE.\n",
        "\n",
        "Per la traccia, dobbiamo effettuare validation almeno per due iperparametri. Di seguito si mostra la validazione per gli iperparametri di lr e epoche.\n",
        "\n",
        "Per effettuare la validazione possiamo considerare una lista di possibili valori per ognuno di questi due iperparametri e poi vedere i risultati per ongi combinazione di questi iperparametri."
      ]
    },
    {
      "cell_type": "code",
      "metadata": {
        "id": "EO3HV5pqJg1o",
        "colab": {
          "base_uri": "https://localhost:8080/"
        },
        "outputId": "cf846147-57e9-4f16-efce-6dfcfdc2c1f7"
      },
      "source": [
        "from itertools import product\n",
        "\n",
        "net = net.to(DEVICE) # this will bring the network to GPU if DEVICE is cuda\n",
        "net.train(False) # Set Network to evaluation mode\n",
        "\n",
        "#Costruisco la lista degli iper parametri che voglio testare:\n",
        "lr = [0.1, 0.01, 0.001, 0.0001]\n",
        "NUM_EPOCHS = [5, 10, 15, 30]\n",
        "best_accuracy = 0\n",
        "best_lr=None\n",
        "best_epochs=None\n",
        "combinations = list(product(lr, NUM_EPOCHS))\n",
        "\n",
        "# Stampare le combinazioni per verificare\n",
        "for lr_val, epoch_val in combinations:\n",
        "  criterion = nn.CrossEntropyLoss()\n",
        "  parameters_to_optimize = net.parameters() # In this case we optimize over all the parameters of AlexNet\n",
        "  optimizer = optim.SGD(parameters_to_optimize, lr=LR, momentum=MOMENTUM, weight_decay=WEIGHT_DECAY)\n",
        "  scheduler = optim.lr_scheduler.StepLR(optimizer, step_size=STEP_SIZE, gamma=GAMMA)\n",
        "\n",
        "  #adesso vediamo come si comporta la rete neurale con questi parametri:\n",
        "  net = net.to(DEVICE) # this will bring the network to GPU if DEVICE is cuda\n",
        "\n",
        "  cudnn.benchmark # Calling this optimizes runtime\n",
        "\n",
        "  current_step = 0\n",
        "  running_corrects = 0\n",
        "    # NOTA CHE DOBBIAMO USARE IL DATASET DI VALIDATION\n",
        "  for images, labels in val_dataloader:\n",
        "      # Bring data over the device of choice\n",
        "      images = images.to(DEVICE)\n",
        "      labels = labels.to(DEVICE)\n",
        "      # Forward Pass\n",
        "      outputs = net(images)\n",
        "      # Get predictions\n",
        "      _, preds = torch.max(outputs.data, 1)\n",
        "      # Update Corrects\n",
        "      running_corrects += torch.sum(preds == labels.data).data.item()\n",
        "    # Calculate Accuracy\n",
        "  accuracy = running_corrects / float(len(val_dataset))\n",
        "  if accuracy>best_accuracy:\n",
        "    best_accuracy = accuracy\n",
        "    best_lr = lr_val\n",
        "    best_epochs = epoch_val\n",
        "\n",
        "\n",
        "print(\"the best accuracy is: \", best_accuracy)\n",
        "print(\"the best parameters of lr, num_epochs are: \", best_lr, \", \", best_epochs)"
      ],
      "execution_count": 13,
      "outputs": [
        {
          "output_type": "stream",
          "name": "stdout",
          "text": [
            "the best accuracy is:  0.10511756569847856\n",
            "the best parameters of lr, num_epochs are:  0.1 ,  5\n"
          ]
        }
      ]
    },
    {
      "cell_type": "markdown",
      "metadata": {
        "id": "jxekmR745ySe"
      },
      "source": [
        "**Test**"
      ]
    },
    {
      "cell_type": "code",
      "metadata": {
        "id": "fSHcUqLB5yWO",
        "colab": {
          "base_uri": "https://localhost:8080/"
        },
        "outputId": "04a1ea1a-2717-47c4-8a01-59591dcbb739"
      },
      "source": [
        "net = net.to(DEVICE) # this will bring the network to GPU if DEVICE is cuda\n",
        "net.train(False) # Set Network to evaluation mode\n",
        "\n",
        "running_corrects = 0\n",
        "for images, labels in tqdm(test_dataloader):\n",
        "  images = images.to(DEVICE)\n",
        "  labels = labels.to(DEVICE)\n",
        "\n",
        "  # Forward Pass\n",
        "  outputs = net(images)\n",
        "\n",
        "  # Get predictions\n",
        "  _, preds = torch.max(outputs.data, 1)\n",
        "\n",
        "  # Update Corrects\n",
        "  running_corrects += torch.sum(preds == labels.data).data.item()\n",
        "\n",
        "# Calculate Accuracy\n",
        "accuracy = running_corrects / float(len(test_dataset))\n",
        "\n",
        "print('Test Accuracy: {}'.format(accuracy))"
      ],
      "execution_count": 14,
      "outputs": [
        {
          "output_type": "stream",
          "name": "stderr",
          "text": [
            "100%|██████████| 12/12 [00:13<00:00,  1.10s/it]"
          ]
        },
        {
          "output_type": "stream",
          "name": "stdout",
          "text": [
            "Test Accuracy: 0.09194607673695127\n"
          ]
        },
        {
          "output_type": "stream",
          "name": "stderr",
          "text": [
            "\n"
          ]
        }
      ]
    },
    {
      "cell_type": "markdown",
      "source": [
        "# Transfer learning\n",
        "\n",
        "Andiamo a congelare i parametri della rete Alexnet trainata su imagenet dataset e modifichiamo l'ultimo livello per considerare il numeor di classi di nostro interesse e addestriamo solo l'ultimo livello fully convolutional."
      ],
      "metadata": {
        "id": "ljfluMH_dRLY"
      }
    },
    {
      "cell_type": "code",
      "source": [
        "import torchvision.models as models\n",
        "\n",
        "alexnet = models.alexnet(pretrained=True)"
      ],
      "metadata": {
        "colab": {
          "base_uri": "https://localhost:8080/"
        },
        "id": "KCY75q08df0t",
        "outputId": "cdf0570e-3c4a-402b-aeaa-1351fd4971c9"
      },
      "execution_count": 15,
      "outputs": [
        {
          "output_type": "stream",
          "name": "stderr",
          "text": [
            "/usr/local/lib/python3.10/dist-packages/torchvision/models/_utils.py:208: UserWarning: The parameter 'pretrained' is deprecated since 0.13 and may be removed in the future, please use 'weights' instead.\n",
            "  warnings.warn(\n",
            "/usr/local/lib/python3.10/dist-packages/torchvision/models/_utils.py:223: UserWarning: Arguments other than a weight enum or `None` for 'weights' are deprecated since 0.13 and may be removed in the future. The current behavior is equivalent to passing `weights=AlexNet_Weights.IMAGENET1K_V1`. You can also use `weights=AlexNet_Weights.DEFAULT` to get the most up-to-date weights.\n",
            "  warnings.warn(msg)\n",
            "Downloading: \"https://download.pytorch.org/models/alexnet-owt-7be5be79.pth\" to /root/.cache/torch/hub/checkpoints/alexnet-owt-7be5be79.pth\n",
            "100%|██████████| 233M/233M [00:01<00:00, 168MB/s]\n"
          ]
        }
      ]
    },
    {
      "cell_type": "markdown",
      "source": [
        "In questo modo stiamo andando a caricare il modello AlexNet con i pesi di ImageNet.\n",
        "\n",
        "Sostituisco l'ultimo livello: nella rete AlexNet erano presenti 1000 classi, a noi ne bastano 102:"
      ],
      "metadata": {
        "id": "MIsOX2efdmqJ"
      }
    },
    {
      "cell_type": "code",
      "source": [
        "num_classes = 102\n",
        "alexnet.classifier[6] = nn.Linear(4096, num_classes)"
      ],
      "metadata": {
        "id": "uFXMywWYd2kX"
      },
      "execution_count": 16,
      "outputs": []
    },
    {
      "cell_type": "markdown",
      "source": [
        " Adesso dobbiamo indicare la volontà di **congelare alcuni parametri** della rete. Per farlo possiamo dichiarare quali parametri della rete non richiedono il calcolo del gradiente."
      ],
      "metadata": {
        "id": "uatYaJmleDXD"
      }
    },
    {
      "cell_type": "code",
      "source": [
        "for param in alexnet.parameters():\n",
        "  param.requires_grad = False"
      ],
      "metadata": {
        "id": "ChcCJ5_-eCjc"
      },
      "execution_count": 17,
      "outputs": []
    },
    {
      "cell_type": "markdown",
      "source": [
        "In questo modo abbiamo congelato tutti i parametri della rete, per indicare invece che alcuni di questi non debbano essere congelati possiamo fare:"
      ],
      "metadata": {
        "id": "roOHXgiHedtL"
      }
    },
    {
      "cell_type": "code",
      "source": [
        "for param in alexnet.classifier[6].parameters():\n",
        "  param.requires_grad = True"
      ],
      "metadata": {
        "id": "x6q3i1L4el3k"
      },
      "execution_count": 18,
      "outputs": []
    },
    {
      "cell_type": "markdown",
      "source": [
        "Adesso dobbiamo configurare l'**ottimizzatore** per indicare che deve addestrare solo i pesi dell'ultimo livello."
      ],
      "metadata": {
        "id": "jN2ZMGaBeu_W"
      }
    },
    {
      "cell_type": "code",
      "source": [
        "optimizer = optim.SGD(alexnet.classifier[6].parameters(), lr=0.001, momentum=0.9)"
      ],
      "metadata": {
        "id": "8E608xvse17f"
      },
      "execution_count": 19,
      "outputs": []
    },
    {
      "cell_type": "markdown",
      "source": [
        "Training della rete."
      ],
      "metadata": {
        "id": "l0WXneQCfwqU"
      }
    },
    {
      "cell_type": "code",
      "source": [
        "# By default, everything is loaded to cpu\n",
        "net = net.to(DEVICE) # this will bring the network to GPU if DEVICE is cuda\n",
        "\n",
        "cudnn.benchmark # Calling this optimizes runtime\n",
        "\n",
        "current_step = 0\n",
        "NUM_EPOCHS = 50 #Adesso il training dovrebbe metterci di meno\n",
        "\n",
        "# Start iterating over the epochs\n",
        "for epoch in range(NUM_EPOCHS):\n",
        "  print('Starting epoch {}/{}, LR = {}'.format(epoch+1, NUM_EPOCHS, scheduler.get_lr()))\n",
        "\n",
        "  # Iterate over the dataset\n",
        "  for images, labels in train_dataloader:\n",
        "    # Bring data over the device of choice\n",
        "    images = images.to(DEVICE)\n",
        "    labels = labels.to(DEVICE)\n",
        "\n",
        "    net.train() # Sets module in training mode\n",
        "\n",
        "    # PyTorch, by default, accumulates gradients after each backward pass\n",
        "    # We need to manually set the gradients to zero before starting a new iteration\n",
        "    optimizer.zero_grad() # Zero-ing the gradients\n",
        "\n",
        "    # Forward pass to the network\n",
        "    outputs = net(images)\n",
        "\n",
        "    # Compute loss based on output and ground truth\n",
        "    loss = criterion(outputs, labels)\n",
        "\n",
        "    # Log loss\n",
        "    if current_step % LOG_FREQUENCY == 0:\n",
        "      print('Step {}, Loss {}'.format(current_step, loss.item()))\n",
        "\n",
        "    # Compute gradients for each layer and update weights\n",
        "    loss.backward()  # backward pass: computes gradients\n",
        "    optimizer.step() # update weights based on accumulated gradients\n",
        "\n",
        "    current_step += 1\n",
        "    # Step the scheduler\n",
        "    scheduler.step()\n",
        "\n"
      ],
      "metadata": {
        "colab": {
          "base_uri": "https://localhost:8080/"
        },
        "id": "jQRQXt5Bfvw3",
        "outputId": "966e2bb3-4b18-452e-efc3-b538ea5da195"
      },
      "execution_count": 20,
      "outputs": [
        {
          "output_type": "stream",
          "name": "stdout",
          "text": [
            "Starting epoch 1/50, LR = [0.001]\n"
          ]
        },
        {
          "output_type": "stream",
          "name": "stderr",
          "text": [
            "/usr/local/lib/python3.10/dist-packages/torch/optim/lr_scheduler.py:536: UserWarning: To get the last learning rate computed by the scheduler, please use `get_last_lr()`.\n",
            "  _warn_get_lr_called_within_step(self)\n",
            "/usr/local/lib/python3.10/dist-packages/torch/utils/data/dataloader.py:617: UserWarning: This DataLoader will create 4 worker processes in total. Our suggested max number of worker in current system is 2, which is smaller than what this DataLoader is going to create. Please be aware that excessive worker creation might get DataLoader running slow or even freeze, lower the worker number to avoid potential slowness/freeze if necessary.\n",
            "  warnings.warn(\n"
          ]
        },
        {
          "output_type": "stream",
          "name": "stdout",
          "text": [
            "Step 0, Loss 4.62130880355835\n"
          ]
        },
        {
          "output_type": "stream",
          "name": "stderr",
          "text": [
            "/usr/local/lib/python3.10/dist-packages/torch/optim/lr_scheduler.py:224: UserWarning: Detected call of `lr_scheduler.step()` before `optimizer.step()`. In PyTorch 1.1.0 and later, you should call them in the opposite order: `optimizer.step()` before `lr_scheduler.step()`.  Failure to do this will result in PyTorch skipping the first value of the learning rate schedule. See more details at https://pytorch.org/docs/stable/optim.html#how-to-adjust-learning-rate\n",
            "  warnings.warn(\n"
          ]
        },
        {
          "output_type": "stream",
          "name": "stdout",
          "text": [
            "Step 10, Loss 4.620553493499756\n",
            "Starting epoch 2/50, LR = [0.001]\n",
            "Step 20, Loss 4.6210713386535645\n",
            "Step 30, Loss 4.6208577156066895\n",
            "Starting epoch 3/50, LR = [0.0001]\n",
            "Step 40, Loss 4.620662689208984\n",
            "Starting epoch 4/50, LR = [1e-05]\n",
            "Step 50, Loss 4.620388507843018\n",
            "Step 60, Loss 4.619309425354004\n",
            "Starting epoch 5/50, LR = [1.0000000000000002e-06]\n",
            "Step 70, Loss 4.620710372924805\n",
            "Starting epoch 6/50, LR = [1.0000000000000004e-08]\n",
            "Step 80, Loss 4.620013236999512\n",
            "Step 90, Loss 4.6202802658081055\n",
            "Starting epoch 7/50, LR = [1.0000000000000002e-07]\n",
            "Step 100, Loss 4.620812892913818\n",
            "Step 110, Loss 4.620631217956543\n",
            "Starting epoch 8/50, LR = [1.0000000000000004e-08]\n",
            "Step 120, Loss 4.621435642242432\n",
            "Starting epoch 9/50, LR = [1.0000000000000005e-09]\n",
            "Step 130, Loss 4.620367050170898\n",
            "Step 140, Loss 4.619601249694824\n",
            "Starting epoch 10/50, LR = [1.0000000000000006e-10]\n",
            "Step 150, Loss 4.6192827224731445\n",
            "Starting epoch 11/50, LR = [1.0000000000000006e-12]\n",
            "Step 160, Loss 4.620167255401611\n",
            "Step 170, Loss 4.6215338706970215\n",
            "Starting epoch 12/50, LR = [1.0000000000000006e-11]\n",
            "Step 180, Loss 4.621471881866455\n",
            "Step 190, Loss 4.619594097137451\n",
            "Starting epoch 13/50, LR = [1.0000000000000006e-12]\n",
            "Step 200, Loss 4.6202545166015625\n",
            "Starting epoch 14/50, LR = [1.0000000000000007e-13]\n",
            "Step 210, Loss 4.6196980476379395\n",
            "Step 220, Loss 4.621048927307129\n",
            "Starting epoch 15/50, LR = [1.0000000000000008e-14]\n",
            "Step 230, Loss 4.620187282562256\n",
            "Starting epoch 16/50, LR = [1.000000000000001e-16]\n",
            "Step 240, Loss 4.620398998260498\n",
            "Step 250, Loss 4.621621131896973\n",
            "Starting epoch 17/50, LR = [1.0000000000000009e-15]\n",
            "Step 260, Loss 4.6210174560546875\n",
            "Step 270, Loss 4.62093448638916\n",
            "Starting epoch 18/50, LR = [1.000000000000001e-16]\n",
            "Step 280, Loss 4.621004581451416\n",
            "Starting epoch 19/50, LR = [1.000000000000001e-17]\n",
            "Step 290, Loss 4.6206207275390625\n",
            "Step 300, Loss 4.618867874145508\n",
            "Starting epoch 20/50, LR = [1.000000000000001e-18]\n",
            "Step 310, Loss 4.619531154632568\n",
            "Starting epoch 21/50, LR = [1.0000000000000011e-20]\n",
            "Step 320, Loss 4.620589733123779\n",
            "Step 330, Loss 4.620056629180908\n",
            "Starting epoch 22/50, LR = [1.000000000000001e-19]\n",
            "Step 340, Loss 4.621201515197754\n",
            "Step 350, Loss 4.6202521324157715\n",
            "Starting epoch 23/50, LR = [1.0000000000000011e-20]\n",
            "Step 360, Loss 4.6222052574157715\n",
            "Starting epoch 24/50, LR = [1.0000000000000012e-21]\n",
            "Step 370, Loss 4.618863582611084\n",
            "Step 380, Loss 4.62023401260376\n",
            "Starting epoch 25/50, LR = [1.0000000000000012e-22]\n",
            "Step 390, Loss 4.61967134475708\n",
            "Starting epoch 26/50, LR = [1.0000000000000014e-24]\n",
            "Step 400, Loss 4.622159004211426\n",
            "Step 410, Loss 4.619565010070801\n",
            "Starting epoch 27/50, LR = [1.0000000000000013e-23]\n",
            "Step 420, Loss 4.619759559631348\n",
            "Step 430, Loss 4.62027645111084\n",
            "Starting epoch 28/50, LR = [1.0000000000000014e-24]\n",
            "Step 440, Loss 4.620465278625488\n",
            "Starting epoch 29/50, LR = [1.0000000000000014e-25]\n",
            "Step 450, Loss 4.621384620666504\n",
            "Step 460, Loss 4.620819568634033\n",
            "Starting epoch 30/50, LR = [1.0000000000000015e-26]\n",
            "Step 470, Loss 4.620184421539307\n",
            "Starting epoch 31/50, LR = [1.0000000000000015e-28]\n",
            "Step 480, Loss 4.621692657470703\n",
            "Step 490, Loss 4.620136260986328\n",
            "Starting epoch 32/50, LR = [1.0000000000000015e-27]\n",
            "Step 500, Loss 4.620634078979492\n",
            "Step 510, Loss 4.619448661804199\n",
            "Starting epoch 33/50, LR = [1.0000000000000015e-28]\n",
            "Step 520, Loss 4.620299816131592\n",
            "Starting epoch 34/50, LR = [1.0000000000000016e-29]\n",
            "Step 530, Loss 4.6201252937316895\n",
            "Step 540, Loss 4.620436191558838\n",
            "Starting epoch 35/50, LR = [1.0000000000000017e-30]\n",
            "Step 550, Loss 4.620434284210205\n",
            "Starting epoch 36/50, LR = [1.0000000000000017e-32]\n",
            "Step 560, Loss 4.619681358337402\n",
            "Step 570, Loss 4.621058940887451\n",
            "Starting epoch 37/50, LR = [1.0000000000000016e-31]\n",
            "Step 580, Loss 4.6200666427612305\n",
            "Step 590, Loss 4.621527671813965\n",
            "Starting epoch 38/50, LR = [1.0000000000000017e-32]\n",
            "Step 600, Loss 4.620331287384033\n",
            "Starting epoch 39/50, LR = [1.0000000000000018e-33]\n",
            "Step 610, Loss 4.6188859939575195\n",
            "Step 620, Loss 4.620691299438477\n",
            "Starting epoch 40/50, LR = [1.0000000000000019e-34]\n",
            "Step 630, Loss 4.621820449829102\n",
            "Starting epoch 41/50, LR = [1.000000000000002e-36]\n",
            "Step 640, Loss 4.620578289031982\n",
            "Step 650, Loss 4.620774269104004\n",
            "Starting epoch 42/50, LR = [1.0000000000000019e-35]\n",
            "Step 660, Loss 4.619080543518066\n",
            "Step 670, Loss 4.619414329528809\n",
            "Starting epoch 43/50, LR = [1.000000000000002e-36]\n",
            "Step 680, Loss 4.6205058097839355\n",
            "Starting epoch 44/50, LR = [1.000000000000002e-37]\n",
            "Step 690, Loss 4.6210551261901855\n",
            "Step 700, Loss 4.6195292472839355\n",
            "Starting epoch 45/50, LR = [1.000000000000002e-38]\n",
            "Step 710, Loss 4.619328022003174\n",
            "Starting epoch 46/50, LR = [1.0000000000000022e-40]\n",
            "Step 720, Loss 4.620383262634277\n",
            "Step 730, Loss 4.620356559753418\n",
            "Starting epoch 47/50, LR = [1.000000000000002e-39]\n",
            "Step 740, Loss 4.620364189147949\n",
            "Step 750, Loss 4.620636463165283\n",
            "Starting epoch 48/50, LR = [1.0000000000000022e-40]\n",
            "Step 760, Loss 4.620924949645996\n",
            "Starting epoch 49/50, LR = [1.0000000000000022e-41]\n",
            "Step 770, Loss 4.620250701904297\n",
            "Step 780, Loss 4.620398998260498\n",
            "Starting epoch 50/50, LR = [1.0000000000000023e-42]\n",
            "Step 790, Loss 4.6222825050354\n"
          ]
        }
      ]
    },
    {
      "cell_type": "markdown",
      "source": [
        "Test:"
      ],
      "metadata": {
        "id": "bjPupQnQj2mz"
      }
    },
    {
      "cell_type": "code",
      "source": [
        "net = net.to(DEVICE) # this will bring the network to GPU if DEVICE is cuda\n",
        "net.train(False) # Set Network to evaluation mode\n",
        "\n",
        "running_corrects = 0\n",
        "for images, labels in tqdm(test_dataloader):\n",
        "  images = images.to(DEVICE)\n",
        "  labels = labels.to(DEVICE)\n",
        "\n",
        "  # Forward Pass\n",
        "  outputs = net(images)\n",
        "\n",
        "  # Get predictions\n",
        "  _, preds = torch.max(outputs.data, 1)\n",
        "\n",
        "  # Update Corrects\n",
        "  running_corrects += torch.sum(preds == labels.data).data.item()\n",
        "\n",
        "# Calculate Accuracy\n",
        "accuracy = running_corrects / float(len(test_dataset))\n",
        "\n",
        "print('Test Accuracy: {}'.format(accuracy))"
      ],
      "metadata": {
        "colab": {
          "base_uri": "https://localhost:8080/"
        },
        "id": "X5d46z5Tj7UK",
        "outputId": "b4656996-43b4-4c39-fbd4-b3ef8633f136"
      },
      "execution_count": 21,
      "outputs": [
        {
          "output_type": "stream",
          "name": "stderr",
          "text": [
            "\r  0%|          | 0/12 [00:00<?, ?it/s]/usr/local/lib/python3.10/dist-packages/torch/utils/data/dataloader.py:617: UserWarning: This DataLoader will create 4 worker processes in total. Our suggested max number of worker in current system is 2, which is smaller than what this DataLoader is going to create. Please be aware that excessive worker creation might get DataLoader running slow or even freeze, lower the worker number to avoid potential slowness/freeze if necessary.\n",
            "  warnings.warn(\n",
            "100%|██████████| 12/12 [00:11<00:00,  1.01it/s]\n"
          ]
        },
        {
          "output_type": "stream",
          "name": "stdout",
          "text": [
            "Test Accuracy: 0.09194607673695127\n"
          ]
        }
      ]
    },
    {
      "cell_type": "markdown",
      "source": [
        "# train only the convolutional layers\n",
        "\n",
        "Chiaramente non ha molto senso."
      ],
      "metadata": {
        "id": "sWWugWbalkgV"
      }
    },
    {
      "cell_type": "code",
      "source": [
        "import torchvision.models as models\n",
        "alexnet = models.alexnet(pretrained=True)\n",
        "num_classes = 102\n",
        "alexnet.classifier[6] = nn.Linear(4096, num_classes)\n",
        "for param in alexnet.classifier.parameters():\n",
        "  param.requires_grad = False\n"
      ],
      "metadata": {
        "colab": {
          "base_uri": "https://localhost:8080/"
        },
        "id": "_WhEdhNBlrnc",
        "outputId": "0c3844f4-ed39-4b09-dc92-6e17c61abff0"
      },
      "execution_count": 22,
      "outputs": [
        {
          "output_type": "stream",
          "name": "stderr",
          "text": [
            "/usr/local/lib/python3.10/dist-packages/torchvision/models/_utils.py:208: UserWarning: The parameter 'pretrained' is deprecated since 0.13 and may be removed in the future, please use 'weights' instead.\n",
            "  warnings.warn(\n",
            "/usr/local/lib/python3.10/dist-packages/torchvision/models/_utils.py:223: UserWarning: Arguments other than a weight enum or `None` for 'weights' are deprecated since 0.13 and may be removed in the future. The current behavior is equivalent to passing `weights=AlexNet_Weights.IMAGENET1K_V1`. You can also use `weights=AlexNet_Weights.DEFAULT` to get the most up-to-date weights.\n",
            "  warnings.warn(msg)\n"
          ]
        }
      ]
    },
    {
      "cell_type": "markdown",
      "source": [
        "In questo modo congeliamo tutti i livelli, tranne quelli convoluzionali.\n",
        "\n",
        "Nota che features (alexnet) indica i livelli convoluzionali e classifier quelli FC."
      ],
      "metadata": {
        "id": "xwf0_So5mnKv"
      }
    },
    {
      "cell_type": "code",
      "source": [
        "optimizer = optim.SGD(alexnet.features.parameters(), lr=0.001, momentum=0.9)"
      ],
      "metadata": {
        "id": "K2IepoAmmrYc"
      },
      "execution_count": 23,
      "outputs": []
    },
    {
      "cell_type": "markdown",
      "source": [
        "Train"
      ],
      "metadata": {
        "id": "G4MCxZSCm_di"
      }
    },
    {
      "cell_type": "code",
      "source": [
        "# By default, everything is loaded to cpu\n",
        "net = net.to(DEVICE) # this will bring the network to GPU if DEVICE is cuda\n",
        "\n",
        "cudnn.benchmark # Calling this optimizes runtime\n",
        "\n",
        "current_step = 0\n",
        "NUM_EPOCHS = 50 #Adesso il training dovrebbe metterci di meno\n",
        "\n",
        "# Start iterating over the epochs\n",
        "for epoch in range(NUM_EPOCHS):\n",
        "  print('Starting epoch {}/{}, LR = {}'.format(epoch+1, NUM_EPOCHS, scheduler.get_lr()))\n",
        "\n",
        "  # Iterate over the dataset\n",
        "  for images, labels in train_dataloader:\n",
        "    # Bring data over the device of choice\n",
        "    images = images.to(DEVICE)\n",
        "    labels = labels.to(DEVICE)\n",
        "\n",
        "    net.train() # Sets module in training mode\n",
        "\n",
        "    # PyTorch, by default, accumulates gradients after each backward pass\n",
        "    # We need to manually set the gradients to zero before starting a new iteration\n",
        "    optimizer.zero_grad() # Zero-ing the gradients\n",
        "\n",
        "    # Forward pass to the network\n",
        "    outputs = net(images)\n",
        "\n",
        "    # Compute loss based on output and ground truth\n",
        "    loss = criterion(outputs, labels)\n",
        "\n",
        "    # Log loss\n",
        "    if current_step % LOG_FREQUENCY == 0:\n",
        "      print('Step {}, Loss {}'.format(current_step, loss.item()))\n",
        "\n",
        "    # Compute gradients for each layer and update weights\n",
        "    loss.backward()  # backward pass: computes gradients\n",
        "    optimizer.step() # update weights based on accumulated gradients\n",
        "\n",
        "    current_step += 1\n",
        "    # Step the scheduler\n",
        "    scheduler.step()"
      ],
      "metadata": {
        "colab": {
          "base_uri": "https://localhost:8080/"
        },
        "id": "ShXO-qC0nAXk",
        "outputId": "4cde157d-d20c-415e-ba0a-a6a6a451bc62"
      },
      "execution_count": 24,
      "outputs": [
        {
          "output_type": "stream",
          "name": "stdout",
          "text": [
            "Starting epoch 1/50, LR = [1.0000000000000023e-44]\n"
          ]
        },
        {
          "output_type": "stream",
          "name": "stderr",
          "text": [
            "/usr/local/lib/python3.10/dist-packages/torch/optim/lr_scheduler.py:536: UserWarning: To get the last learning rate computed by the scheduler, please use `get_last_lr()`.\n",
            "  _warn_get_lr_called_within_step(self)\n"
          ]
        },
        {
          "output_type": "stream",
          "name": "stdout",
          "text": [
            "Step 0, Loss 4.620827674865723\n",
            "Step 10, Loss 4.620779037475586\n",
            "Starting epoch 2/50, LR = [1.0000000000000023e-43]\n",
            "Step 20, Loss 4.620221138000488\n",
            "Step 30, Loss 4.620880126953125\n",
            "Starting epoch 3/50, LR = [1.0000000000000023e-44]\n",
            "Step 40, Loss 4.61909294128418\n",
            "Starting epoch 4/50, LR = [1.0000000000000023e-45]\n",
            "Step 50, Loss 4.62114143371582\n",
            "Step 60, Loss 4.620404243469238\n",
            "Starting epoch 5/50, LR = [1.0000000000000024e-46]\n",
            "Step 70, Loss 4.621490955352783\n",
            "Starting epoch 6/50, LR = [1.0000000000000024e-48]\n",
            "Step 80, Loss 4.619937419891357\n",
            "Step 90, Loss 4.622231960296631\n",
            "Starting epoch 7/50, LR = [1.0000000000000024e-47]\n",
            "Step 100, Loss 4.621486663818359\n",
            "Step 110, Loss 4.6214470863342285\n",
            "Starting epoch 8/50, LR = [1.0000000000000024e-48]\n",
            "Step 120, Loss 4.620641231536865\n",
            "Starting epoch 9/50, LR = [1.0000000000000024e-49]\n",
            "Step 130, Loss 4.6204681396484375\n",
            "Step 140, Loss 4.62028169631958\n",
            "Starting epoch 10/50, LR = [1.0000000000000025e-50]\n",
            "Step 150, Loss 4.620040416717529\n",
            "Starting epoch 11/50, LR = [1.0000000000000026e-52]\n",
            "Step 160, Loss 4.621216773986816\n",
            "Step 170, Loss 4.619740962982178\n",
            "Starting epoch 12/50, LR = [1.0000000000000025e-51]\n",
            "Step 180, Loss 4.62076997756958\n",
            "Step 190, Loss 4.620366096496582\n",
            "Starting epoch 13/50, LR = [1.0000000000000026e-52]\n",
            "Step 200, Loss 4.619982719421387\n",
            "Starting epoch 14/50, LR = [1.0000000000000027e-53]\n",
            "Step 210, Loss 4.62031364440918\n",
            "Step 220, Loss 4.620192527770996\n",
            "Starting epoch 15/50, LR = [1.0000000000000028e-54]\n",
            "Step 230, Loss 4.619699001312256\n",
            "Starting epoch 16/50, LR = [1.000000000000003e-56]\n",
            "Step 240, Loss 4.62116003036499\n",
            "Step 250, Loss 4.620323181152344\n",
            "Starting epoch 17/50, LR = [1.0000000000000029e-55]\n",
            "Step 260, Loss 4.620697021484375\n",
            "Step 270, Loss 4.618702411651611\n",
            "Starting epoch 18/50, LR = [1.000000000000003e-56]\n",
            "Step 280, Loss 4.619029521942139\n",
            "Starting epoch 19/50, LR = [1.000000000000003e-57]\n",
            "Step 290, Loss 4.620610237121582\n",
            "Step 300, Loss 4.619521617889404\n",
            "Starting epoch 20/50, LR = [1.0000000000000032e-58]\n",
            "Step 310, Loss 4.620453357696533\n",
            "Starting epoch 21/50, LR = [1.0000000000000034e-60]\n",
            "Step 320, Loss 4.61958646774292\n",
            "Step 330, Loss 4.620385646820068\n",
            "Starting epoch 22/50, LR = [1.0000000000000033e-59]\n",
            "Step 340, Loss 4.6207275390625\n",
            "Step 350, Loss 4.62080192565918\n",
            "Starting epoch 23/50, LR = [1.0000000000000034e-60]\n",
            "Step 360, Loss 4.620760440826416\n",
            "Starting epoch 24/50, LR = [1.0000000000000035e-61]\n",
            "Step 370, Loss 4.620541095733643\n",
            "Step 380, Loss 4.619070529937744\n",
            "Starting epoch 25/50, LR = [1.0000000000000035e-62]\n",
            "Step 390, Loss 4.620543003082275\n",
            "Starting epoch 26/50, LR = [1.0000000000000037e-64]\n",
            "Step 400, Loss 4.620253562927246\n",
            "Step 410, Loss 4.620144367218018\n",
            "Starting epoch 27/50, LR = [1.0000000000000036e-63]\n",
            "Step 420, Loss 4.620619773864746\n",
            "Step 430, Loss 4.620540618896484\n",
            "Starting epoch 28/50, LR = [1.0000000000000037e-64]\n",
            "Step 440, Loss 4.620914936065674\n",
            "Starting epoch 29/50, LR = [1.0000000000000037e-65]\n",
            "Step 450, Loss 4.621640205383301\n",
            "Step 460, Loss 4.621706008911133\n",
            "Starting epoch 30/50, LR = [1.0000000000000038e-66]\n",
            "Step 470, Loss 4.621377468109131\n",
            "Starting epoch 31/50, LR = [1.000000000000004e-68]\n",
            "Step 480, Loss 4.620151996612549\n",
            "Step 490, Loss 4.621042728424072\n",
            "Starting epoch 32/50, LR = [1.0000000000000039e-67]\n",
            "Step 500, Loss 4.620515823364258\n",
            "Step 510, Loss 4.62011194229126\n",
            "Starting epoch 33/50, LR = [1.000000000000004e-68]\n",
            "Step 520, Loss 4.6194963455200195\n",
            "Starting epoch 34/50, LR = [1.0000000000000041e-69]\n",
            "Step 530, Loss 4.620129585266113\n",
            "Step 540, Loss 4.621123790740967\n",
            "Starting epoch 35/50, LR = [1.0000000000000042e-70]\n",
            "Step 550, Loss 4.620112895965576\n",
            "Starting epoch 36/50, LR = [1.0000000000000042e-72]\n",
            "Step 560, Loss 4.6212382316589355\n",
            "Step 570, Loss 4.6206746101379395\n",
            "Starting epoch 37/50, LR = [1.0000000000000041e-71]\n",
            "Step 580, Loss 4.620933532714844\n",
            "Step 590, Loss 4.620616436004639\n",
            "Starting epoch 38/50, LR = [1.0000000000000042e-72]\n",
            "Step 600, Loss 4.620372295379639\n",
            "Starting epoch 39/50, LR = [1.0000000000000042e-73]\n",
            "Step 610, Loss 4.620828151702881\n",
            "Step 620, Loss 4.620478630065918\n",
            "Starting epoch 40/50, LR = [1.0000000000000043e-74]\n",
            "Step 630, Loss 4.619232654571533\n",
            "Starting epoch 41/50, LR = [1.0000000000000044e-76]\n",
            "Step 640, Loss 4.62009334564209\n",
            "Step 650, Loss 4.620108604431152\n",
            "Starting epoch 42/50, LR = [1.0000000000000044e-75]\n",
            "Step 660, Loss 4.620619297027588\n",
            "Step 670, Loss 4.619682312011719\n",
            "Starting epoch 43/50, LR = [1.0000000000000044e-76]\n",
            "Step 680, Loss 4.620063781738281\n",
            "Starting epoch 44/50, LR = [1.0000000000000043e-77]\n",
            "Step 690, Loss 4.620962142944336\n",
            "Step 700, Loss 4.620553493499756\n",
            "Starting epoch 45/50, LR = [1.0000000000000044e-78]\n",
            "Step 710, Loss 4.62152099609375\n",
            "Starting epoch 46/50, LR = [1.0000000000000045e-80]\n",
            "Step 720, Loss 4.6205267906188965\n",
            "Step 730, Loss 4.619901657104492\n",
            "Starting epoch 47/50, LR = [1.0000000000000045e-79]\n",
            "Step 740, Loss 4.619795799255371\n",
            "Step 750, Loss 4.620804309844971\n",
            "Starting epoch 48/50, LR = [1.0000000000000045e-80]\n",
            "Step 760, Loss 4.622221946716309\n",
            "Starting epoch 49/50, LR = [1.0000000000000045e-81]\n",
            "Step 770, Loss 4.619871616363525\n",
            "Step 780, Loss 4.620100975036621\n",
            "Starting epoch 50/50, LR = [1.0000000000000046e-82]\n",
            "Step 790, Loss 4.618982315063477\n"
          ]
        }
      ]
    },
    {
      "cell_type": "markdown",
      "source": [
        "Test"
      ],
      "metadata": {
        "id": "kP3oWjmhnPf1"
      }
    },
    {
      "cell_type": "code",
      "source": [
        "net = net.to(DEVICE) # this will bring the network to GPU if DEVICE is cuda\n",
        "net.train(False) # Set Network to evaluation mode\n",
        "\n",
        "running_corrects = 0\n",
        "for images, labels in tqdm(test_dataloader):\n",
        "  images = images.to(DEVICE)\n",
        "  labels = labels.to(DEVICE)\n",
        "\n",
        "  # Forward Pass\n",
        "  outputs = net(images)\n",
        "\n",
        "  # Get predictions\n",
        "  _, preds = torch.max(outputs.data, 1)\n",
        "\n",
        "  # Update Corrects\n",
        "  running_corrects += torch.sum(preds == labels.data).data.item()\n",
        "\n",
        "# Calculate Accuracy\n",
        "accuracy = running_corrects / float(len(test_dataset))\n",
        "\n",
        "print('Test Accuracy: {}'.format(accuracy))"
      ],
      "metadata": {
        "colab": {
          "base_uri": "https://localhost:8080/"
        },
        "id": "nwOJjLBMnQrh",
        "outputId": "ce96a73d-b926-4611-98e0-7bdf9b415783"
      },
      "execution_count": 25,
      "outputs": [
        {
          "output_type": "stream",
          "name": "stderr",
          "text": [
            "\r  0%|          | 0/12 [00:00<?, ?it/s]/usr/local/lib/python3.10/dist-packages/torch/utils/data/dataloader.py:617: UserWarning: This DataLoader will create 4 worker processes in total. Our suggested max number of worker in current system is 2, which is smaller than what this DataLoader is going to create. Please be aware that excessive worker creation might get DataLoader running slow or even freeze, lower the worker number to avoid potential slowness/freeze if necessary.\n",
            "  warnings.warn(\n",
            "100%|██████████| 12/12 [00:10<00:00,  1.20it/s]"
          ]
        },
        {
          "output_type": "stream",
          "name": "stdout",
          "text": [
            "Test Accuracy: 0.09194607673695127\n"
          ]
        },
        {
          "output_type": "stream",
          "name": "stderr",
          "text": [
            "\n"
          ]
        }
      ]
    },
    {
      "cell_type": "markdown",
      "source": [
        "# Data augmentation\n",
        "\n",
        "Andiamo ad effettuare delle operazioni di capovolgimento dell'immagine o operazioni sui colori, combiniamoli assieme e otteniamo delle nuove immagini trasformate. Aggiungiamo queste immagini al dataset ed effettuiamo il training su un dataset \"aumentato\"."
      ],
      "metadata": {
        "id": "-6uTjgH8nyF-"
      }
    },
    {
      "cell_type": "code",
      "source": [
        "import torch\n",
        "from torchvision.transforms import v2\n",
        "\n",
        "color_jitter = transforms.ColorJitter(\n",
        "    brightness=0.5,  # Fattore di luminosità (0 è nero, 1 è invariato, valori >1 aumentano la luminosità)\n",
        "    contrast=0.5,    # Fattore di contrasto (0 è un'immagine grigia uniforme, 1 è invariato)\n",
        "    saturation=0.5,  # Fattore di saturazione (0 è in bianco e nero, 1 è invariato)\n",
        "    hue=0.1          # Spostamento della tonalità (da -0.5 a 0.5)\n",
        ")\n",
        "\n",
        "augmentation_transform =  transforms.Compose([\n",
        "    color_jitter,\n",
        "    transforms.RandomHorizontalFlip(p=0.5),\n",
        "    transforms.Resize(256),\n",
        "    transforms.CenterCrop(224),\n",
        "    transforms.ToTensor(),\n",
        "    transforms.Normalize((0.5, 0.5, 0.5), (0.5, 0.5, 0.5))\n",
        "])\n",
        "\n",
        "train_transform = transforms.Compose([transforms.Resize(256),      # Resizes short size of the PIL image to 256\n",
        "                                      transforms.CenterCrop(224),  # Crops a central square patch of the image\n",
        "                                                                   # 224 because torchvision's AlexNet needs a 224x224 input!\n",
        "                                                                   # Remember this when applying different transformations, otherwise you get an error\n",
        "                                      transforms.ToTensor(), # Turn PIL Image to torch.Tensor\n",
        "                                      transforms.Normalize((0.5, 0.5, 0.5), (0.5, 0.5, 0.5)) # Normalizes tensor with mean and standard deviation\n",
        "])"
      ],
      "metadata": {
        "id": "7myJHiaqpy3A"
      },
      "execution_count": 57,
      "outputs": []
    },
    {
      "cell_type": "markdown",
      "source": [
        "Ricorda che la dimensione effettiva delle immagini deve essere la stessa, per evitare problemi considero le operazioni di data aumentation aggiunte alle canoniche operazioni di trasformazione."
      ],
      "metadata": {
        "id": "x7yrve-BxOdb"
      }
    },
    {
      "cell_type": "code",
      "source": [
        "# Clone github repository with data\n",
        "from torch.utils.data import ConcatDataset\n",
        "import pathlib\n",
        "print(pathlib.Path().resolve())\n",
        "if not os.path.isdir('./Caltech101'):\n",
        "  !git clone https://github.com/MachineLearning2020/Homework2-Caltech101.git\n",
        "  !mv 'Homework2-Caltech101' 'Caltech101'\n",
        "\n",
        "DATA_DIR = 'Caltech101/101_ObjectCategories'\n",
        "\n",
        "# Prepare Pytorch train/test Datasets\n",
        "train_dataset_original = Caltech(DATA_DIR, split='train',  transform=train_transform)\n",
        "train_dataset_augmented = Caltech(DATA_DIR, split='train',  transform=augmentation_transform)\n",
        "train_dataset = ConcatDataset([train_dataset_original, train_dataset_augmented])\n",
        "\n",
        "test_dataset = Caltech(DATA_DIR, split='test', transform=eval_transform)\n",
        "\n",
        "#Dobbiamo splittare il dataset, per esempio 75% e 25%:\n",
        "train_indexes = [] # split the indices for your train split\n",
        "val_indexes = []# split the indices for your val split\n",
        "\n",
        "num_train = len(train_dataset)\n",
        "indices = list(range(num_train))\n",
        "\n",
        "train_indexes, val_indexes = train_test_split(indices, test_size=0.25, random_state=42)\n",
        "\n",
        "val_dataset = Subset(train_dataset, val_indexes)\n",
        "train_dataset = Subset(train_dataset, train_indexes)\n",
        "\n",
        "# Check dataset sizes\n",
        "print('Train Dataset: {}'.format(len(train_dataset)))\n",
        "print('Valid Dataset: {}'.format(len(val_dataset)))\n",
        "print('Test Dataset: {}'.format(len(test_dataset)))"
      ],
      "metadata": {
        "colab": {
          "base_uri": "https://localhost:8080/"
        },
        "id": "BQWTe-ZwrqyB",
        "outputId": "420dd582-423c-4ebd-b5a4-ef1e6dcab52e"
      },
      "execution_count": 58,
      "outputs": [
        {
          "output_type": "stream",
          "name": "stdout",
          "text": [
            "/content\n",
            "Train Dataset: 8676\n",
            "Valid Dataset: 2892\n",
            "Test Dataset: 2893\n"
          ]
        }
      ]
    },
    {
      "cell_type": "markdown",
      "source": [
        "In questo modo:\n",
        "\n",
        "train_dataset_original = Caltech(DATA_DIR, split='train',  transform=train_transform)\n",
        "\n",
        "\n",
        "train_dataset_augmented = Caltech(DATA_DIR, split='train',  transform=augmentation_transform)\n",
        "\n",
        "\n",
        "train_dataset = ConcatDataset([train_dataset_original, train_dataset_augmented])\n",
        "\n",
        "\n",
        "Stiamo creando due dataset: quello originale e quello aumentato e poi li concateniamo."
      ],
      "metadata": {
        "id": "Ydz9D7RZtcoo"
      }
    },
    {
      "cell_type": "code",
      "source": [
        "# Dataloaders iterate over pytorch datasets and transparently provide useful functions (e.g. parallelization and shuffling)\n",
        "train_dataloader = DataLoader(train_dataset, batch_size=BATCH_SIZE, shuffle=True, num_workers=4, drop_last=True)\n",
        "val_dataloader = DataLoader(val_dataset, batch_size=BATCH_SIZE, shuffle=False, num_workers=4)\n",
        "test_dataloader = DataLoader(test_dataset, batch_size=BATCH_SIZE, shuffle=False, num_workers=4)"
      ],
      "metadata": {
        "colab": {
          "base_uri": "https://localhost:8080/"
        },
        "id": "XqAUpT0_tfj_",
        "outputId": "30ab7585-c819-4457-dff3-d08322a29524"
      },
      "execution_count": 59,
      "outputs": [
        {
          "output_type": "stream",
          "name": "stderr",
          "text": [
            "/usr/local/lib/python3.10/dist-packages/torch/utils/data/dataloader.py:617: UserWarning: This DataLoader will create 4 worker processes in total. Our suggested max number of worker in current system is 2, which is smaller than what this DataLoader is going to create. Please be aware that excessive worker creation might get DataLoader running slow or even freeze, lower the worker number to avoid potential slowness/freeze if necessary.\n",
            "  warnings.warn(\n"
          ]
        }
      ]
    },
    {
      "cell_type": "code",
      "source": [
        "#net = alexnet()\n",
        "net.classifier[6] = nn.Linear(4096, NUM_CLASSES)"
      ],
      "metadata": {
        "id": "p-pnSvFFuEVQ"
      },
      "execution_count": 60,
      "outputs": []
    },
    {
      "cell_type": "code",
      "source": [
        "# Define loss function\n",
        "criterion = nn.CrossEntropyLoss()\n",
        "parameters_to_optimize = net.parameters()\n",
        "optimizer = optim.SGD(parameters_to_optimize, lr=LR, momentum=MOMENTUM, weight_decay=WEIGHT_DECAY)\n",
        "scheduler = optim.lr_scheduler.StepLR(optimizer, step_size=STEP_SIZE, gamma=GAMMA)\n",
        "print(len(train_dataloader))\n"
      ],
      "metadata": {
        "colab": {
          "base_uri": "https://localhost:8080/"
        },
        "id": "Q_6XYrRfuixQ",
        "outputId": "9f10be8d-d8e5-4a03-d162-96d298a80ba9"
      },
      "execution_count": 61,
      "outputs": [
        {
          "output_type": "stream",
          "name": "stdout",
          "text": [
            "33\n"
          ]
        }
      ]
    },
    {
      "cell_type": "code",
      "source": [
        "\n",
        "# By default, everything is loaded to cpu\n",
        "net = net.to(DEVICE) # this will bring the network to GPU if DEVICE is cuda\n",
        "\n",
        "cudnn.benchmark # Calling this optimizes runtime\n",
        "\n",
        "current_step = 0\n",
        "\n",
        "# Start iterating over the epochs\n",
        "for epoch in range(NUM_EPOCHS):\n",
        "  print('Starting epoch {}/{}, LR = {}'.format(epoch+1, NUM_EPOCHS, scheduler.get_lr()))\n",
        "\n",
        "  # Iterate over the dataset\n",
        "  for images, labels in train_dataloader:\n",
        "    # Bring data over the device of choice\n",
        "    images = images.to(DEVICE)\n",
        "    labels = labels.to(DEVICE)\n",
        "\n",
        "    net.train() # Sets module in training mode\n",
        "\n",
        "    # PyTorch, by default, accumulates gradients after each backward pass\n",
        "    # We need to manually set the gradients to zero before starting a new iteration\n",
        "    optimizer.zero_grad() # Zero-ing the gradients\n",
        "\n",
        "    # Forward pass to the network\n",
        "    outputs = net(images)\n",
        "\n",
        "    # Compute loss based on output and ground truth\n",
        "    loss = criterion(outputs, labels)\n",
        "\n",
        "    # Log loss\n",
        "    if current_step % LOG_FREQUENCY == 0:\n",
        "      print('Step {}, Loss {}'.format(current_step, loss.item()))\n",
        "\n",
        "    # Compute gradients for each layer and update weights\n",
        "    loss.backward()  # backward pass: computes gradients\n",
        "    optimizer.step() # update weights based on accumulated gradients\n",
        "\n",
        "    current_step += 1\n",
        "    # Step the scheduler\n",
        "    scheduler.step()"
      ],
      "metadata": {
        "colab": {
          "base_uri": "https://localhost:8080/"
        },
        "id": "WOoE8TbzuqRj",
        "outputId": "d8887cb9-81ee-4c3d-d3fe-c80a425c49aa"
      },
      "execution_count": null,
      "outputs": [
        {
          "output_type": "stream",
          "name": "stdout",
          "text": [
            "Starting epoch 1/50, LR = [0.001]\n"
          ]
        },
        {
          "output_type": "stream",
          "name": "stderr",
          "text": [
            "/usr/local/lib/python3.10/dist-packages/torch/optim/lr_scheduler.py:536: UserWarning: To get the last learning rate computed by the scheduler, please use `get_last_lr()`.\n",
            "  _warn_get_lr_called_within_step(self)\n"
          ]
        },
        {
          "output_type": "stream",
          "name": "stdout",
          "text": [
            "Step 0, Loss 4.622791767120361\n",
            "Step 10, Loss 4.6218743324279785\n",
            "Step 20, Loss 4.621310234069824\n",
            "Step 30, Loss 4.619497776031494\n",
            "Starting epoch 2/50, LR = [0.0001]\n",
            "Step 40, Loss 4.619585037231445\n",
            "Step 50, Loss 4.61945915222168\n",
            "Step 60, Loss 4.620361328125\n",
            "Starting epoch 3/50, LR = [1.0000000000000002e-06]\n",
            "Step 70, Loss 4.62087345123291\n",
            "Step 80, Loss 4.62105131149292\n",
            "Step 90, Loss 4.619894027709961\n",
            "Starting epoch 4/50, LR = [1.0000000000000002e-07]\n",
            "Step 100, Loss 4.620158672332764\n",
            "Step 110, Loss 4.620366096496582\n",
            "Step 120, Loss 4.621443271636963\n",
            "Step 130, Loss 4.619167327880859\n",
            "Starting epoch 5/50, LR = [1.0000000000000005e-09]\n",
            "Step 140, Loss 4.621201515197754\n",
            "Step 150, Loss 4.620589256286621\n",
            "Step 160, Loss 4.6203131675720215\n",
            "Starting epoch 6/50, LR = [1.0000000000000006e-11]\n",
            "Step 170, Loss 4.618007659912109\n",
            "Step 180, Loss 4.619176387786865\n",
            "Step 190, Loss 4.620403289794922\n",
            "Starting epoch 7/50, LR = [1.0000000000000006e-12]\n",
            "Step 200, Loss 4.62076997756958\n",
            "Step 210, Loss 4.618435859680176\n",
            "Step 220, Loss 4.620656490325928\n",
            "Step 230, Loss 4.621306419372559\n",
            "Starting epoch 8/50, LR = [1.0000000000000008e-14]\n",
            "Step 240, Loss 4.61885404586792\n",
            "Step 250, Loss 4.620455741882324\n",
            "Step 260, Loss 4.618651866912842\n",
            "Starting epoch 9/50, LR = [1.000000000000001e-16]\n",
            "Step 270, Loss 4.619894027709961\n",
            "Step 280, Loss 4.622098445892334\n",
            "Step 290, Loss 4.620520114898682\n",
            "Starting epoch 10/50, LR = [1.000000000000001e-17]\n",
            "Step 300, Loss 4.62074613571167\n",
            "Step 310, Loss 4.620227813720703\n",
            "Step 320, Loss 4.620830535888672\n",
            "Starting epoch 11/50, LR = [1.000000000000001e-19]\n",
            "Step 330, Loss 4.618429660797119\n",
            "Step 340, Loss 4.620533466339111\n",
            "Step 350, Loss 4.62105131149292\n",
            "Step 360, Loss 4.620733737945557\n",
            "Starting epoch 12/50, LR = [1.0000000000000012e-21]\n",
            "Step 370, Loss 4.6194658279418945\n",
            "Step 380, Loss 4.62083625793457\n",
            "Step 390, Loss 4.619663715362549\n",
            "Starting epoch 13/50, LR = [1.0000000000000012e-22]\n",
            "Step 400, Loss 4.6206135749816895\n",
            "Step 410, Loss 4.620184898376465\n",
            "Step 420, Loss 4.620231628417969\n",
            "Starting epoch 14/50, LR = [1.0000000000000014e-24]\n",
            "Step 430, Loss 4.619688987731934\n",
            "Step 440, Loss 4.618355751037598\n",
            "Step 450, Loss 4.619815349578857\n",
            "Step 460, Loss 4.61922025680542\n",
            "Starting epoch 15/50, LR = [1.0000000000000015e-26]\n",
            "Step 470, Loss 4.620783805847168\n",
            "Step 480, Loss 4.619756698608398\n",
            "Step 490, Loss 4.620105743408203\n",
            "Starting epoch 16/50, LR = [1.0000000000000015e-27]\n",
            "Step 500, Loss 4.619529724121094\n",
            "Step 510, Loss 4.620223522186279\n",
            "Step 520, Loss 4.6212077140808105\n",
            "Starting epoch 17/50, LR = [1.0000000000000016e-29]\n",
            "Step 530, Loss 4.619868755340576\n",
            "Step 540, Loss 4.619475841522217\n",
            "Step 550, Loss 4.619091033935547\n",
            "Step 560, Loss 4.621796131134033\n",
            "Starting epoch 18/50, LR = [1.0000000000000016e-31]\n",
            "Step 570, Loss 4.619696617126465\n"
          ]
        }
      ]
    },
    {
      "cell_type": "code",
      "source": [
        "net = net.to(DEVICE) # this will bring the network to GPU if DEVICE is cuda\n",
        "net.train(False) # Set Network to evaluation mode\n",
        "\n",
        "running_corrects = 0\n",
        "for images, labels in tqdm(test_dataloader):\n",
        "  images = images.to(DEVICE)\n",
        "  labels = labels.to(DEVICE)\n",
        "\n",
        "  # Forward Pass\n",
        "  outputs = net(images)\n",
        "\n",
        "  # Get predictions\n",
        "  _, preds = torch.max(outputs.data, 1)\n",
        "\n",
        "  # Update Corrects\n",
        "  running_corrects += torch.sum(preds == labels.data).data.item()\n",
        "\n",
        "# Calculate Accuracy\n",
        "accuracy = running_corrects / float(len(test_dataset))\n",
        "\n",
        "print('Test Accuracy: {}'.format(accuracy))"
      ],
      "metadata": {
        "id": "xfK4EVFCxdgF"
      },
      "execution_count": null,
      "outputs": []
    }
  ]
}