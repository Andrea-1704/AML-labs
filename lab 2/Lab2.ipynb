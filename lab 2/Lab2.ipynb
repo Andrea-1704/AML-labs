{
  "nbformat": 4,
  "nbformat_minor": 0,
  "metadata": {
    "colab": {
      "provenance": [],
      "gpuType": "T4"
    },
    "kernelspec": {
      "name": "python3",
      "display_name": "Python 3"
    },
    "accelerator": "GPU"
  },
  "cells": [
    {
      "cell_type": "markdown",
      "metadata": {
        "id": "c9QcGnGPdX2C"
      },
      "source": [
        "\n",
        "**Install requirements**"
      ]
    },
    {
      "cell_type": "code",
      "metadata": {
        "id": "k9O3aM3Tb28q",
        "colab": {
          "base_uri": "https://localhost:8080/"
        },
        "outputId": "5334f825-1138-412a-f3e8-15eaf1f88fcc",
        "collapsed": true
      },
      "source": [
        "!pip3 install torch torchvision torchaudio"
      ],
      "execution_count": 1,
      "outputs": [
        {
          "output_type": "stream",
          "name": "stdout",
          "text": [
            "Requirement already satisfied: torch in /usr/local/lib/python3.10/dist-packages (2.5.0+cu121)\n",
            "Requirement already satisfied: torchvision in /usr/local/lib/python3.10/dist-packages (0.20.0+cu121)\n",
            "Requirement already satisfied: torchaudio in /usr/local/lib/python3.10/dist-packages (2.5.0+cu121)\n",
            "Requirement already satisfied: filelock in /usr/local/lib/python3.10/dist-packages (from torch) (3.16.1)\n",
            "Requirement already satisfied: typing-extensions>=4.8.0 in /usr/local/lib/python3.10/dist-packages (from torch) (4.12.2)\n",
            "Requirement already satisfied: networkx in /usr/local/lib/python3.10/dist-packages (from torch) (3.4.2)\n",
            "Requirement already satisfied: jinja2 in /usr/local/lib/python3.10/dist-packages (from torch) (3.1.4)\n",
            "Requirement already satisfied: fsspec in /usr/local/lib/python3.10/dist-packages (from torch) (2024.10.0)\n",
            "Requirement already satisfied: sympy==1.13.1 in /usr/local/lib/python3.10/dist-packages (from torch) (1.13.1)\n",
            "Requirement already satisfied: mpmath<1.4,>=1.1.0 in /usr/local/lib/python3.10/dist-packages (from sympy==1.13.1->torch) (1.3.0)\n",
            "Requirement already satisfied: numpy in /usr/local/lib/python3.10/dist-packages (from torchvision) (1.26.4)\n",
            "Requirement already satisfied: pillow!=8.3.*,>=5.3.0 in /usr/local/lib/python3.10/dist-packages (from torchvision) (10.4.0)\n",
            "Requirement already satisfied: MarkupSafe>=2.0 in /usr/local/lib/python3.10/dist-packages (from jinja2->torch) (3.0.2)\n"
          ]
        }
      ]
    },
    {
      "cell_type": "code",
      "source": [
        "!pip3 install 'tqdm'"
      ],
      "metadata": {
        "id": "qVKGznT4y4QT",
        "colab": {
          "base_uri": "https://localhost:8080/"
        },
        "outputId": "f9b96122-cc58-406a-854d-bee28d63da13"
      },
      "execution_count": 2,
      "outputs": [
        {
          "output_type": "stream",
          "name": "stdout",
          "text": [
            "Requirement already satisfied: tqdm in /usr/local/lib/python3.10/dist-packages (4.66.6)\n"
          ]
        }
      ]
    },
    {
      "cell_type": "markdown",
      "metadata": {
        "id": "fo942LMOdlh4"
      },
      "source": [
        "**Import libraries**"
      ]
    },
    {
      "cell_type": "code",
      "metadata": {
        "id": "DokFOdD1dJEl"
      },
      "source": [
        "import os\n",
        "import logging\n",
        "\n",
        "import torch\n",
        "import torch.nn as nn\n",
        "import torch.optim as optim\n",
        "from torch.utils.data import Subset, DataLoader\n",
        "from torch.backends import cudnn\n",
        "\n",
        "import torchvision\n",
        "from torchvision import transforms\n",
        "from torchvision.models import alexnet\n",
        "\n",
        "from PIL import Image\n",
        "from tqdm import tqdm\n",
        "\n",
        "from sklearn.model_selection import train_test_split"
      ],
      "execution_count": 3,
      "outputs": []
    },
    {
      "cell_type": "markdown",
      "metadata": {
        "id": "OIDLJuIXK_vh"
      },
      "source": [
        "**Set Arguments**"
      ]
    },
    {
      "cell_type": "code",
      "metadata": {
        "id": "d5PkYfqfK_SA"
      },
      "source": [
        "DEVICE = 'cuda' # 'cuda' or 'cpu'\n",
        "\n",
        "NUM_CLASSES = 102 # 101 + 1: There is am extra Background class that should be removed\n",
        "\n",
        "BATCH_SIZE = 256     # Higher batch sizes allows for larger learning rates. An empirical heuristic suggests that, when changing\n",
        "                     # the batch size, learning rate should change by the same factor to have comparable results\n",
        "\n",
        "LR = 1e-3            # The initial Learning Rate\n",
        "MOMENTUM = 0.9       # Hyperparameter for SGD, keep this at 0.9 when using SGD\n",
        "WEIGHT_DECAY = 5e-5  # Regularization, you can keep this at the default\n",
        "\n",
        "NUM_EPOCHS = 30      # Total number of training epochs (iterations over dataset)\n",
        "STEP_SIZE = 20       # How many epochs before decreasing learning rate (if using a step-down policy)\n",
        "GAMMA = 0.1          # Multiplicative factor for learning rate step-down\n",
        "\n",
        "LOG_FREQUENCY = 10"
      ],
      "execution_count": 4,
      "outputs": []
    },
    {
      "cell_type": "markdown",
      "metadata": {
        "id": "9gwii0TBHvzh"
      },
      "source": [
        "**Define Data Preprocessing**"
      ]
    },
    {
      "cell_type": "code",
      "metadata": {
        "id": "QUDdw4j2H0Mc"
      },
      "source": [
        "# Define transforms for training phase\n",
        "train_transform = transforms.Compose([transforms.Resize(256),      # Resizes short size of the PIL image to 256\n",
        "                                      transforms.CenterCrop(224),  # Crops a central square patch of the image\n",
        "                                                                   # 224 because torchvision's AlexNet needs a 224x224 input!\n",
        "                                                                   # Remember this when applying different transformations, otherwise you get an error\n",
        "                                      transforms.ToTensor(), # Turn PIL Image to torch.Tensor\n",
        "                                      transforms.Normalize((0.5, 0.5, 0.5), (0.5, 0.5, 0.5)) # Normalizes tensor with mean and standard deviation\n",
        "])\n",
        "# Define transforms for the evaluation phase\n",
        "eval_transform = transforms.Compose([transforms.Resize(256),\n",
        "                                      transforms.CenterCrop(224),\n",
        "                                      transforms.ToTensor(),\n",
        "                                      transforms.Normalize((0.5, 0.5, 0.5), (0.5, 0.5, 0.5))\n",
        "])"
      ],
      "execution_count": 5,
      "outputs": []
    },
    {
      "cell_type": "markdown",
      "metadata": {
        "id": "2qYIHPzYLY7i"
      },
      "source": [
        "**Prepare Dataset**"
      ]
    },
    {
      "cell_type": "markdown",
      "source": [
        "Manteniamo traccia di ogni singola label e immagine che abbiamo visto nell'ordine in cui l'abbiamo vista.\n",
        "Questo ci serve perché quando ci arriva una richiesta di get_item ad un indice specifico ci basterà accedere a queste due strutture dati all'indice indicato e prendere il rispettivo elemento di immagine e di label.\n",
        "\n",
        "Memorizzaiamo un dizionario che ci serve per memorizzare la corretta associazione tra la label categorica (\"cane\") e il numero che indica la classe, per esempio 2.\n",
        "\n",
        "andiamo a togliere 101_ObjectCategories e andiamo alla cartella che la contiene apriamo il file train o text e da li per ogni riga apro il path dato da 101_ObjectCategories riga Per risalire alla cartella \"parent\" che contiene root, puoi utilizzare la funzione os.path.dirname(root). Questa funzione restituisce il percorso della cartella padre (superiore) di quella specificata in root."
      ],
      "metadata": {
        "id": "B-BNMrEZrCRv"
      }
    },
    {
      "cell_type": "code",
      "source": [
        "from torchvision.datasets import VisionDataset\n",
        "\n",
        "from PIL import Image\n",
        "\n",
        "import os\n",
        "import os.path\n",
        "import sys\n",
        "\n",
        "\n",
        "def pil_loader(path):\n",
        "    # open path as file to avoid ResourceWarning (https://github.com/python-pillow/Pillow/issues/835)\n",
        "    with open(path, 'rb') as f:\n",
        "        img = Image.open(f)\n",
        "        return img.convert('RGB')\n",
        "\n",
        "\n",
        "class Caltech(VisionDataset):\n",
        "    def __init__(self, root, split='train', transform=None, target_transform=None):\n",
        "        super(Caltech, self).__init__(root, transform=transform, target_transform=target_transform)\n",
        "        self.split = split\n",
        "\n",
        "        self.images = []\n",
        "        self.labels = []\n",
        "\n",
        "        self.dim=0\n",
        "        self.dizionario = dict()\n",
        "\n",
        "        root = os.path.dirname(root)\n",
        "\n",
        "        self.dizionario = dict()\n",
        "        val_label=-1\n",
        "\n",
        "        split_file = os.path.join(root, f\"{split}.txt\")\n",
        "        with open(split_file, 'r') as f:\n",
        "          for line in f:\n",
        "\n",
        "              label, path = line.strip().split(\"/\")\n",
        "\n",
        "              if label!=\"BACKGROUND_Google\":\n",
        "                self.dim+=1\n",
        "\n",
        "                self.images.append(os.path.join(root, '101_ObjectCategories', label, path))\n",
        "\n",
        "                if label not in self.dizionario.keys():\n",
        "                  val_label+=1\n",
        "                  self.dizionario[label]=val_label\n",
        "                self.labels.append(self.dizionario[label])\n",
        "        '''\n",
        "        - Labels should start from 0, so for Caltech you will have lables 0...100 (excluding the background class)\n",
        "        '''\n",
        "\n",
        "    def __getitem__(self, index):\n",
        "        '''\n",
        "        __getitem__ should access an element through its index\n",
        "        Args:\n",
        "            index (int): Index\n",
        "\n",
        "        Returns:\n",
        "            tuple: (sample, target) where target is class_index of the target class.\n",
        "        '''\n",
        "\n",
        "        image, label = self.images[index], self.labels[index]\n",
        "        image = pil_loader(self.images[index])\n",
        "        # Applies preprocessing when accessing the image\n",
        "        if self.transform is not None:\n",
        "            image = self.transform(image)\n",
        "\n",
        "        return image, self.labels[index]\n",
        "\n",
        "    def __len__(self):\n",
        "        '''\n",
        "        The __len__ method returns the length of the dataset\n",
        "        It is mandatory, as this is used by several other components\n",
        "        '''\n",
        "        length = len(self.images) # Provide a way to get the length (number of elements) of the dataset\n",
        "        return self.dim\n",
        "        #posso anche restituire length e mi esce lo stesso risultato"
      ],
      "metadata": {
        "id": "puqnjPh-2yVf"
      },
      "execution_count": 6,
      "outputs": []
    },
    {
      "cell_type": "markdown",
      "source": [
        "# Divisione training e validation set\n",
        "\n",
        "In questa seziona andiamo ad effettuare la divisione tra training e validation set. L'idea è che ovviamente vogliamo fare in modo che il validation set rispetti il più possibile le diverse etichette dei dati. Ovvero dobbiamo fare in modo che il 25% dei dati di ogni classe venga preso nel validation set.\n",
        "\n",
        "MA QUESTA COSA NON LA DEVO FARE MANUALE: MA CON TRAIN_TEST_SPIT E PASSANDO LO STRATIFY COME PARAMETRO.\n",
        "CHE FA IN MODO CHE PRENDE IL 25% DI OGNI CLASSE."
      ],
      "metadata": {
        "id": "X4cwMr_N6PSZ"
      }
    },
    {
      "cell_type": "code",
      "metadata": {
        "id": "QfVq_uDHLbsR",
        "colab": {
          "base_uri": "https://localhost:8080/"
        },
        "collapsed": true,
        "outputId": "f8e1cb1f-f53b-42c5-bba6-c5f45decdc5c"
      },
      "source": [
        "# Clone github repository with data\n",
        "import pathlib\n",
        "print(pathlib.Path().resolve())\n",
        "if not os.path.isdir('./Caltech101'):\n",
        "  !git clone https://github.com/MachineLearning2020/Homework2-Caltech101.git\n",
        "  !mv 'Homework2-Caltech101' 'Caltech101'\n",
        "\n",
        "DATA_DIR = 'Caltech101/101_ObjectCategories'\n",
        "\n",
        "# Prepare Pytorch train/test Datasets\n",
        "train_dataset = Caltech(DATA_DIR, split='train',  transform=train_transform)\n",
        "test_dataset = Caltech(DATA_DIR, split='test', transform=eval_transform)\n",
        "\n",
        "#Dobbiamo splittare il dataset, per esempio 75% e 25%:\n",
        "train_indexes = [] # split the indices for your train split\n",
        "val_indexes = []# split the indices for your val split\n",
        "\n",
        "num_train = len(train_dataset)\n",
        "indices = list(range(num_train))\n",
        "\n",
        "train_indexes, val_indexes = train_test_split(indices, test_size=0.25, random_state=42)\n",
        "\n",
        "val_dataset = Subset(train_dataset, val_indexes)\n",
        "train_dataset = Subset(train_dataset, train_indexes)\n",
        "\n",
        "# Check dataset sizes\n",
        "print('Train Dataset: {}'.format(len(train_dataset)))\n",
        "print('Valid Dataset: {}'.format(len(val_dataset)))\n",
        "print('Test Dataset: {}'.format(len(test_dataset)))"
      ],
      "execution_count": 7,
      "outputs": [
        {
          "output_type": "stream",
          "name": "stdout",
          "text": [
            "/content\n",
            "Cloning into 'Homework2-Caltech101'...\n",
            "remote: Enumerating objects: 9256, done.\u001b[K\n",
            "remote: Total 9256 (delta 0), reused 0 (delta 0), pack-reused 9256 (from 1)\u001b[K\n",
            "Receiving objects: 100% (9256/9256), 129.48 MiB | 28.96 MiB/s, done.\n",
            "Resolving deltas: 100% (4/4), done.\n",
            "Updating files: 100% (9149/9149), done.\n",
            "Train Dataset: 4338\n",
            "Valid Dataset: 1446\n",
            "Test Dataset: 2893\n"
          ]
        }
      ]
    },
    {
      "cell_type": "markdown",
      "source": [
        "# Preparazione dei DataLoader"
      ],
      "metadata": {
        "id": "8ME9d42t618i"
      }
    },
    {
      "cell_type": "code",
      "metadata": {
        "id": "VriRw8SI1nle",
        "colab": {
          "base_uri": "https://localhost:8080/"
        },
        "outputId": "940fd127-86d6-4321-cccc-7ed2afa5f24e"
      },
      "source": [
        "# Dataloaders iterate over pytorch datasets and transparently provide useful functions (e.g. parallelization and shuffling)\n",
        "train_dataloader = DataLoader(train_dataset, batch_size=BATCH_SIZE, shuffle=True, num_workers=4, drop_last=True)\n",
        "val_dataloader = DataLoader(val_dataset, batch_size=BATCH_SIZE, shuffle=False, num_workers=4)\n",
        "test_dataloader = DataLoader(test_dataset, batch_size=BATCH_SIZE, shuffle=False, num_workers=4)"
      ],
      "execution_count": 8,
      "outputs": [
        {
          "output_type": "stream",
          "name": "stderr",
          "text": [
            "/usr/local/lib/python3.10/dist-packages/torch/utils/data/dataloader.py:617: UserWarning: This DataLoader will create 4 worker processes in total. Our suggested max number of worker in current system is 2, which is smaller than what this DataLoader is going to create. Please be aware that excessive worker creation might get DataLoader running slow or even freeze, lower the worker number to avoid potential slowness/freeze if necessary.\n",
            "  warnings.warn(\n"
          ]
        }
      ]
    },
    {
      "cell_type": "markdown",
      "metadata": {
        "id": "gbZ1t5Qs2z4j"
      },
      "source": [
        "**Prepare Network**"
      ]
    },
    {
      "cell_type": "markdown",
      "source": [
        "Abbiamo già una funzione che crea una rete di tipo AlexNet. Tuttabia dobbiamo andare a modifcare il sesto livello di classificazione (fully connected) adattando il numero di neuroni risultato in base al numeor di classi che vogliamo classificare, in questo caso 101."
      ],
      "metadata": {
        "id": "jvFmFal57IFB"
      }
    },
    {
      "cell_type": "code",
      "metadata": {
        "id": "exHUjtXa22DN"
      },
      "source": [
        "net = alexnet() # Loading AlexNet model\n",
        "\n",
        "# AlexNet has 1000 output neurons, corresponding to the 1000 ImageNet's classes\n",
        "# We need 101 outputs for Caltech-101\n",
        "net.classifier[6] = nn.Linear(4096, NUM_CLASSES) # nn.Linear in pytorch is a fully connected layer\n",
        "                                                 # The convolutional layer is nn.Conv2d\n",
        "\n",
        "# We just changed the last layer of AlexNet with a new fully connected layer with 101 outputs\n",
        "# It is strongly suggested to study torchvision.models.alexnet source code"
      ],
      "execution_count": 9,
      "outputs": []
    },
    {
      "cell_type": "markdown",
      "metadata": {
        "id": "KEyL3H_R4qCf"
      },
      "source": [
        "**Prepare Training**"
      ]
    },
    {
      "cell_type": "code",
      "metadata": {
        "id": "9sjq00G94tSc",
        "outputId": "68d8aace-1c70-4f3c-abf4-35401e9972e0",
        "colab": {
          "base_uri": "https://localhost:8080/"
        }
      },
      "source": [
        "# Define loss function\n",
        "criterion = nn.CrossEntropyLoss() # for classification, we use Cross Entropy\n",
        "\n",
        "# Choose parameters to optimize\n",
        "# To access a different set of parameters, you have to access submodules of AlexNet\n",
        "# (nn.Module objects, like AlexNet, implement the Composite Pattern)\n",
        "# e.g.: parameters of the fully connected layers: net.classifier.parameters()\n",
        "# e.g.: parameters of the convolutional layers: look at alexnet's source code ;)\n",
        "parameters_to_optimize = net.parameters() # In this case we optimize over all the parameters of AlexNet\n",
        "\n",
        "# Define optimizer\n",
        "# An optimizer updates the weights based on loss\n",
        "# We use SGD with momentum\n",
        "optimizer = optim.SGD(parameters_to_optimize, lr=LR, momentum=MOMENTUM, weight_decay=WEIGHT_DECAY)\n",
        "\n",
        "# Define scheduler\n",
        "# A scheduler dynamically changes learning rate\n",
        "# The most common schedule is the step(-down), which multiplies learning rate by gamma every STEP_SIZE epochs\n",
        "scheduler = optim.lr_scheduler.StepLR(optimizer, step_size=STEP_SIZE, gamma=GAMMA)\n",
        "print(len(train_dataloader))"
      ],
      "execution_count": 10,
      "outputs": [
        {
          "output_type": "stream",
          "name": "stdout",
          "text": [
            "16\n"
          ]
        }
      ]
    },
    {
      "cell_type": "markdown",
      "source": [
        "Nota che optimizer prende in modo esplicito come primo parametro i parametri che bisogna ottimizzare."
      ],
      "metadata": {
        "id": "XihoyQWjfaAL"
      }
    },
    {
      "cell_type": "markdown",
      "metadata": {
        "id": "AxYUli9d9uYQ"
      },
      "source": [
        "**Train**"
      ]
    },
    {
      "cell_type": "code",
      "metadata": {
        "id": "ZcoQ5fD49yT_",
        "colab": {
          "base_uri": "https://localhost:8080/",
          "height": 408
        },
        "outputId": "5207b493-0879-4f0d-ce2d-42ff1815bcb6"
      },
      "source": [
        "# By default, everything is loaded to cpu\n",
        "net = net.to(DEVICE) # this will bring the network to GPU if DEVICE is cuda\n",
        "\n",
        "cudnn.benchmark # Calling this optimizes runtime\n",
        "\n",
        "current_step = 0\n",
        "\n",
        "# Start iterating over the epochs\n",
        "for epoch in range(NUM_EPOCHS):\n",
        "  print('Starting epoch {}/{}, LR = {}'.format(epoch+1, NUM_EPOCHS, scheduler.get_lr()))\n",
        "\n",
        "  # Iterate over the dataset\n",
        "  for images, labels in train_dataloader:\n",
        "    # Bring data over the device of choice\n",
        "    images = images.to(DEVICE)\n",
        "    labels = labels.to(DEVICE)\n",
        "\n",
        "    net.train() # Sets module in training mode\n",
        "\n",
        "    # PyTorch, by default, accumulates gradients after each backward pass\n",
        "    # We need to manually set the gradients to zero before starting a new iteration\n",
        "    optimizer.zero_grad() # Zero-ing the gradients\n",
        "\n",
        "    # Forward pass to the network\n",
        "    outputs = net(images)\n",
        "\n",
        "    # Compute loss based on output and ground truth\n",
        "    loss = criterion(outputs, labels)\n",
        "\n",
        "    # Log loss\n",
        "    if current_step % LOG_FREQUENCY == 0:\n",
        "      print('Step {}, Loss {}'.format(current_step, loss.item()))\n",
        "\n",
        "    # Compute gradients for each layer and update weights\n",
        "    loss.backward()  # backward pass: computes gradients\n",
        "    optimizer.step() # update weights based on accumulated gradients\n",
        "\n",
        "    current_step += 1\n",
        "    # Step the scheduler\n",
        "    scheduler.step()\n",
        "\n"
      ],
      "execution_count": 11,
      "outputs": [
        {
          "output_type": "stream",
          "name": "stdout",
          "text": [
            "Starting epoch 1/30, LR = [0.001]\n"
          ]
        },
        {
          "output_type": "stream",
          "name": "stderr",
          "text": [
            "/usr/local/lib/python3.10/dist-packages/torch/optim/lr_scheduler.py:536: UserWarning: To get the last learning rate computed by the scheduler, please use `get_last_lr()`.\n",
            "  _warn_get_lr_called_within_step(self)\n"
          ]
        },
        {
          "output_type": "error",
          "ename": "KeyboardInterrupt",
          "evalue": "",
          "traceback": [
            "\u001b[0;31m---------------------------------------------------------------------------\u001b[0m",
            "\u001b[0;31mKeyboardInterrupt\u001b[0m                         Traceback (most recent call last)",
            "\u001b[0;32m<ipython-input-11-7b2b1c2dd665>\u001b[0m in \u001b[0;36m<cell line: 9>\u001b[0;34m()\u001b[0m\n\u001b[1;32m     26\u001b[0m \u001b[0;34m\u001b[0m\u001b[0m\n\u001b[1;32m     27\u001b[0m     \u001b[0;31m# Compute loss based on output and ground truth\u001b[0m\u001b[0;34m\u001b[0m\u001b[0;34m\u001b[0m\u001b[0m\n\u001b[0;32m---> 28\u001b[0;31m     \u001b[0mloss\u001b[0m \u001b[0;34m=\u001b[0m \u001b[0mcriterion\u001b[0m\u001b[0;34m(\u001b[0m\u001b[0moutputs\u001b[0m\u001b[0;34m,\u001b[0m \u001b[0mlabels\u001b[0m\u001b[0;34m)\u001b[0m\u001b[0;34m\u001b[0m\u001b[0;34m\u001b[0m\u001b[0m\n\u001b[0m\u001b[1;32m     29\u001b[0m \u001b[0;34m\u001b[0m\u001b[0m\n\u001b[1;32m     30\u001b[0m     \u001b[0;31m# Log loss\u001b[0m\u001b[0;34m\u001b[0m\u001b[0;34m\u001b[0m\u001b[0m\n",
            "\u001b[0;32m/usr/local/lib/python3.10/dist-packages/torch/nn/modules/module.py\u001b[0m in \u001b[0;36m_wrapped_call_impl\u001b[0;34m(self, *args, **kwargs)\u001b[0m\n\u001b[1;32m   1734\u001b[0m             \u001b[0;32mreturn\u001b[0m \u001b[0mself\u001b[0m\u001b[0;34m.\u001b[0m\u001b[0m_compiled_call_impl\u001b[0m\u001b[0;34m(\u001b[0m\u001b[0;34m*\u001b[0m\u001b[0margs\u001b[0m\u001b[0;34m,\u001b[0m \u001b[0;34m**\u001b[0m\u001b[0mkwargs\u001b[0m\u001b[0;34m)\u001b[0m  \u001b[0;31m# type: ignore[misc]\u001b[0m\u001b[0;34m\u001b[0m\u001b[0;34m\u001b[0m\u001b[0m\n\u001b[1;32m   1735\u001b[0m         \u001b[0;32melse\u001b[0m\u001b[0;34m:\u001b[0m\u001b[0;34m\u001b[0m\u001b[0;34m\u001b[0m\u001b[0m\n\u001b[0;32m-> 1736\u001b[0;31m             \u001b[0;32mreturn\u001b[0m \u001b[0mself\u001b[0m\u001b[0;34m.\u001b[0m\u001b[0m_call_impl\u001b[0m\u001b[0;34m(\u001b[0m\u001b[0;34m*\u001b[0m\u001b[0margs\u001b[0m\u001b[0;34m,\u001b[0m \u001b[0;34m**\u001b[0m\u001b[0mkwargs\u001b[0m\u001b[0;34m)\u001b[0m\u001b[0;34m\u001b[0m\u001b[0;34m\u001b[0m\u001b[0m\n\u001b[0m\u001b[1;32m   1737\u001b[0m \u001b[0;34m\u001b[0m\u001b[0m\n\u001b[1;32m   1738\u001b[0m     \u001b[0;31m# torchrec tests the code consistency with the following code\u001b[0m\u001b[0;34m\u001b[0m\u001b[0;34m\u001b[0m\u001b[0m\n",
            "\u001b[0;32m/usr/local/lib/python3.10/dist-packages/torch/nn/modules/module.py\u001b[0m in \u001b[0;36m_call_impl\u001b[0;34m(self, *args, **kwargs)\u001b[0m\n\u001b[1;32m   1745\u001b[0m                 \u001b[0;32mor\u001b[0m \u001b[0m_global_backward_pre_hooks\u001b[0m \u001b[0;32mor\u001b[0m \u001b[0m_global_backward_hooks\u001b[0m\u001b[0;34m\u001b[0m\u001b[0;34m\u001b[0m\u001b[0m\n\u001b[1;32m   1746\u001b[0m                 or _global_forward_hooks or _global_forward_pre_hooks):\n\u001b[0;32m-> 1747\u001b[0;31m             \u001b[0;32mreturn\u001b[0m \u001b[0mforward_call\u001b[0m\u001b[0;34m(\u001b[0m\u001b[0;34m*\u001b[0m\u001b[0margs\u001b[0m\u001b[0;34m,\u001b[0m \u001b[0;34m**\u001b[0m\u001b[0mkwargs\u001b[0m\u001b[0;34m)\u001b[0m\u001b[0;34m\u001b[0m\u001b[0;34m\u001b[0m\u001b[0m\n\u001b[0m\u001b[1;32m   1748\u001b[0m \u001b[0;34m\u001b[0m\u001b[0m\n\u001b[1;32m   1749\u001b[0m         \u001b[0mresult\u001b[0m \u001b[0;34m=\u001b[0m \u001b[0;32mNone\u001b[0m\u001b[0;34m\u001b[0m\u001b[0;34m\u001b[0m\u001b[0m\n",
            "\u001b[0;32m/usr/local/lib/python3.10/dist-packages/torch/nn/modules/loss.py\u001b[0m in \u001b[0;36mforward\u001b[0;34m(self, input, target)\u001b[0m\n\u001b[1;32m   1291\u001b[0m \u001b[0;34m\u001b[0m\u001b[0m\n\u001b[1;32m   1292\u001b[0m     \u001b[0;32mdef\u001b[0m \u001b[0mforward\u001b[0m\u001b[0;34m(\u001b[0m\u001b[0mself\u001b[0m\u001b[0;34m,\u001b[0m \u001b[0minput\u001b[0m\u001b[0;34m:\u001b[0m \u001b[0mTensor\u001b[0m\u001b[0;34m,\u001b[0m \u001b[0mtarget\u001b[0m\u001b[0;34m:\u001b[0m \u001b[0mTensor\u001b[0m\u001b[0;34m)\u001b[0m \u001b[0;34m->\u001b[0m \u001b[0mTensor\u001b[0m\u001b[0;34m:\u001b[0m\u001b[0;34m\u001b[0m\u001b[0;34m\u001b[0m\u001b[0m\n\u001b[0;32m-> 1293\u001b[0;31m         return F.cross_entropy(\n\u001b[0m\u001b[1;32m   1294\u001b[0m             \u001b[0minput\u001b[0m\u001b[0;34m,\u001b[0m\u001b[0;34m\u001b[0m\u001b[0;34m\u001b[0m\u001b[0m\n\u001b[1;32m   1295\u001b[0m             \u001b[0mtarget\u001b[0m\u001b[0;34m,\u001b[0m\u001b[0;34m\u001b[0m\u001b[0;34m\u001b[0m\u001b[0m\n",
            "\u001b[0;32m/usr/local/lib/python3.10/dist-packages/torch/nn/functional.py\u001b[0m in \u001b[0;36mcross_entropy\u001b[0;34m(input, target, weight, size_average, ignore_index, reduce, reduction, label_smoothing)\u001b[0m\n\u001b[1;32m   3477\u001b[0m     \u001b[0;32mif\u001b[0m \u001b[0msize_average\u001b[0m \u001b[0;32mis\u001b[0m \u001b[0;32mnot\u001b[0m \u001b[0;32mNone\u001b[0m \u001b[0;32mor\u001b[0m \u001b[0mreduce\u001b[0m \u001b[0;32mis\u001b[0m \u001b[0;32mnot\u001b[0m \u001b[0;32mNone\u001b[0m\u001b[0;34m:\u001b[0m\u001b[0;34m\u001b[0m\u001b[0;34m\u001b[0m\u001b[0m\n\u001b[1;32m   3478\u001b[0m         \u001b[0mreduction\u001b[0m \u001b[0;34m=\u001b[0m \u001b[0m_Reduction\u001b[0m\u001b[0;34m.\u001b[0m\u001b[0mlegacy_get_string\u001b[0m\u001b[0;34m(\u001b[0m\u001b[0msize_average\u001b[0m\u001b[0;34m,\u001b[0m \u001b[0mreduce\u001b[0m\u001b[0;34m)\u001b[0m\u001b[0;34m\u001b[0m\u001b[0;34m\u001b[0m\u001b[0m\n\u001b[0;32m-> 3479\u001b[0;31m     return torch._C._nn.cross_entropy_loss(\n\u001b[0m\u001b[1;32m   3480\u001b[0m         \u001b[0minput\u001b[0m\u001b[0;34m,\u001b[0m\u001b[0;34m\u001b[0m\u001b[0;34m\u001b[0m\u001b[0m\n\u001b[1;32m   3481\u001b[0m         \u001b[0mtarget\u001b[0m\u001b[0;34m,\u001b[0m\u001b[0;34m\u001b[0m\u001b[0;34m\u001b[0m\u001b[0m\n",
            "\u001b[0;31mKeyboardInterrupt\u001b[0m: "
          ]
        }
      ]
    },
    {
      "cell_type": "markdown",
      "source": [
        "# best parameters\n",
        "Andiamo ad usare il validation set per trovare la migliore combinazione di parametri (non iperparametri) della rete.\n",
        "\n",
        "Dopo ogni epoca andimo a vedere i risultti che otteniano per quella epoca, magari considerando l'accuracy e vedo come quella rete (con i parametri attuali) performano sui dati di validation.\n",
        "\n",
        "Tramite il metodo net.state_dict() vado a prendere tutti i parametri della rete."
      ],
      "metadata": {
        "id": "ZK8_owP_-ZZq"
      }
    },
    {
      "cell_type": "code",
      "source": [
        "best_loss = float('inf')\n",
        "best_net = None\n",
        "\n",
        "net = net.to(DEVICE)\n",
        "cudnn.benchmark\n",
        "current_step = 0\n",
        "\n",
        "for epoch in range(NUM_EPOCHS):\n",
        "  print('Starting epoch {}/{}, LR = {}'.format(epoch+1, NUM_EPOCHS, scheduler.get_lr()))\n",
        "\n",
        "  for images, labels in train_dataloader:\n",
        "    images = images.to(DEVICE)\n",
        "    labels = labels.to(DEVICE)\n",
        "    net.train()\n",
        "    optimizer.zero_grad()\n",
        "    outputs = net(images)\n",
        "    loss = criterion(outputs, labels)\n",
        "    if current_step % LOG_FREQUENCY == 0:\n",
        "      print('Step {}, Loss {}'.format(current_step, loss.item()))\n",
        "    loss.backward()\n",
        "    optimizer.step()\n",
        "    current_step += 1\n",
        "    scheduler.step()\n",
        "\n",
        "  #verifico la rete sui dati di validazione:\n",
        "  with torch.no_grad():\n",
        "    for images, labels in val_dataloader:\n",
        "          images = images.to(DEVICE)\n",
        "          labels = labels.to(DEVICE)\n",
        "          net.train()\n",
        "          output=net(images)\n",
        "          loss += criterion(output, labels)\n",
        "\n",
        "  loss = loss/len(val_dataloader)\n",
        "  if loss<best_loss:\n",
        "      best_loss=loss\n",
        "      best_net = net.state_dict()\n",
        "\n",
        "#net.load_state_dict(best_net)"
      ],
      "metadata": {
        "id": "0usxR7gu-hcE"
      },
      "execution_count": null,
      "outputs": []
    },
    {
      "cell_type": "markdown",
      "metadata": {
        "id": "UsHFI-GAJd69"
      },
      "source": [
        "# Validation\n",
        "Adesso andiamo ad effettuare il processo di validation, ovvero andiamo a scegliere opportuna i valori degli IPER PARAMETRI DELLA RETE.\n",
        "\n",
        "Per la traccia, dobbiamo effettuare validation almeno per due iperparametri. Di seguito si mostra la validazione per gli iperparametri di lr e epoche.\n",
        "\n",
        "Per effettuare la validazione possiamo considerare una lista di possibili valori per ognuno di questi due iperparametri e poi vedere i risultati per ongi combinazione di questi iperparametri."
      ]
    },
    {
      "cell_type": "code",
      "metadata": {
        "id": "EO3HV5pqJg1o"
      },
      "source": [
        "from itertools import product\n",
        "\n",
        "net = net.to(DEVICE) # this will bring the network to GPU if DEVICE is cuda\n",
        "net.train(False) # Set Network to evaluation mode\n",
        "\n",
        "#Costruisco la lista degli iper parametri che voglio testare:\n",
        "lr = [0.1, 0.01, 0.001, 0.0001]\n",
        "NUM_EPOCHS = [5, 10, 15, 30]\n",
        "best_accuracy = 0\n",
        "best_lr=None\n",
        "best_epochs=None\n",
        "combinations = list(product(lr, NUM_EPOCHS))\n",
        "\n",
        "# Stampare le combinazioni per verificare\n",
        "for lr_val, epoch_val in combinations:\n",
        "  criterion = nn.CrossEntropyLoss()\n",
        "  parameters_to_optimize = net.parameters() # In this case we optimize over all the parameters of AlexNet\n",
        "  optimizer = optim.SGD(parameters_to_optimize, lr=LR, momentum=MOMENTUM, weight_decay=WEIGHT_DECAY)\n",
        "  scheduler = optim.lr_scheduler.StepLR(optimizer, step_size=STEP_SIZE, gamma=GAMMA)\n",
        "\n",
        "  #adesso vediamo come si comporta la rete neurale con questi parametri:\n",
        "  net = net.to(DEVICE) # this will bring the network to GPU if DEVICE is cuda\n",
        "\n",
        "  cudnn.benchmark # Calling this optimizes runtime\n",
        "\n",
        "  current_step = 0\n",
        "  running_corrects = 0\n",
        "    # NOTA CHE DOBBIAMO USARE IL DATASET DI VALIDATION\n",
        "  for images, labels in val_dataloader:\n",
        "      # Bring data over the device of choice\n",
        "      images = images.to(DEVICE)\n",
        "      labels = labels.to(DEVICE)\n",
        "      # Forward Pass\n",
        "      outputs = net(images)\n",
        "      # Get predictions\n",
        "      _, preds = torch.max(outputs.data, 1)\n",
        "      # Update Corrects\n",
        "      running_corrects += torch.sum(preds == labels.data).data.item()\n",
        "    # Calculate Accuracy\n",
        "  accuracy = running_corrects / float(len(val_dataset))\n",
        "  if accuracy>best_accuracy:\n",
        "    best_accuracy = accuracy\n",
        "    best_lr = lr_val\n",
        "    best_epochs = epoch_val\n",
        "\n",
        "\n",
        "print(\"the best accuracy is: \", best_accuracy)\n",
        "print(\"the best parameters of lr, num_epochs are: \", best_lr, \", \", best_epochs)"
      ],
      "execution_count": null,
      "outputs": []
    },
    {
      "cell_type": "markdown",
      "metadata": {
        "id": "jxekmR745ySe"
      },
      "source": [
        "**Test**"
      ]
    },
    {
      "cell_type": "code",
      "metadata": {
        "id": "fSHcUqLB5yWO"
      },
      "source": [
        "net = net.to(DEVICE) # this will bring the network to GPU if DEVICE is cuda\n",
        "net.train(False) # Set Network to evaluation mode\n",
        "\n",
        "running_corrects = 0\n",
        "for images, labels in tqdm(test_dataloader):\n",
        "  images = images.to(DEVICE)\n",
        "  labels = labels.to(DEVICE)\n",
        "\n",
        "  # Forward Pass\n",
        "  outputs = net(images)\n",
        "\n",
        "  # Get predictions\n",
        "  _, preds = torch.max(outputs.data, 1)\n",
        "\n",
        "  # Update Corrects\n",
        "  running_corrects += torch.sum(preds == labels.data).data.item()\n",
        "\n",
        "# Calculate Accuracy\n",
        "accuracy = running_corrects / float(len(test_dataset))\n",
        "\n",
        "print('Test Accuracy: {}'.format(accuracy))"
      ],
      "execution_count": null,
      "outputs": []
    },
    {
      "cell_type": "markdown",
      "source": [
        "# Transfer learning\n",
        "\n",
        "Andiamo a congelare i parametri della rete Alexnet trainata su imagenet dataset e modifichiamo l'ultimo livello per considerare il numero di classi di nostro interesse e addestriamo solo l'ultimo livello fully convolutional."
      ],
      "metadata": {
        "id": "ljfluMH_dRLY"
      }
    },
    {
      "cell_type": "code",
      "source": [
        "import torchvision.models as models\n",
        "\n",
        "net = models.alexnet(pretrained=True)"
      ],
      "metadata": {
        "id": "KCY75q08df0t",
        "colab": {
          "base_uri": "https://localhost:8080/"
        },
        "outputId": "e2cdd1bd-11cb-41ff-c515-1fdb100ca1a0"
      },
      "execution_count": 12,
      "outputs": [
        {
          "output_type": "stream",
          "name": "stderr",
          "text": [
            "/usr/local/lib/python3.10/dist-packages/torchvision/models/_utils.py:208: UserWarning: The parameter 'pretrained' is deprecated since 0.13 and may be removed in the future, please use 'weights' instead.\n",
            "  warnings.warn(\n",
            "/usr/local/lib/python3.10/dist-packages/torchvision/models/_utils.py:223: UserWarning: Arguments other than a weight enum or `None` for 'weights' are deprecated since 0.13 and may be removed in the future. The current behavior is equivalent to passing `weights=AlexNet_Weights.IMAGENET1K_V1`. You can also use `weights=AlexNet_Weights.DEFAULT` to get the most up-to-date weights.\n",
            "  warnings.warn(msg)\n",
            "Downloading: \"https://download.pytorch.org/models/alexnet-owt-7be5be79.pth\" to /root/.cache/torch/hub/checkpoints/alexnet-owt-7be5be79.pth\n",
            "100%|██████████| 233M/233M [00:01<00:00, 177MB/s]\n"
          ]
        }
      ]
    },
    {
      "cell_type": "markdown",
      "source": [
        "In questo modo stiamo andando a caricare il modello AlexNet con i pesi di ImageNet.\n",
        "\n",
        "Sostituisco l'ultimo livello: nella rete AlexNet erano presenti 1000 classi, a noi ne bastano 102:"
      ],
      "metadata": {
        "id": "MIsOX2efdmqJ"
      }
    },
    {
      "cell_type": "code",
      "source": [
        "num_classes = 102\n",
        "net.classifier[6] = nn.Linear(4096, num_classes)"
      ],
      "metadata": {
        "id": "uFXMywWYd2kX"
      },
      "execution_count": 13,
      "outputs": []
    },
    {
      "cell_type": "markdown",
      "source": [
        " Adesso dobbiamo indicare la volontà di **congelare alcuni parametri** della rete. Per farlo possiamo dichiarare quali parametri della rete non richiedono il calcolo del gradiente."
      ],
      "metadata": {
        "id": "uatYaJmleDXD"
      }
    },
    {
      "cell_type": "code",
      "source": [
        "for param in net.parameters():\n",
        "  param.requires_grad = False"
      ],
      "metadata": {
        "id": "ChcCJ5_-eCjc"
      },
      "execution_count": 14,
      "outputs": []
    },
    {
      "cell_type": "markdown",
      "source": [
        "In questo modo abbiamo congelato tutti i parametri della rete, per indicare invece che alcuni di questi non debbano essere congelati possiamo fare:"
      ],
      "metadata": {
        "id": "roOHXgiHedtL"
      }
    },
    {
      "cell_type": "code",
      "source": [
        "for param in net.classifier[6].parameters():\n",
        "  param.requires_grad = True"
      ],
      "metadata": {
        "id": "x6q3i1L4el3k"
      },
      "execution_count": 15,
      "outputs": []
    },
    {
      "cell_type": "markdown",
      "source": [
        "Adesso dobbiamo configurare l'**ottimizzatore** per indicare che deve addestrare solo i pesi dell'ultimo livello."
      ],
      "metadata": {
        "id": "jN2ZMGaBeu_W"
      }
    },
    {
      "cell_type": "code",
      "source": [
        "optimizer = optim.SGD(net.classifier[6].parameters(), lr=0.001, momentum=0.9)"
      ],
      "metadata": {
        "id": "8E608xvse17f"
      },
      "execution_count": 16,
      "outputs": []
    },
    {
      "cell_type": "markdown",
      "source": [
        "Training della rete."
      ],
      "metadata": {
        "id": "l0WXneQCfwqU"
      }
    },
    {
      "cell_type": "code",
      "source": [
        "# By default, everything is loaded to cpu\n",
        "net = net.to(DEVICE) # this will bring the network to GPU if DEVICE is cuda\n",
        "\n",
        "cudnn.benchmark # Calling this optimizes runtime\n",
        "\n",
        "current_step = 0\n",
        "NUM_EPOCHS = 30 #Adesso il training dovrebbe metterci di meno\n",
        "\n",
        "# Start iterating over the epochs\n",
        "for epoch in range(NUM_EPOCHS):\n",
        "  print('Starting epoch {}/{}, LR = {}'.format(epoch+1, NUM_EPOCHS, scheduler.get_lr()))\n",
        "\n",
        "  # Iterate over the dataset\n",
        "  for images, labels in train_dataloader:\n",
        "    # Bring data over the device of choice\n",
        "    images = images.to(DEVICE)\n",
        "    labels = labels.to(DEVICE)\n",
        "\n",
        "    net.train() # Sets module in training mode\n",
        "\n",
        "    # PyTorch, by default, accumulates gradients after each backward pass\n",
        "    # We need to manually set the gradients to zero before starting a new iteration\n",
        "    optimizer.zero_grad() # Zero-ing the gradients\n",
        "\n",
        "    # Forward pass to the network\n",
        "    outputs = net(images)\n",
        "\n",
        "    # Compute loss based on output and ground truth\n",
        "    loss = criterion(outputs, labels)\n",
        "\n",
        "    # Log loss\n",
        "    if current_step % LOG_FREQUENCY == 0:\n",
        "      print('Step {}, Loss {}'.format(current_step, loss.item()))\n",
        "\n",
        "    # Compute gradients for each layer and update weights\n",
        "    loss.backward()  # backward pass: computes gradients\n",
        "    optimizer.step() # update weights based on accumulated gradients\n",
        "\n",
        "    current_step += 1\n",
        "    # Step the scheduler\n",
        "    scheduler.step()\n",
        "\n"
      ],
      "metadata": {
        "id": "jQRQXt5Bfvw3",
        "colab": {
          "base_uri": "https://localhost:8080/"
        },
        "collapsed": true,
        "outputId": "2f327957-0554-4a63-d677-47fb970238e1"
      },
      "execution_count": null,
      "outputs": [
        {
          "output_type": "stream",
          "name": "stdout",
          "text": [
            "Starting epoch 1/50, LR = [0.001]\n"
          ]
        },
        {
          "output_type": "stream",
          "name": "stderr",
          "text": [
            "/usr/local/lib/python3.10/dist-packages/torch/optim/lr_scheduler.py:536: UserWarning: To get the last learning rate computed by the scheduler, please use `get_last_lr()`.\n",
            "  _warn_get_lr_called_within_step(self)\n"
          ]
        },
        {
          "output_type": "stream",
          "name": "stdout",
          "text": [
            "Step 0, Loss 5.007965087890625\n"
          ]
        },
        {
          "output_type": "stream",
          "name": "stderr",
          "text": [
            "/usr/local/lib/python3.10/dist-packages/torch/optim/lr_scheduler.py:224: UserWarning: Detected call of `lr_scheduler.step()` before `optimizer.step()`. In PyTorch 1.1.0 and later, you should call them in the opposite order: `optimizer.step()` before `lr_scheduler.step()`.  Failure to do this will result in PyTorch skipping the first value of the learning rate schedule. See more details at https://pytorch.org/docs/stable/optim.html#how-to-adjust-learning-rate\n",
            "  warnings.warn(\n"
          ]
        },
        {
          "output_type": "stream",
          "name": "stdout",
          "text": [
            "Step 10, Loss 3.5196518898010254\n",
            "Starting epoch 2/50, LR = [0.001]\n",
            "Step 20, Loss 2.500298500061035\n",
            "Step 30, Loss 2.3312764167785645\n",
            "Starting epoch 3/50, LR = [0.0001]\n",
            "Step 40, Loss 1.7448151111602783\n",
            "Starting epoch 4/50, LR = [1e-05]\n",
            "Step 50, Loss 1.608870029449463\n",
            "Step 60, Loss 1.5173012018203735\n",
            "Starting epoch 5/50, LR = [1.0000000000000002e-06]\n",
            "Step 70, Loss 1.4894365072250366\n",
            "Starting epoch 6/50, LR = [1.0000000000000004e-08]\n",
            "Step 80, Loss 1.2344226837158203\n",
            "Step 90, Loss 1.199524164199829\n",
            "Starting epoch 7/50, LR = [1.0000000000000002e-07]\n",
            "Step 100, Loss 0.9371311664581299\n",
            "Step 110, Loss 1.0477204322814941\n",
            "Starting epoch 8/50, LR = [1.0000000000000004e-08]\n",
            "Step 120, Loss 0.8498467206954956\n",
            "Starting epoch 9/50, LR = [1.0000000000000005e-09]\n",
            "Step 130, Loss 0.8749435544013977\n",
            "Step 140, Loss 0.761378824710846\n",
            "Starting epoch 10/50, LR = [1.0000000000000006e-10]\n",
            "Step 150, Loss 0.7977117896080017\n",
            "Starting epoch 11/50, LR = [1.0000000000000006e-12]\n",
            "Step 160, Loss 0.7975241541862488\n",
            "Step 170, Loss 0.7065814137458801\n",
            "Starting epoch 12/50, LR = [1.0000000000000006e-11]\n",
            "Step 180, Loss 0.6361467242240906\n",
            "Step 190, Loss 0.6809213161468506\n",
            "Starting epoch 13/50, LR = [1.0000000000000006e-12]\n",
            "Step 200, Loss 0.5501779317855835\n",
            "Starting epoch 14/50, LR = [1.0000000000000007e-13]\n",
            "Step 210, Loss 0.6006322503089905\n",
            "Step 220, Loss 0.6044451594352722\n",
            "Starting epoch 15/50, LR = [1.0000000000000008e-14]\n",
            "Step 230, Loss 0.550945520401001\n",
            "Starting epoch 16/50, LR = [1.000000000000001e-16]\n",
            "Step 240, Loss 0.5534992218017578\n",
            "Step 250, Loss 0.48041605949401855\n",
            "Starting epoch 17/50, LR = [1.0000000000000009e-15]\n",
            "Step 260, Loss 0.4936119616031647\n",
            "Step 270, Loss 0.5616512894630432\n",
            "Starting epoch 18/50, LR = [1.000000000000001e-16]\n",
            "Step 280, Loss 0.5315312147140503\n",
            "Starting epoch 19/50, LR = [1.000000000000001e-17]\n",
            "Step 290, Loss 0.6026679873466492\n",
            "Step 300, Loss 0.4495300054550171\n",
            "Starting epoch 20/50, LR = [1.000000000000001e-18]\n",
            "Step 310, Loss 0.4959166646003723\n",
            "Starting epoch 21/50, LR = [1.0000000000000011e-20]\n",
            "Step 320, Loss 0.4709813594818115\n",
            "Step 330, Loss 0.4369978904724121\n",
            "Starting epoch 22/50, LR = [1.000000000000001e-19]\n",
            "Step 340, Loss 0.4356928765773773\n",
            "Step 350, Loss 0.44431018829345703\n",
            "Starting epoch 23/50, LR = [1.0000000000000011e-20]\n",
            "Step 360, Loss 0.40535563230514526\n",
            "Starting epoch 24/50, LR = [1.0000000000000012e-21]\n",
            "Step 370, Loss 0.4120604991912842\n",
            "Step 380, Loss 0.3835162818431854\n",
            "Starting epoch 25/50, LR = [1.0000000000000012e-22]\n",
            "Step 390, Loss 0.3331487476825714\n",
            "Starting epoch 26/50, LR = [1.0000000000000014e-24]\n",
            "Step 400, Loss 0.41622236371040344\n",
            "Step 410, Loss 0.4181424379348755\n",
            "Starting epoch 27/50, LR = [1.0000000000000013e-23]\n",
            "Step 420, Loss 0.3154877722263336\n",
            "Step 430, Loss 0.35440582036972046\n",
            "Starting epoch 28/50, LR = [1.0000000000000014e-24]\n",
            "Step 440, Loss 0.3396851718425751\n",
            "Starting epoch 29/50, LR = [1.0000000000000014e-25]\n",
            "Step 450, Loss 0.30687087774276733\n",
            "Step 460, Loss 0.3826502561569214\n",
            "Starting epoch 30/50, LR = [1.0000000000000015e-26]\n",
            "Step 470, Loss 0.31273505091667175\n",
            "Starting epoch 31/50, LR = [1.0000000000000015e-28]\n",
            "Step 480, Loss 0.33860746026039124\n",
            "Step 490, Loss 0.2735787034034729\n",
            "Starting epoch 32/50, LR = [1.0000000000000015e-27]\n",
            "Step 500, Loss 0.2957684397697449\n",
            "Step 510, Loss 0.32854515314102173\n",
            "Starting epoch 33/50, LR = [1.0000000000000015e-28]\n",
            "Step 520, Loss 0.3547573983669281\n",
            "Starting epoch 34/50, LR = [1.0000000000000016e-29]\n",
            "Step 530, Loss 0.30190280079841614\n",
            "Step 540, Loss 0.2522401213645935\n",
            "Starting epoch 35/50, LR = [1.0000000000000017e-30]\n",
            "Step 550, Loss 0.2662713825702667\n",
            "Starting epoch 36/50, LR = [1.0000000000000017e-32]\n",
            "Step 560, Loss 0.2948162257671356\n",
            "Step 570, Loss 0.354219913482666\n",
            "Starting epoch 37/50, LR = [1.0000000000000016e-31]\n",
            "Step 580, Loss 0.2791579067707062\n",
            "Step 590, Loss 0.3293774724006653\n",
            "Starting epoch 38/50, LR = [1.0000000000000017e-32]\n",
            "Step 600, Loss 0.2540692687034607\n",
            "Starting epoch 39/50, LR = [1.0000000000000018e-33]\n",
            "Step 610, Loss 0.2998144328594208\n",
            "Step 620, Loss 0.243687242269516\n",
            "Starting epoch 40/50, LR = [1.0000000000000019e-34]\n",
            "Step 630, Loss 0.2501541078090668\n",
            "Starting epoch 41/50, LR = [1.000000000000002e-36]\n",
            "Step 640, Loss 0.26182109117507935\n",
            "Step 650, Loss 0.2787628471851349\n",
            "Starting epoch 42/50, LR = [1.0000000000000019e-35]\n",
            "Step 660, Loss 0.2942676246166229\n",
            "Step 670, Loss 0.18925826251506805\n",
            "Starting epoch 43/50, LR = [1.000000000000002e-36]\n",
            "Step 680, Loss 0.2643846571445465\n",
            "Starting epoch 44/50, LR = [1.000000000000002e-37]\n",
            "Step 690, Loss 0.24603012204170227\n",
            "Step 700, Loss 0.24522770941257477\n",
            "Starting epoch 45/50, LR = [1.000000000000002e-38]\n",
            "Step 710, Loss 0.22798661887645721\n",
            "Starting epoch 46/50, LR = [1.0000000000000022e-40]\n",
            "Step 720, Loss 0.2123577892780304\n",
            "Step 730, Loss 0.21750517189502716\n",
            "Starting epoch 47/50, LR = [1.000000000000002e-39]\n",
            "Step 740, Loss 0.19589601457118988\n",
            "Step 750, Loss 0.24540220201015472\n",
            "Starting epoch 48/50, LR = [1.0000000000000022e-40]\n",
            "Step 760, Loss 0.2448326200246811\n",
            "Starting epoch 49/50, LR = [1.0000000000000022e-41]\n",
            "Step 770, Loss 0.2147667407989502\n",
            "Step 780, Loss 0.24292680621147156\n",
            "Starting epoch 50/50, LR = [1.0000000000000023e-42]\n",
            "Step 790, Loss 0.21472769975662231\n"
          ]
        }
      ]
    },
    {
      "cell_type": "markdown",
      "source": [
        "Test:"
      ],
      "metadata": {
        "id": "bjPupQnQj2mz"
      }
    },
    {
      "cell_type": "code",
      "source": [
        "net = net.to(DEVICE) # this will bring the network to GPU if DEVICE is cuda\n",
        "net.train(False) # Set Network to evaluation mode\n",
        "\n",
        "running_corrects = 0\n",
        "for images, labels in tqdm(test_dataloader):\n",
        "  images = images.to(DEVICE)\n",
        "  labels = labels.to(DEVICE)\n",
        "\n",
        "  # Forward Pass\n",
        "  outputs = net(images)\n",
        "\n",
        "  # Get predictions\n",
        "  _, preds = torch.max(outputs.data, 1)\n",
        "\n",
        "  # Update Corrects\n",
        "  running_corrects += torch.sum(preds == labels.data).data.item()\n",
        "\n",
        "# Calculate Accuracy\n",
        "accuracy = running_corrects / float(len(test_dataset))\n",
        "\n",
        "print('Test Accuracy: {}'.format(accuracy))"
      ],
      "metadata": {
        "id": "X5d46z5Tj7UK",
        "colab": {
          "base_uri": "https://localhost:8080/"
        },
        "outputId": "f85857f3-04e3-4db8-e151-7df977e4c10e"
      },
      "execution_count": null,
      "outputs": [
        {
          "output_type": "stream",
          "name": "stderr",
          "text": [
            "100%|██████████| 12/12 [00:09<00:00,  1.31it/s]"
          ]
        },
        {
          "output_type": "stream",
          "name": "stdout",
          "text": [
            "Test Accuracy: 0.8544763221569305\n"
          ]
        },
        {
          "output_type": "stream",
          "name": "stderr",
          "text": [
            "\n"
          ]
        }
      ]
    },
    {
      "cell_type": "markdown",
      "source": [
        "In this way we obtain a solid 85% of accuracy, which increases a lot the accuracy of the results."
      ],
      "metadata": {
        "id": "ibRtgQaZWFt7"
      }
    },
    {
      "cell_type": "markdown",
      "source": [
        "# train only the convolutional layers\n",
        "\n",
        "Chiaramente non ha molto senso."
      ],
      "metadata": {
        "id": "sWWugWbalkgV"
      }
    },
    {
      "cell_type": "code",
      "source": [
        "import torchvision.models as models\n",
        "net = models.alexnet(pretrained=True)\n",
        "num_classes = 102\n",
        "net.classifier[6] = nn.Linear(4096, num_classes)\n",
        "for param in net.classifier.parameters():\n",
        "  param.requires_grad = False\n"
      ],
      "metadata": {
        "id": "_WhEdhNBlrnc"
      },
      "execution_count": null,
      "outputs": []
    },
    {
      "cell_type": "markdown",
      "source": [
        "In questo modo congeliamo tutti i livelli, tranne quelli convoluzionali.\n",
        "\n",
        "Nota che features (alexnet) indica i livelli convoluzionali e classifier quelli FC."
      ],
      "metadata": {
        "id": "xwf0_So5mnKv"
      }
    },
    {
      "cell_type": "code",
      "source": [
        "optimizer = optim.SGD(net.features.parameters(), lr=0.001, momentum=0.9)"
      ],
      "metadata": {
        "id": "K2IepoAmmrYc"
      },
      "execution_count": null,
      "outputs": []
    },
    {
      "cell_type": "markdown",
      "source": [
        "Train"
      ],
      "metadata": {
        "id": "G4MCxZSCm_di"
      }
    },
    {
      "cell_type": "code",
      "source": [
        "# By default, everything is loaded to cpu\n",
        "net = net.to(DEVICE) # this will bring the network to GPU if DEVICE is cuda\n",
        "for param in net.parameters():\n",
        "  param.requires_grad = False\n",
        "for param in net.classifier[6].parameters():\n",
        "  param.requires_grad = True\n",
        "\n",
        "cudnn.benchmark # Calling this optimizes runtime\n",
        "\n",
        "current_step = 0\n",
        "NUM_EPOCHS = 50 #Adesso il training dovrebbe metterci di meno\n",
        "\n",
        "# Start iterating over the epochs\n",
        "for epoch in range(NUM_EPOCHS):\n",
        "  print('Starting epoch {}/{}, LR = {}'.format(epoch+1, NUM_EPOCHS, scheduler.get_lr()))\n",
        "\n",
        "  # Iterate over the dataset\n",
        "  for images, labels in train_dataloader:\n",
        "    # Bring data over the device of choice\n",
        "    images = images.to(DEVICE)\n",
        "    labels = labels.to(DEVICE)\n",
        "\n",
        "    net.train() # Sets module in training mode\n",
        "\n",
        "    # PyTorch, by default, accumulates gradients after each backward pass\n",
        "    # We need to manually set the gradients to zero before starting a new iteration\n",
        "    optimizer.zero_grad() # Zero-ing the gradients\n",
        "\n",
        "    # Forward pass to the network\n",
        "    outputs = net(images)\n",
        "\n",
        "    # Compute loss based on output and ground truth\n",
        "    loss = criterion(outputs, labels)\n",
        "\n",
        "    # Log loss\n",
        "    if current_step % LOG_FREQUENCY == 0:\n",
        "      print('Step {}, Loss {}'.format(current_step, loss.item()))\n",
        "\n",
        "    # Compute gradients for each layer and update weights\n",
        "    loss.backward()  # backward pass: computes gradients\n",
        "    optimizer.step() # update weights based on accumulated gradients\n",
        "\n",
        "    current_step += 1\n",
        "    # Step the scheduler\n",
        "    scheduler.step()"
      ],
      "metadata": {
        "id": "ShXO-qC0nAXk",
        "colab": {
          "base_uri": "https://localhost:8080/"
        },
        "collapsed": true,
        "outputId": "67675381-452c-4257-f329-3f2ca24336c7"
      },
      "execution_count": null,
      "outputs": [
        {
          "output_type": "stream",
          "name": "stdout",
          "text": [
            "Starting epoch 1/50, LR = [1.0000000000000023e-44]\n",
            "Step 0, Loss 4.7828240394592285\n",
            "Step 10, Loss 4.673679828643799\n",
            "Starting epoch 2/50, LR = [1.0000000000000023e-43]\n",
            "Step 20, Loss 4.536981582641602\n",
            "Step 30, Loss 4.481216907501221\n",
            "Starting epoch 3/50, LR = [1.0000000000000023e-44]\n",
            "Step 40, Loss 4.286250114440918\n",
            "Starting epoch 4/50, LR = [1.0000000000000023e-45]\n",
            "Step 50, Loss 4.330350875854492\n",
            "Step 60, Loss 3.9905595779418945\n",
            "Starting epoch 5/50, LR = [1.0000000000000024e-46]\n",
            "Step 70, Loss 3.899064540863037\n",
            "Starting epoch 6/50, LR = [1.0000000000000024e-48]\n",
            "Step 80, Loss 3.9176831245422363\n",
            "Step 90, Loss 3.5831236839294434\n",
            "Starting epoch 7/50, LR = [1.0000000000000024e-47]\n",
            "Step 100, Loss 3.6324572563171387\n",
            "Step 110, Loss 3.411252498626709\n",
            "Starting epoch 8/50, LR = [1.0000000000000024e-48]\n",
            "Step 120, Loss 3.6516542434692383\n",
            "Starting epoch 9/50, LR = [1.0000000000000024e-49]\n",
            "Step 130, Loss 3.4412460327148438\n",
            "Step 140, Loss 3.599524736404419\n",
            "Starting epoch 10/50, LR = [1.0000000000000025e-50]\n",
            "Step 150, Loss 3.611114263534546\n",
            "Starting epoch 11/50, LR = [1.0000000000000026e-52]\n",
            "Step 160, Loss 3.422043561935425\n",
            "Step 170, Loss 3.4541077613830566\n",
            "Starting epoch 12/50, LR = [1.0000000000000025e-51]\n",
            "Step 180, Loss 3.329300880432129\n",
            "Step 190, Loss 3.412630558013916\n",
            "Starting epoch 13/50, LR = [1.0000000000000026e-52]\n",
            "Step 200, Loss 3.374199628829956\n",
            "Starting epoch 14/50, LR = [1.0000000000000027e-53]\n",
            "Step 210, Loss 3.2826452255249023\n",
            "Step 220, Loss 3.1495184898376465\n",
            "Starting epoch 15/50, LR = [1.0000000000000028e-54]\n",
            "Step 230, Loss 3.0319337844848633\n",
            "Starting epoch 16/50, LR = [1.000000000000003e-56]\n",
            "Step 240, Loss 3.227191925048828\n",
            "Step 250, Loss 3.2470781803131104\n",
            "Starting epoch 17/50, LR = [1.0000000000000029e-55]\n",
            "Step 260, Loss 3.175992965698242\n",
            "Step 270, Loss 3.1125197410583496\n",
            "Starting epoch 18/50, LR = [1.000000000000003e-56]\n",
            "Step 280, Loss 3.071943521499634\n",
            "Starting epoch 19/50, LR = [1.000000000000003e-57]\n",
            "Step 290, Loss 3.3201749324798584\n",
            "Step 300, Loss 3.0550389289855957\n",
            "Starting epoch 20/50, LR = [1.0000000000000032e-58]\n",
            "Step 310, Loss 3.1317155361175537\n",
            "Starting epoch 21/50, LR = [1.0000000000000034e-60]\n",
            "Step 320, Loss 2.91650652885437\n",
            "Step 330, Loss 3.2153689861297607\n",
            "Starting epoch 22/50, LR = [1.0000000000000033e-59]\n",
            "Step 340, Loss 3.1626694202423096\n",
            "Step 350, Loss 2.948317050933838\n",
            "Starting epoch 23/50, LR = [1.0000000000000034e-60]\n",
            "Step 360, Loss 2.7653934955596924\n",
            "Starting epoch 24/50, LR = [1.0000000000000035e-61]\n",
            "Step 370, Loss 2.9449760913848877\n",
            "Step 380, Loss 2.8714354038238525\n",
            "Starting epoch 25/50, LR = [1.0000000000000035e-62]\n",
            "Step 390, Loss 2.8470613956451416\n",
            "Starting epoch 26/50, LR = [1.0000000000000037e-64]\n",
            "Step 400, Loss 3.0176122188568115\n",
            "Step 410, Loss 2.9500041007995605\n",
            "Starting epoch 27/50, LR = [1.0000000000000036e-63]\n",
            "Step 420, Loss 2.6835427284240723\n",
            "Step 430, Loss 2.639007806777954\n",
            "Starting epoch 28/50, LR = [1.0000000000000037e-64]\n",
            "Step 440, Loss 3.0512208938598633\n",
            "Starting epoch 29/50, LR = [1.0000000000000037e-65]\n",
            "Step 450, Loss 2.8035199642181396\n",
            "Step 460, Loss 2.7668330669403076\n",
            "Starting epoch 30/50, LR = [1.0000000000000038e-66]\n",
            "Step 470, Loss 2.8450927734375\n",
            "Starting epoch 31/50, LR = [1.000000000000004e-68]\n",
            "Step 480, Loss 2.831789255142212\n",
            "Step 490, Loss 3.029902935028076\n",
            "Starting epoch 32/50, LR = [1.0000000000000039e-67]\n",
            "Step 500, Loss 2.7148520946502686\n",
            "Step 510, Loss 2.78346848487854\n",
            "Starting epoch 33/50, LR = [1.000000000000004e-68]\n",
            "Step 520, Loss 2.6768300533294678\n",
            "Starting epoch 34/50, LR = [1.0000000000000041e-69]\n",
            "Step 530, Loss 2.891587972640991\n",
            "Step 540, Loss 2.788926124572754\n",
            "Starting epoch 35/50, LR = [1.0000000000000042e-70]\n",
            "Step 550, Loss 2.6772470474243164\n",
            "Starting epoch 36/50, LR = [1.0000000000000042e-72]\n",
            "Step 560, Loss 2.7815730571746826\n",
            "Step 570, Loss 2.6079869270324707\n",
            "Starting epoch 37/50, LR = [1.0000000000000041e-71]\n",
            "Step 580, Loss 2.5898516178131104\n",
            "Step 590, Loss 2.6571946144104004\n",
            "Starting epoch 38/50, LR = [1.0000000000000042e-72]\n",
            "Step 600, Loss 2.5932185649871826\n",
            "Starting epoch 39/50, LR = [1.0000000000000042e-73]\n",
            "Step 610, Loss 2.6646645069122314\n",
            "Step 620, Loss 2.573820114135742\n",
            "Starting epoch 40/50, LR = [1.0000000000000043e-74]\n",
            "Step 630, Loss 2.6329362392425537\n",
            "Starting epoch 41/50, LR = [1.0000000000000044e-76]\n",
            "Step 640, Loss 2.6503212451934814\n",
            "Step 650, Loss 2.6941871643066406\n",
            "Starting epoch 42/50, LR = [1.0000000000000044e-75]\n",
            "Step 660, Loss 2.713073492050171\n",
            "Step 670, Loss 2.641317844390869\n",
            "Starting epoch 43/50, LR = [1.0000000000000044e-76]\n",
            "Step 680, Loss 2.8384933471679688\n",
            "Starting epoch 44/50, LR = [1.0000000000000043e-77]\n",
            "Step 690, Loss 2.396078109741211\n",
            "Step 700, Loss 2.7486202716827393\n",
            "Starting epoch 45/50, LR = [1.0000000000000044e-78]\n",
            "Step 710, Loss 2.277487277984619\n",
            "Starting epoch 46/50, LR = [1.0000000000000045e-80]\n",
            "Step 720, Loss 2.3843488693237305\n",
            "Step 730, Loss 2.6055264472961426\n",
            "Starting epoch 47/50, LR = [1.0000000000000045e-79]\n",
            "Step 740, Loss 2.433774948120117\n",
            "Step 750, Loss 2.4267027378082275\n",
            "Starting epoch 48/50, LR = [1.0000000000000045e-80]\n",
            "Step 760, Loss 2.5220787525177\n",
            "Starting epoch 49/50, LR = [1.0000000000000045e-81]\n",
            "Step 770, Loss 2.5592470169067383\n",
            "Step 780, Loss 2.383094310760498\n",
            "Starting epoch 50/50, LR = [1.0000000000000046e-82]\n",
            "Step 790, Loss 2.4847371578216553\n"
          ]
        }
      ]
    },
    {
      "cell_type": "markdown",
      "source": [
        "Test"
      ],
      "metadata": {
        "id": "kP3oWjmhnPf1"
      }
    },
    {
      "cell_type": "code",
      "source": [
        "net = net.to(DEVICE) # this will bring the network to GPU if DEVICE is cuda\n",
        "net.train(False) # Set Network to evaluation mode\n",
        "\n",
        "running_corrects = 0\n",
        "for images, labels in tqdm(test_dataloader):\n",
        "  images = images.to(DEVICE)\n",
        "  labels = labels.to(DEVICE)\n",
        "\n",
        "  # Forward Pass\n",
        "  outputs = net(images)\n",
        "\n",
        "  # Get predictions\n",
        "  _, preds = torch.max(outputs.data, 1)\n",
        "\n",
        "  # Update Corrects\n",
        "  running_corrects += torch.sum(preds == labels.data).data.item()\n",
        "\n",
        "# Calculate Accuracy\n",
        "accuracy = running_corrects / float(len(test_dataset))\n",
        "\n",
        "print('Test Accuracy: {}'.format(accuracy))"
      ],
      "metadata": {
        "id": "nwOJjLBMnQrh",
        "colab": {
          "base_uri": "https://localhost:8080/"
        },
        "outputId": "19c8462f-c66a-47cf-b69e-066fc74cd083"
      },
      "execution_count": null,
      "outputs": [
        {
          "output_type": "stream",
          "name": "stderr",
          "text": [
            "100%|██████████| 12/12 [00:09<00:00,  1.30it/s]"
          ]
        },
        {
          "output_type": "stream",
          "name": "stdout",
          "text": [
            "Test Accuracy: 0.48392671966816453\n"
          ]
        },
        {
          "output_type": "stream",
          "name": "stderr",
          "text": [
            "\n"
          ]
        }
      ]
    },
    {
      "cell_type": "markdown",
      "source": [
        "Chiaramente otteniamo risultati peggiori rispetto al precedente caso di transfer learning perché non ha molto senso congelare la parte FC e fare il fine tuning dei livelli convoluzionali."
      ],
      "metadata": {
        "id": "QH-htXigYjN7"
      }
    },
    {
      "cell_type": "markdown",
      "source": [
        "# Data augmentation\n",
        "\n",
        "Andiamo ad effettuare delle operazioni di capovolgimento dell'immagine o operazioni sui colori, combiniamoli assieme e otteniamo delle nuove immagini trasformate. Aggiungiamo queste immagini al dataset ed effettuiamo il training su un dataset \"aumentato\"."
      ],
      "metadata": {
        "id": "-6uTjgH8nyF-"
      }
    },
    {
      "cell_type": "code",
      "source": [
        "import torch\n",
        "from torchvision.transforms import v2\n",
        "\n",
        "color_jitter = transforms.ColorJitter(\n",
        "    brightness=0.5,  # Fattore di luminosità (0 è nero, 1 è invariato, valori >1 aumentano la luminosità)\n",
        "    contrast=0.5,    # Fattore di contrasto (0 è un'immagine grigia uniforme, 1 è invariato)\n",
        "    saturation=0.5,  # Fattore di saturazione (0 è in bianco e nero, 1 è invariato)\n",
        "    hue=0.1          # Spostamento della tonalità (da -0.5 a 0.5)\n",
        ")\n",
        "\n",
        "augmentation_transform =  transforms.Compose([\n",
        "    color_jitter,\n",
        "    transforms.RandomHorizontalFlip(p=0.5),\n",
        "    transforms.Resize(256),\n",
        "    transforms.CenterCrop(224),\n",
        "    transforms.ToTensor(),\n",
        "    transforms.Normalize((0.5, 0.5, 0.5), (0.5, 0.5, 0.5))\n",
        "])\n",
        "\n",
        "train_transform = transforms.Compose([transforms.Resize(256),      # Resizes short size of the PIL image to 256\n",
        "                                      transforms.CenterCrop(224),  # Crops a central square patch of the image\n",
        "                                                                   # 224 because torchvision's AlexNet needs a 224x224 input!\n",
        "                                                                   # Remember this when applying different transformations, otherwise you get an error\n",
        "                                      transforms.ToTensor(), # Turn PIL Image to torch.Tensor\n",
        "                                      transforms.Normalize((0.5, 0.5, 0.5), (0.5, 0.5, 0.5)) # Normalizes tensor with mean and standard deviation\n",
        "])"
      ],
      "metadata": {
        "id": "7myJHiaqpy3A"
      },
      "execution_count": 17,
      "outputs": []
    },
    {
      "cell_type": "markdown",
      "source": [
        "Ricorda che la dimensione effettiva delle immagini deve essere la stessa, per evitare problemi considero le operazioni di data aumentation aggiunte alle canoniche operazioni di trasformazione."
      ],
      "metadata": {
        "id": "x7yrve-BxOdb"
      }
    },
    {
      "cell_type": "code",
      "source": [
        "# Clone github repository with data\n",
        "from torch.utils.data import ConcatDataset\n",
        "import pathlib\n",
        "print(pathlib.Path().resolve())\n",
        "if not os.path.isdir('./Caltech101'):\n",
        "  !git clone https://github.com/MachineLearning2020/Homework2-Caltech101.git\n",
        "  !mv 'Homework2-Caltech101' 'Caltech101'\n",
        "\n",
        "DATA_DIR = 'Caltech101/101_ObjectCategories'\n",
        "\n",
        "# Prepare Pytorch train/test Datasets\n",
        "train_dataset_original = Caltech(DATA_DIR, split='train',  transform=train_transform)\n",
        "train_dataset_augmented = Caltech(DATA_DIR, split='train',  transform=augmentation_transform)\n",
        "train_dataset = ConcatDataset([train_dataset_original, train_dataset_augmented])\n",
        "\n",
        "test_dataset = Caltech(DATA_DIR, split='test', transform=eval_transform)\n",
        "\n",
        "#Dobbiamo splittare il dataset, per esempio 75% e 25%:\n",
        "train_indexes = [] # split the indices for your train split\n",
        "val_indexes = []# split the indices for your val split\n",
        "\n",
        "num_train = len(train_dataset)\n",
        "indices = list(range(num_train))\n",
        "\n",
        "train_indexes, val_indexes = train_test_split(indices, test_size=0.25, random_state=42)\n",
        "\n",
        "val_dataset = Subset(train_dataset, val_indexes)\n",
        "train_dataset = Subset(train_dataset, train_indexes)\n",
        "\n",
        "# Check dataset sizes\n",
        "print('Train Dataset: {}'.format(len(train_dataset)))\n",
        "print('Valid Dataset: {}'.format(len(val_dataset)))\n",
        "print('Test Dataset: {}'.format(len(test_dataset)))"
      ],
      "metadata": {
        "id": "BQWTe-ZwrqyB",
        "colab": {
          "base_uri": "https://localhost:8080/"
        },
        "outputId": "b7cfba41-cd90-445e-bc0b-f66db6b990b6"
      },
      "execution_count": 22,
      "outputs": [
        {
          "output_type": "stream",
          "name": "stdout",
          "text": [
            "/content\n",
            "Train Dataset: 8676\n",
            "Valid Dataset: 2892\n",
            "Test Dataset: 2893\n"
          ]
        }
      ]
    },
    {
      "cell_type": "markdown",
      "source": [
        "In questo modo:\n",
        "\n",
        "train_dataset_original = Caltech(DATA_DIR, split='train',  transform=train_transform)\n",
        "\n",
        "\n",
        "train_dataset_augmented = Caltech(DATA_DIR, split='train',  transform=augmentation_transform)\n",
        "\n",
        "\n",
        "train_dataset = ConcatDataset([train_dataset_original, train_dataset_augmented])\n",
        "\n",
        "\n",
        "Stiamo creando due dataset: quello originale e quello aumentato e poi li concateniamo."
      ],
      "metadata": {
        "id": "Ydz9D7RZtcoo"
      }
    },
    {
      "cell_type": "code",
      "source": [
        "# Dataloaders iterate over pytorch datasets and transparently provide useful functions (e.g. parallelization and shuffling)\n",
        "train_dataloader = DataLoader(train_dataset, batch_size=BATCH_SIZE, shuffle=True, num_workers=4, drop_last=True)\n",
        "val_dataloader = DataLoader(val_dataset, batch_size=BATCH_SIZE, shuffle=False, num_workers=4)\n",
        "test_dataloader = DataLoader(test_dataset, batch_size=BATCH_SIZE, shuffle=False, num_workers=4)"
      ],
      "metadata": {
        "id": "XqAUpT0_tfj_"
      },
      "execution_count": 27,
      "outputs": []
    },
    {
      "cell_type": "code",
      "source": [
        "#net = alexnet()\n",
        "net.classifier[6] = nn.Linear(4096, NUM_CLASSES)"
      ],
      "metadata": {
        "id": "p-pnSvFFuEVQ"
      },
      "execution_count": 28,
      "outputs": []
    },
    {
      "cell_type": "code",
      "source": [
        "# Define loss function\n",
        "criterion = nn.CrossEntropyLoss()\n",
        "parameters_to_optimize = net.parameters()\n",
        "optimizer = optim.SGD(parameters_to_optimize, lr=LR, momentum=MOMENTUM, weight_decay=WEIGHT_DECAY)\n",
        "scheduler = optim.lr_scheduler.StepLR(optimizer, step_size=STEP_SIZE, gamma=GAMMA)\n",
        "print(len(train_dataloader))\n"
      ],
      "metadata": {
        "id": "Q_6XYrRfuixQ",
        "colab": {
          "base_uri": "https://localhost:8080/"
        },
        "outputId": "5ec6092c-6aef-405e-fd02-3626b7cdb8f6"
      },
      "execution_count": 29,
      "outputs": [
        {
          "output_type": "stream",
          "name": "stdout",
          "text": [
            "33\n"
          ]
        }
      ]
    },
    {
      "cell_type": "code",
      "source": [
        "\n",
        "# By default, everything is loaded to cpu\n",
        "net = net.to(DEVICE) # this will bring the network to GPU if DEVICE is cuda\n",
        "\n",
        "\n",
        "cudnn.benchmark # Calling this optimizes runtime\n",
        "\n",
        "current_step = 0\n",
        "\n",
        "NUM_EPOCHS = 30\n",
        "\n",
        "# Start iterating over the epochs\n",
        "for epoch in range(NUM_EPOCHS):\n",
        "  print('Starting epoch {}/{}, LR = {}'.format(epoch+1, NUM_EPOCHS, scheduler.get_lr()))\n",
        "\n",
        "  # Iterate over the dataset\n",
        "  for images, labels in train_dataloader:\n",
        "    # Bring data over the device of choice\n",
        "    images = images.to(DEVICE)\n",
        "    labels = labels.to(DEVICE)\n",
        "\n",
        "    net.train() # Sets module in training mode\n",
        "\n",
        "    # PyTorch, by default, accumulates gradients after each backward pass\n",
        "    # We need to manually set the gradients to zero before starting a new iteration\n",
        "    optimizer.zero_grad() # Zero-ing the gradients\n",
        "\n",
        "    # Forward pass to the network\n",
        "    outputs = net(images)\n",
        "\n",
        "    # Compute loss based on output and ground truth\n",
        "    loss = criterion(outputs, labels)\n",
        "\n",
        "    # Log loss\n",
        "    if current_step % LOG_FREQUENCY == 0:\n",
        "      print('Step {}, Loss {}'.format(current_step, loss.item()))\n",
        "\n",
        "    # Compute gradients for each layer and update weights\n",
        "    loss.backward()  # backward pass: computes gradients\n",
        "    optimizer.step() # update weights based on accumulated gradients\n",
        "\n",
        "    current_step += 1\n",
        "    # Step the scheduler\n",
        "    scheduler.step()"
      ],
      "metadata": {
        "id": "WOoE8TbzuqRj",
        "colab": {
          "base_uri": "https://localhost:8080/",
          "height": 373
        },
        "collapsed": true,
        "outputId": "c9c175dc-6de5-46a9-b722-96ab949b43b0"
      },
      "execution_count": 30,
      "outputs": [
        {
          "output_type": "stream",
          "name": "stdout",
          "text": [
            "Starting epoch 1/30, LR = [0.001]\n"
          ]
        },
        {
          "output_type": "error",
          "ename": "KeyboardInterrupt",
          "evalue": "",
          "traceback": [
            "\u001b[0;31m---------------------------------------------------------------------------\u001b[0m",
            "\u001b[0;31mKeyboardInterrupt\u001b[0m                         Traceback (most recent call last)",
            "\u001b[0;32m<ipython-input-30-5314a024bbd7>\u001b[0m in \u001b[0;36m<cell line: 12>\u001b[0;34m()\u001b[0m\n\u001b[1;32m     14\u001b[0m \u001b[0;34m\u001b[0m\u001b[0m\n\u001b[1;32m     15\u001b[0m   \u001b[0;31m# Iterate over the dataset\u001b[0m\u001b[0;34m\u001b[0m\u001b[0;34m\u001b[0m\u001b[0m\n\u001b[0;32m---> 16\u001b[0;31m   \u001b[0;32mfor\u001b[0m \u001b[0mimages\u001b[0m\u001b[0;34m,\u001b[0m \u001b[0mlabels\u001b[0m \u001b[0;32min\u001b[0m \u001b[0mtrain_dataloader\u001b[0m\u001b[0;34m:\u001b[0m\u001b[0;34m\u001b[0m\u001b[0;34m\u001b[0m\u001b[0m\n\u001b[0m\u001b[1;32m     17\u001b[0m     \u001b[0;31m# Bring data over the device of choice\u001b[0m\u001b[0;34m\u001b[0m\u001b[0;34m\u001b[0m\u001b[0m\n\u001b[1;32m     18\u001b[0m     \u001b[0mimages\u001b[0m \u001b[0;34m=\u001b[0m \u001b[0mimages\u001b[0m\u001b[0;34m.\u001b[0m\u001b[0mto\u001b[0m\u001b[0;34m(\u001b[0m\u001b[0mDEVICE\u001b[0m\u001b[0;34m)\u001b[0m\u001b[0;34m\u001b[0m\u001b[0;34m\u001b[0m\u001b[0m\n",
            "\u001b[0;32m/usr/local/lib/python3.10/dist-packages/torch/utils/data/dataloader.py\u001b[0m in \u001b[0;36m__next__\u001b[0;34m(self)\u001b[0m\n\u001b[1;32m    699\u001b[0m                 \u001b[0;31m# TODO(https://github.com/pytorch/pytorch/issues/76750)\u001b[0m\u001b[0;34m\u001b[0m\u001b[0;34m\u001b[0m\u001b[0m\n\u001b[1;32m    700\u001b[0m                 \u001b[0mself\u001b[0m\u001b[0;34m.\u001b[0m\u001b[0m_reset\u001b[0m\u001b[0;34m(\u001b[0m\u001b[0;34m)\u001b[0m  \u001b[0;31m# type: ignore[call-arg]\u001b[0m\u001b[0;34m\u001b[0m\u001b[0;34m\u001b[0m\u001b[0m\n\u001b[0;32m--> 701\u001b[0;31m             \u001b[0mdata\u001b[0m \u001b[0;34m=\u001b[0m \u001b[0mself\u001b[0m\u001b[0;34m.\u001b[0m\u001b[0m_next_data\u001b[0m\u001b[0;34m(\u001b[0m\u001b[0;34m)\u001b[0m\u001b[0;34m\u001b[0m\u001b[0;34m\u001b[0m\u001b[0m\n\u001b[0m\u001b[1;32m    702\u001b[0m             \u001b[0mself\u001b[0m\u001b[0;34m.\u001b[0m\u001b[0m_num_yielded\u001b[0m \u001b[0;34m+=\u001b[0m \u001b[0;36m1\u001b[0m\u001b[0;34m\u001b[0m\u001b[0;34m\u001b[0m\u001b[0m\n\u001b[1;32m    703\u001b[0m             if (\n",
            "\u001b[0;32m/usr/local/lib/python3.10/dist-packages/torch/utils/data/dataloader.py\u001b[0m in \u001b[0;36m_next_data\u001b[0;34m(self)\u001b[0m\n\u001b[1;32m   1446\u001b[0m \u001b[0;34m\u001b[0m\u001b[0m\n\u001b[1;32m   1447\u001b[0m             \u001b[0;32massert\u001b[0m \u001b[0;32mnot\u001b[0m \u001b[0mself\u001b[0m\u001b[0;34m.\u001b[0m\u001b[0m_shutdown\u001b[0m \u001b[0;32mand\u001b[0m \u001b[0mself\u001b[0m\u001b[0;34m.\u001b[0m\u001b[0m_tasks_outstanding\u001b[0m \u001b[0;34m>\u001b[0m \u001b[0;36m0\u001b[0m\u001b[0;34m\u001b[0m\u001b[0;34m\u001b[0m\u001b[0m\n\u001b[0;32m-> 1448\u001b[0;31m             \u001b[0midx\u001b[0m\u001b[0;34m,\u001b[0m \u001b[0mdata\u001b[0m \u001b[0;34m=\u001b[0m \u001b[0mself\u001b[0m\u001b[0;34m.\u001b[0m\u001b[0m_get_data\u001b[0m\u001b[0;34m(\u001b[0m\u001b[0;34m)\u001b[0m\u001b[0;34m\u001b[0m\u001b[0;34m\u001b[0m\u001b[0m\n\u001b[0m\u001b[1;32m   1449\u001b[0m             \u001b[0mself\u001b[0m\u001b[0;34m.\u001b[0m\u001b[0m_tasks_outstanding\u001b[0m \u001b[0;34m-=\u001b[0m \u001b[0;36m1\u001b[0m\u001b[0;34m\u001b[0m\u001b[0;34m\u001b[0m\u001b[0m\n\u001b[1;32m   1450\u001b[0m             \u001b[0;32mif\u001b[0m \u001b[0mself\u001b[0m\u001b[0;34m.\u001b[0m\u001b[0m_dataset_kind\u001b[0m \u001b[0;34m==\u001b[0m \u001b[0m_DatasetKind\u001b[0m\u001b[0;34m.\u001b[0m\u001b[0mIterable\u001b[0m\u001b[0;34m:\u001b[0m\u001b[0;34m\u001b[0m\u001b[0;34m\u001b[0m\u001b[0m\n",
            "\u001b[0;32m/usr/local/lib/python3.10/dist-packages/torch/utils/data/dataloader.py\u001b[0m in \u001b[0;36m_get_data\u001b[0;34m(self)\u001b[0m\n\u001b[1;32m   1410\u001b[0m         \u001b[0;32melse\u001b[0m\u001b[0;34m:\u001b[0m\u001b[0;34m\u001b[0m\u001b[0;34m\u001b[0m\u001b[0m\n\u001b[1;32m   1411\u001b[0m             \u001b[0;32mwhile\u001b[0m \u001b[0;32mTrue\u001b[0m\u001b[0;34m:\u001b[0m\u001b[0;34m\u001b[0m\u001b[0;34m\u001b[0m\u001b[0m\n\u001b[0;32m-> 1412\u001b[0;31m                 \u001b[0msuccess\u001b[0m\u001b[0;34m,\u001b[0m \u001b[0mdata\u001b[0m \u001b[0;34m=\u001b[0m \u001b[0mself\u001b[0m\u001b[0;34m.\u001b[0m\u001b[0m_try_get_data\u001b[0m\u001b[0;34m(\u001b[0m\u001b[0;34m)\u001b[0m\u001b[0;34m\u001b[0m\u001b[0;34m\u001b[0m\u001b[0m\n\u001b[0m\u001b[1;32m   1413\u001b[0m                 \u001b[0;32mif\u001b[0m \u001b[0msuccess\u001b[0m\u001b[0;34m:\u001b[0m\u001b[0;34m\u001b[0m\u001b[0;34m\u001b[0m\u001b[0m\n\u001b[1;32m   1414\u001b[0m                     \u001b[0;32mreturn\u001b[0m \u001b[0mdata\u001b[0m\u001b[0;34m\u001b[0m\u001b[0;34m\u001b[0m\u001b[0m\n",
            "\u001b[0;32m/usr/local/lib/python3.10/dist-packages/torch/utils/data/dataloader.py\u001b[0m in \u001b[0;36m_try_get_data\u001b[0;34m(self, timeout)\u001b[0m\n\u001b[1;32m   1241\u001b[0m         \u001b[0;31m#   (bool: whether successfully get data, any: data if successful else None)\u001b[0m\u001b[0;34m\u001b[0m\u001b[0;34m\u001b[0m\u001b[0m\n\u001b[1;32m   1242\u001b[0m         \u001b[0;32mtry\u001b[0m\u001b[0;34m:\u001b[0m\u001b[0;34m\u001b[0m\u001b[0;34m\u001b[0m\u001b[0m\n\u001b[0;32m-> 1243\u001b[0;31m             \u001b[0mdata\u001b[0m \u001b[0;34m=\u001b[0m \u001b[0mself\u001b[0m\u001b[0;34m.\u001b[0m\u001b[0m_data_queue\u001b[0m\u001b[0;34m.\u001b[0m\u001b[0mget\u001b[0m\u001b[0;34m(\u001b[0m\u001b[0mtimeout\u001b[0m\u001b[0;34m=\u001b[0m\u001b[0mtimeout\u001b[0m\u001b[0;34m)\u001b[0m\u001b[0;34m\u001b[0m\u001b[0;34m\u001b[0m\u001b[0m\n\u001b[0m\u001b[1;32m   1244\u001b[0m             \u001b[0;32mreturn\u001b[0m \u001b[0;34m(\u001b[0m\u001b[0;32mTrue\u001b[0m\u001b[0;34m,\u001b[0m \u001b[0mdata\u001b[0m\u001b[0;34m)\u001b[0m\u001b[0;34m\u001b[0m\u001b[0;34m\u001b[0m\u001b[0m\n\u001b[1;32m   1245\u001b[0m         \u001b[0;32mexcept\u001b[0m \u001b[0mException\u001b[0m \u001b[0;32mas\u001b[0m \u001b[0me\u001b[0m\u001b[0;34m:\u001b[0m\u001b[0;34m\u001b[0m\u001b[0;34m\u001b[0m\u001b[0m\n",
            "\u001b[0;32m/usr/lib/python3.10/multiprocessing/queues.py\u001b[0m in \u001b[0;36mget\u001b[0;34m(self, block, timeout)\u001b[0m\n\u001b[1;32m    111\u001b[0m                 \u001b[0;32mif\u001b[0m \u001b[0mblock\u001b[0m\u001b[0;34m:\u001b[0m\u001b[0;34m\u001b[0m\u001b[0;34m\u001b[0m\u001b[0m\n\u001b[1;32m    112\u001b[0m                     \u001b[0mtimeout\u001b[0m \u001b[0;34m=\u001b[0m \u001b[0mdeadline\u001b[0m \u001b[0;34m-\u001b[0m \u001b[0mtime\u001b[0m\u001b[0;34m.\u001b[0m\u001b[0mmonotonic\u001b[0m\u001b[0;34m(\u001b[0m\u001b[0;34m)\u001b[0m\u001b[0;34m\u001b[0m\u001b[0;34m\u001b[0m\u001b[0m\n\u001b[0;32m--> 113\u001b[0;31m                     \u001b[0;32mif\u001b[0m \u001b[0;32mnot\u001b[0m \u001b[0mself\u001b[0m\u001b[0;34m.\u001b[0m\u001b[0m_poll\u001b[0m\u001b[0;34m(\u001b[0m\u001b[0mtimeout\u001b[0m\u001b[0;34m)\u001b[0m\u001b[0;34m:\u001b[0m\u001b[0;34m\u001b[0m\u001b[0;34m\u001b[0m\u001b[0m\n\u001b[0m\u001b[1;32m    114\u001b[0m                         \u001b[0;32mraise\u001b[0m \u001b[0mEmpty\u001b[0m\u001b[0;34m\u001b[0m\u001b[0;34m\u001b[0m\u001b[0m\n\u001b[1;32m    115\u001b[0m                 \u001b[0;32melif\u001b[0m \u001b[0;32mnot\u001b[0m \u001b[0mself\u001b[0m\u001b[0;34m.\u001b[0m\u001b[0m_poll\u001b[0m\u001b[0;34m(\u001b[0m\u001b[0;34m)\u001b[0m\u001b[0;34m:\u001b[0m\u001b[0;34m\u001b[0m\u001b[0;34m\u001b[0m\u001b[0m\n",
            "\u001b[0;32m/usr/lib/python3.10/multiprocessing/connection.py\u001b[0m in \u001b[0;36mpoll\u001b[0;34m(self, timeout)\u001b[0m\n\u001b[1;32m    255\u001b[0m         \u001b[0mself\u001b[0m\u001b[0;34m.\u001b[0m\u001b[0m_check_closed\u001b[0m\u001b[0;34m(\u001b[0m\u001b[0;34m)\u001b[0m\u001b[0;34m\u001b[0m\u001b[0;34m\u001b[0m\u001b[0m\n\u001b[1;32m    256\u001b[0m         \u001b[0mself\u001b[0m\u001b[0;34m.\u001b[0m\u001b[0m_check_readable\u001b[0m\u001b[0;34m(\u001b[0m\u001b[0;34m)\u001b[0m\u001b[0;34m\u001b[0m\u001b[0;34m\u001b[0m\u001b[0m\n\u001b[0;32m--> 257\u001b[0;31m         \u001b[0;32mreturn\u001b[0m \u001b[0mself\u001b[0m\u001b[0;34m.\u001b[0m\u001b[0m_poll\u001b[0m\u001b[0;34m(\u001b[0m\u001b[0mtimeout\u001b[0m\u001b[0;34m)\u001b[0m\u001b[0;34m\u001b[0m\u001b[0;34m\u001b[0m\u001b[0m\n\u001b[0m\u001b[1;32m    258\u001b[0m \u001b[0;34m\u001b[0m\u001b[0m\n\u001b[1;32m    259\u001b[0m     \u001b[0;32mdef\u001b[0m \u001b[0m__enter__\u001b[0m\u001b[0;34m(\u001b[0m\u001b[0mself\u001b[0m\u001b[0;34m)\u001b[0m\u001b[0;34m:\u001b[0m\u001b[0;34m\u001b[0m\u001b[0;34m\u001b[0m\u001b[0m\n",
            "\u001b[0;32m/usr/lib/python3.10/multiprocessing/connection.py\u001b[0m in \u001b[0;36m_poll\u001b[0;34m(self, timeout)\u001b[0m\n\u001b[1;32m    422\u001b[0m \u001b[0;34m\u001b[0m\u001b[0m\n\u001b[1;32m    423\u001b[0m     \u001b[0;32mdef\u001b[0m \u001b[0m_poll\u001b[0m\u001b[0;34m(\u001b[0m\u001b[0mself\u001b[0m\u001b[0;34m,\u001b[0m \u001b[0mtimeout\u001b[0m\u001b[0;34m)\u001b[0m\u001b[0;34m:\u001b[0m\u001b[0;34m\u001b[0m\u001b[0;34m\u001b[0m\u001b[0m\n\u001b[0;32m--> 424\u001b[0;31m         \u001b[0mr\u001b[0m \u001b[0;34m=\u001b[0m \u001b[0mwait\u001b[0m\u001b[0;34m(\u001b[0m\u001b[0;34m[\u001b[0m\u001b[0mself\u001b[0m\u001b[0;34m]\u001b[0m\u001b[0;34m,\u001b[0m \u001b[0mtimeout\u001b[0m\u001b[0;34m)\u001b[0m\u001b[0;34m\u001b[0m\u001b[0;34m\u001b[0m\u001b[0m\n\u001b[0m\u001b[1;32m    425\u001b[0m         \u001b[0;32mreturn\u001b[0m \u001b[0mbool\u001b[0m\u001b[0;34m(\u001b[0m\u001b[0mr\u001b[0m\u001b[0;34m)\u001b[0m\u001b[0;34m\u001b[0m\u001b[0;34m\u001b[0m\u001b[0m\n\u001b[1;32m    426\u001b[0m \u001b[0;34m\u001b[0m\u001b[0m\n",
            "\u001b[0;32m/usr/lib/python3.10/multiprocessing/connection.py\u001b[0m in \u001b[0;36mwait\u001b[0;34m(object_list, timeout)\u001b[0m\n\u001b[1;32m    929\u001b[0m \u001b[0;34m\u001b[0m\u001b[0m\n\u001b[1;32m    930\u001b[0m             \u001b[0;32mwhile\u001b[0m \u001b[0;32mTrue\u001b[0m\u001b[0;34m:\u001b[0m\u001b[0;34m\u001b[0m\u001b[0;34m\u001b[0m\u001b[0m\n\u001b[0;32m--> 931\u001b[0;31m                 \u001b[0mready\u001b[0m \u001b[0;34m=\u001b[0m \u001b[0mselector\u001b[0m\u001b[0;34m.\u001b[0m\u001b[0mselect\u001b[0m\u001b[0;34m(\u001b[0m\u001b[0mtimeout\u001b[0m\u001b[0;34m)\u001b[0m\u001b[0;34m\u001b[0m\u001b[0;34m\u001b[0m\u001b[0m\n\u001b[0m\u001b[1;32m    932\u001b[0m                 \u001b[0;32mif\u001b[0m \u001b[0mready\u001b[0m\u001b[0;34m:\u001b[0m\u001b[0;34m\u001b[0m\u001b[0;34m\u001b[0m\u001b[0m\n\u001b[1;32m    933\u001b[0m                     \u001b[0;32mreturn\u001b[0m \u001b[0;34m[\u001b[0m\u001b[0mkey\u001b[0m\u001b[0;34m.\u001b[0m\u001b[0mfileobj\u001b[0m \u001b[0;32mfor\u001b[0m \u001b[0;34m(\u001b[0m\u001b[0mkey\u001b[0m\u001b[0;34m,\u001b[0m \u001b[0mevents\u001b[0m\u001b[0;34m)\u001b[0m \u001b[0;32min\u001b[0m \u001b[0mready\u001b[0m\u001b[0;34m]\u001b[0m\u001b[0;34m\u001b[0m\u001b[0;34m\u001b[0m\u001b[0m\n",
            "\u001b[0;32m/usr/lib/python3.10/selectors.py\u001b[0m in \u001b[0;36mselect\u001b[0;34m(self, timeout)\u001b[0m\n\u001b[1;32m    414\u001b[0m         \u001b[0mready\u001b[0m \u001b[0;34m=\u001b[0m \u001b[0;34m[\u001b[0m\u001b[0;34m]\u001b[0m\u001b[0;34m\u001b[0m\u001b[0;34m\u001b[0m\u001b[0m\n\u001b[1;32m    415\u001b[0m         \u001b[0;32mtry\u001b[0m\u001b[0;34m:\u001b[0m\u001b[0;34m\u001b[0m\u001b[0;34m\u001b[0m\u001b[0m\n\u001b[0;32m--> 416\u001b[0;31m             \u001b[0mfd_event_list\u001b[0m \u001b[0;34m=\u001b[0m \u001b[0mself\u001b[0m\u001b[0;34m.\u001b[0m\u001b[0m_selector\u001b[0m\u001b[0;34m.\u001b[0m\u001b[0mpoll\u001b[0m\u001b[0;34m(\u001b[0m\u001b[0mtimeout\u001b[0m\u001b[0;34m)\u001b[0m\u001b[0;34m\u001b[0m\u001b[0;34m\u001b[0m\u001b[0m\n\u001b[0m\u001b[1;32m    417\u001b[0m         \u001b[0;32mexcept\u001b[0m \u001b[0mInterruptedError\u001b[0m\u001b[0;34m:\u001b[0m\u001b[0;34m\u001b[0m\u001b[0;34m\u001b[0m\u001b[0m\n\u001b[1;32m    418\u001b[0m             \u001b[0;32mreturn\u001b[0m \u001b[0mready\u001b[0m\u001b[0;34m\u001b[0m\u001b[0;34m\u001b[0m\u001b[0m\n",
            "\u001b[0;31mKeyboardInterrupt\u001b[0m: "
          ]
        }
      ]
    },
    {
      "cell_type": "code",
      "source": [
        "net = net.to(DEVICE) # this will bring the network to GPU if DEVICE is cuda\n",
        "net.train(False) # Set Network to evaluation mode\n",
        "\n",
        "running_corrects = 0\n",
        "for images, labels in tqdm(test_dataloader):\n",
        "  images = images.to(DEVICE)\n",
        "  labels = labels.to(DEVICE)\n",
        "\n",
        "  # Forward Pass\n",
        "  outputs = net(images)\n",
        "\n",
        "  # Get predictions\n",
        "  _, preds = torch.max(outputs.data, 1)\n",
        "\n",
        "  # Update Corrects\n",
        "  running_corrects += torch.sum(preds == labels.data).data.item()\n",
        "\n",
        "# Calculate Accuracy\n",
        "accuracy = running_corrects / float(len(test_dataset))\n",
        "\n",
        "print('Test Accuracy: {}'.format(accuracy))"
      ],
      "metadata": {
        "id": "xfK4EVFCxdgF",
        "colab": {
          "base_uri": "https://localhost:8080/"
        },
        "outputId": "16aa34e4-1d12-4070-e85f-8f61fe9b06d3"
      },
      "execution_count": null,
      "outputs": [
        {
          "output_type": "stream",
          "name": "stderr",
          "text": [
            "100%|██████████| 12/12 [00:10<00:00,  1.15it/s]"
          ]
        },
        {
          "output_type": "stream",
          "name": "stdout",
          "text": [
            "Test Accuracy: 0.4154856550293813\n"
          ]
        },
        {
          "output_type": "stream",
          "name": "stderr",
          "text": [
            "\n"
          ]
        }
      ]
    },
    {
      "cell_type": "markdown",
      "source": [
        "Questo migliora notevolmente i risultati rispetto a non effettuare nessun data aumentation.\n",
        "\n",
        "# Transfer learning + Data augmentation\n",
        "Sarebbe utile provare a vedere che cosa succederebbe usando Transfer learning + data aumentation."
      ],
      "metadata": {
        "id": "vhACYvcMjdoy"
      }
    },
    {
      "cell_type": "code",
      "source": [
        "\n",
        "# By default, everything is loaded to cpu\n",
        "net = net.to(DEVICE) # this will bring the network to GPU if DEVICE is cuda\n",
        "for param in net.parameters():\n",
        "  param.requires_grad = False\n",
        "for param in net.classifier[6].parameters():\n",
        "  param.requires_grad = True\n",
        "optimizer = optim.SGD(net.classifier[6].parameters(), lr=0.001, momentum=0.9)\n",
        "cudnn.benchmark # Calling this optimizes runtime\n",
        "\n",
        "current_step = 0\n",
        "\n",
        "NUM_EPOCHS = 50\n",
        "\n",
        "# Start iterating over the epochs\n",
        "for epoch in range(NUM_EPOCHS):\n",
        "  print('Starting epoch {}/{}, LR = {}'.format(epoch+1, NUM_EPOCHS, scheduler.get_lr()))\n",
        "\n",
        "  # Iterate over the dataset\n",
        "  for images, labels in train_dataloader:\n",
        "    # Bring data over the device of choice\n",
        "    images = images.to(DEVICE)\n",
        "    labels = labels.to(DEVICE)\n",
        "\n",
        "    net.train() # Sets module in training mode\n",
        "\n",
        "    # PyTorch, by default, accumulates gradients after each backward pass\n",
        "    # We need to manually set the gradients to zero before starting a new iteration\n",
        "    optimizer.zero_grad() # Zero-ing the gradients\n",
        "\n",
        "    # Forward pass to the network\n",
        "    outputs = net(images)\n",
        "\n",
        "    # Compute loss based on output and ground truth\n",
        "    loss = criterion(outputs, labels)\n",
        "\n",
        "    # Log loss\n",
        "    if current_step % LOG_FREQUENCY == 0:\n",
        "      print('Step {}, Loss {}'.format(current_step, loss.item()))\n",
        "\n",
        "    # Compute gradients for each layer and update weights\n",
        "    loss.backward()  # backward pass: computes gradients\n",
        "    optimizer.step() # update weights based on accumulated gradients\n",
        "\n",
        "    current_step += 1\n",
        "    # Step the scheduler\n",
        "    scheduler.step()"
      ],
      "metadata": {
        "id": "wX6gOffyjpTf",
        "outputId": "1f275765-08da-4f59-9c28-9b4e0c89a3f3",
        "colab": {
          "base_uri": "https://localhost:8080/"
        }
      },
      "execution_count": 33,
      "outputs": [
        {
          "output_type": "stream",
          "name": "stdout",
          "text": [
            "Starting epoch 1/50, LR = [1.0000000000000038e-66]\n",
            "Step 0, Loss 2.7222819328308105\n",
            "Step 10, Loss 2.4839582443237305\n",
            "Step 20, Loss 2.271599769592285\n",
            "Step 30, Loss 2.0807244777679443\n",
            "Starting epoch 2/50, LR = [1.000000000000004e-68]\n",
            "Step 40, Loss 1.7578320503234863\n",
            "Step 50, Loss 1.3980729579925537\n",
            "Step 60, Loss 1.5534706115722656\n",
            "Starting epoch 3/50, LR = [1.0000000000000041e-71]\n",
            "Step 70, Loss 1.409494400024414\n",
            "Step 80, Loss 1.2698101997375488\n",
            "Step 90, Loss 1.0305572748184204\n",
            "Starting epoch 4/50, LR = [1.0000000000000041e-71]\n",
            "Step 100, Loss 1.1257147789001465\n",
            "Step 110, Loss 1.1100919246673584\n",
            "Step 120, Loss 1.1043113470077515\n",
            "Step 130, Loss 0.8852432370185852\n",
            "Starting epoch 5/50, LR = [1.0000000000000042e-73]\n",
            "Step 140, Loss 0.9758832454681396\n",
            "Step 150, Loss 0.9318514466285706\n",
            "Step 160, Loss 0.928142249584198\n",
            "Starting epoch 6/50, LR = [1.0000000000000043e-74]\n",
            "Step 170, Loss 0.8125075101852417\n",
            "Step 180, Loss 0.8253057599067688\n",
            "Step 190, Loss 0.7290464639663696\n",
            "Starting epoch 7/50, LR = [1.0000000000000044e-76]\n",
            "Step 200, Loss 0.7144735455513\n",
            "Step 210, Loss 0.7264410257339478\n",
            "Step 220, Loss 0.7125481367111206\n",
            "Step 230, Loss 0.781627357006073\n",
            "Starting epoch 8/50, LR = [1.0000000000000044e-78]\n",
            "Step 240, Loss 0.6815085411071777\n",
            "Step 250, Loss 0.7047036290168762\n",
            "Step 260, Loss 0.646816074848175\n",
            "Starting epoch 9/50, LR = [1.0000000000000045e-79]\n",
            "Step 270, Loss 0.5968659520149231\n",
            "Step 280, Loss 0.6344459056854248\n",
            "Step 290, Loss 0.7260493636131287\n",
            "Starting epoch 10/50, LR = [1.0000000000000045e-81]\n",
            "Step 300, Loss 0.6396516561508179\n",
            "Step 310, Loss 0.6215381026268005\n",
            "Step 320, Loss 0.5212818384170532\n",
            "Starting epoch 11/50, LR = [1.0000000000000048e-83]\n",
            "Step 330, Loss 0.5683563351631165\n",
            "Step 340, Loss 0.5197507739067078\n",
            "Step 350, Loss 0.49488916993141174\n",
            "Step 360, Loss 0.5516495108604431\n",
            "Starting epoch 12/50, LR = [1.0000000000000048e-84]\n",
            "Step 370, Loss 0.4872583746910095\n",
            "Step 380, Loss 0.438381165266037\n",
            "Step 390, Loss 0.540921688079834\n",
            "Starting epoch 13/50, LR = [1.0000000000000049e-86]\n",
            "Step 400, Loss 0.4614834189414978\n",
            "Step 410, Loss 0.6059505939483643\n",
            "Step 420, Loss 0.5211887955665588\n",
            "Starting epoch 14/50, LR = [1.000000000000005e-88]\n",
            "Step 430, Loss 0.5837637186050415\n",
            "Step 440, Loss 0.4898829162120819\n",
            "Step 450, Loss 0.5364611148834229\n",
            "Step 460, Loss 0.48090803623199463\n",
            "Starting epoch 15/50, LR = [1.0000000000000051e-89]\n",
            "Step 470, Loss 0.5002458691596985\n",
            "Step 480, Loss 0.47147098183631897\n",
            "Step 490, Loss 0.37380269169807434\n",
            "Starting epoch 16/50, LR = [1.0000000000000053e-91]\n",
            "Step 500, Loss 0.5302674174308777\n",
            "Step 510, Loss 0.45731252431869507\n",
            "Step 520, Loss 0.41599833965301514\n",
            "Starting epoch 17/50, LR = [1.0000000000000054e-93]\n",
            "Step 530, Loss 0.45110440254211426\n",
            "Step 540, Loss 0.3828408718109131\n",
            "Step 550, Loss 0.5636426210403442\n",
            "Step 560, Loss 0.3869995176792145\n",
            "Starting epoch 18/50, LR = [1.0000000000000055e-94]\n",
            "Step 570, Loss 0.4084480404853821\n",
            "Step 580, Loss 0.39657747745513916\n",
            "Step 590, Loss 0.3814135193824768\n",
            "Starting epoch 19/50, LR = [1.0000000000000057e-96]\n",
            "Step 600, Loss 0.450876921415329\n",
            "Step 610, Loss 0.3790769875049591\n",
            "Step 620, Loss 0.43923690915107727\n",
            "Starting epoch 20/50, LR = [1.0000000000000058e-98]\n",
            "Step 630, Loss 0.42190244793891907\n",
            "Step 640, Loss 0.4619748592376709\n",
            "Step 650, Loss 0.3986373245716095\n",
            "Starting epoch 21/50, LR = [1.000000000000006e-99]\n",
            "Step 660, Loss 0.4546443521976471\n",
            "Step 670, Loss 0.4089859426021576\n",
            "Step 680, Loss 0.3617444634437561\n",
            "Step 690, Loss 0.32943618297576904\n",
            "Starting epoch 22/50, LR = [1.0000000000000061e-101]\n",
            "Step 700, Loss 0.3604939877986908\n",
            "Step 710, Loss 0.38959795236587524\n",
            "Step 720, Loss 0.40534237027168274\n",
            "Starting epoch 23/50, LR = [1.0000000000000063e-104]\n",
            "Step 730, Loss 0.3297433853149414\n",
            "Step 740, Loss 0.30706948041915894\n",
            "Step 750, Loss 0.35921916365623474\n",
            "Starting epoch 24/50, LR = [1.0000000000000063e-104]\n",
            "Step 760, Loss 0.2988812327384949\n",
            "Step 770, Loss 0.3480108678340912\n",
            "Step 780, Loss 0.37197384238243103\n",
            "Step 790, Loss 0.35152778029441833\n",
            "Starting epoch 25/50, LR = [1.0000000000000064e-106]\n",
            "Step 800, Loss 0.41756200790405273\n",
            "Step 810, Loss 0.30809855461120605\n",
            "Step 820, Loss 0.31753766536712646\n",
            "Starting epoch 26/50, LR = [1.0000000000000064e-107]\n",
            "Step 830, Loss 0.38240933418273926\n",
            "Step 840, Loss 0.32771584391593933\n",
            "Step 850, Loss 0.33976027369499207\n",
            "Starting epoch 27/50, LR = [1.0000000000000065e-109]\n",
            "Step 860, Loss 0.2644732892513275\n",
            "Step 870, Loss 0.37235334515571594\n",
            "Step 880, Loss 0.3192477524280548\n",
            "Step 890, Loss 0.3480246365070343\n",
            "Starting epoch 28/50, LR = [1.0000000000000066e-111]\n",
            "Step 900, Loss 0.28014039993286133\n",
            "Step 910, Loss 0.3107592463493347\n",
            "Step 920, Loss 0.30734407901763916\n",
            "Starting epoch 29/50, LR = [1.0000000000000066e-112]\n",
            "Step 930, Loss 0.29845330119132996\n",
            "Step 940, Loss 0.35856059193611145\n",
            "Step 950, Loss 0.31544581055641174\n",
            "Starting epoch 30/50, LR = [1.0000000000000069e-114]\n",
            "Step 960, Loss 0.29181063175201416\n",
            "Step 970, Loss 0.2572636604309082\n",
            "Step 980, Loss 0.36448705196380615\n",
            "Starting epoch 31/50, LR = [1.000000000000007e-116]\n",
            "Step 990, Loss 0.3432086110115051\n",
            "Step 1000, Loss 0.27586913108825684\n",
            "Step 1010, Loss 0.3282194137573242\n",
            "Step 1020, Loss 0.3298312723636627\n",
            "Starting epoch 32/50, LR = [1.000000000000007e-117]\n",
            "Step 1030, Loss 0.27770334482192993\n",
            "Step 1040, Loss 0.3447421193122864\n",
            "Step 1050, Loss 0.32664233446121216\n",
            "Starting epoch 33/50, LR = [1.000000000000007e-119]\n",
            "Step 1060, Loss 0.3325285315513611\n",
            "Step 1070, Loss 0.2688644230365753\n",
            "Step 1080, Loss 0.2667006552219391\n",
            "Starting epoch 34/50, LR = [1.000000000000007e-121]\n",
            "Step 1090, Loss 0.2791966199874878\n",
            "Step 1100, Loss 0.2989595830440521\n",
            "Step 1110, Loss 0.2120591104030609\n",
            "Step 1120, Loss 0.29872071743011475\n",
            "Starting epoch 35/50, LR = [1.0000000000000072e-122]\n",
            "Step 1130, Loss 0.31540805101394653\n",
            "Step 1140, Loss 0.2807106673717499\n",
            "Step 1150, Loss 0.23750416934490204\n",
            "Starting epoch 36/50, LR = [1.0000000000000073e-124]\n",
            "Step 1160, Loss 0.26043084263801575\n",
            "Step 1170, Loss 0.222260519862175\n",
            "Step 1180, Loss 0.31819912791252136\n",
            "Starting epoch 37/50, LR = [1.0000000000000075e-126]\n",
            "Step 1190, Loss 0.20957136154174805\n",
            "Step 1200, Loss 0.24300651252269745\n",
            "Step 1210, Loss 0.3334437310695648\n",
            "Step 1220, Loss 0.2750301659107208\n",
            "Starting epoch 38/50, LR = [1.0000000000000076e-127]\n",
            "Step 1230, Loss 0.2729337811470032\n",
            "Step 1240, Loss 0.25521862506866455\n",
            "Step 1250, Loss 0.278889924287796\n",
            "Starting epoch 39/50, LR = [1.0000000000000076e-129]\n",
            "Step 1260, Loss 0.24355174601078033\n",
            "Step 1270, Loss 0.26097914576530457\n",
            "Step 1280, Loss 0.28469935059547424\n",
            "Starting epoch 40/50, LR = [1.0000000000000077e-131]\n",
            "Step 1290, Loss 0.26229214668273926\n",
            "Step 1300, Loss 0.2658291459083557\n",
            "Step 1310, Loss 0.3818880617618561\n",
            "Starting epoch 41/50, LR = [1.0000000000000078e-132]\n",
            "Step 1320, Loss 0.22975605726242065\n",
            "Step 1330, Loss 0.30308210849761963\n",
            "Step 1340, Loss 0.3052588999271393\n",
            "Step 1350, Loss 0.2020150125026703\n",
            "Starting epoch 42/50, LR = [1.000000000000008e-134]\n",
            "Step 1360, Loss 0.21451856195926666\n",
            "Step 1370, Loss 0.24172624945640564\n",
            "Step 1380, Loss 0.23504559695720673\n",
            "Starting epoch 43/50, LR = [1.0000000000000081e-137]\n",
            "Step 1390, Loss 0.2250315397977829\n",
            "Step 1400, Loss 0.21865077316761017\n",
            "Step 1410, Loss 0.26581746339797974\n",
            "Starting epoch 44/50, LR = [1.0000000000000081e-137]\n",
            "Step 1420, Loss 0.2281825840473175\n",
            "Step 1430, Loss 0.25559160113334656\n",
            "Step 1440, Loss 0.2644047737121582\n",
            "Step 1450, Loss 0.23811480402946472\n",
            "Starting epoch 45/50, LR = [1.0000000000000082e-139]\n",
            "Step 1460, Loss 0.3049440085887909\n",
            "Step 1470, Loss 0.24535338580608368\n",
            "Step 1480, Loss 0.23226700723171234\n",
            "Starting epoch 46/50, LR = [1.0000000000000083e-140]\n",
            "Step 1490, Loss 0.2555631697177887\n",
            "Step 1500, Loss 0.17540188133716583\n",
            "Step 1510, Loss 0.21935269236564636\n",
            "Starting epoch 47/50, LR = [1.0000000000000084e-142]\n",
            "Step 1520, Loss 0.2714483439922333\n",
            "Step 1530, Loss 0.24521049857139587\n",
            "Step 1540, Loss 0.20015199482440948\n",
            "Step 1550, Loss 0.18268342316150665\n",
            "Starting epoch 48/50, LR = [1.0000000000000085e-144]\n",
            "Step 1560, Loss 0.2587611973285675\n",
            "Step 1570, Loss 0.23255056142807007\n",
            "Step 1580, Loss 0.19450002908706665\n",
            "Starting epoch 49/50, LR = [1.0000000000000086e-145]\n",
            "Step 1590, Loss 0.23109622299671173\n",
            "Step 1600, Loss 0.19511382281780243\n",
            "Step 1610, Loss 0.24042828381061554\n",
            "Starting epoch 50/50, LR = [1.0000000000000087e-147]\n",
            "Step 1620, Loss 0.2651174068450928\n",
            "Step 1630, Loss 0.24302302300930023\n",
            "Step 1640, Loss 0.241518035531044\n"
          ]
        }
      ]
    },
    {
      "cell_type": "markdown",
      "source": [
        "Testo"
      ],
      "metadata": {
        "id": "25Dig-gJIf9b"
      }
    },
    {
      "cell_type": "code",
      "source": [
        "net = net.to(DEVICE) # this will bring the network to GPU if DEVICE is cuda\n",
        "net.train(False) # Set Network to evaluation mode\n",
        "\n",
        "running_corrects = 0\n",
        "for images, labels in tqdm(test_dataloader):\n",
        "  images = images.to(DEVICE)\n",
        "  labels = labels.to(DEVICE)\n",
        "\n",
        "  # Forward Pass\n",
        "  outputs = net(images)\n",
        "\n",
        "  # Get predictions\n",
        "  _, preds = torch.max(outputs.data, 1)\n",
        "\n",
        "  # Update Corrects\n",
        "  running_corrects += torch.sum(preds == labels.data).data.item()\n",
        "\n",
        "# Calculate Accuracy\n",
        "accuracy = running_corrects / float(len(test_dataset))\n",
        "\n",
        "print('Test Accuracy: {}'.format(accuracy))"
      ],
      "metadata": {
        "id": "MDnDBovsIfQ-"
      },
      "execution_count": null,
      "outputs": []
    },
    {
      "cell_type": "markdown",
      "source": [
        "# Comparare i risultati usando altri tipi di reti neurali\n"
      ],
      "metadata": {
        "id": "hn4lmMKtjReq"
      }
    }
  ]
}