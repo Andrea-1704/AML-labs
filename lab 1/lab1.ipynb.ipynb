{
  "cells": [
    {
      "cell_type": "markdown",
      "metadata": {
        "id": "4jqNS-Di30kG"
      },
      "source": [
        "# LAB 1 (Andrea Mirenda s327644)"
      ]
    },
    {
      "cell_type": "markdown",
      "metadata": {
        "id": "2zzLvAXNK5kd"
      },
      "source": []
    },
    {
      "cell_type": "code",
      "execution_count": null,
      "metadata": {
        "id": "o6IK94yf3wzI",
        "outputId": "5f313414-47b4-4e07-a796-68f1f820605a"
      },
      "outputs": [
        {
          "name": "stderr",
          "output_type": "stream",
          "text": [
            "c:\\Users\\andrea\\AppData\\Local\\Programs\\Python\\Python312\\Lib\\site-packages\\tqdm\\auto.py:21: TqdmWarning: IProgress not found. Please update jupyter and ipywidgets. See https://ipywidgets.readthedocs.io/en/stable/user_install.html\n",
            "  from .autonotebook import tqdm as notebook_tqdm\n"
          ]
        }
      ],
      "source": [
        "import torch\n",
        "import torchvision\n",
        "import torchvision.transforms as transforms\n",
        "\n",
        "import matplotlib.pyplot as plt\n",
        "import numpy as np\n",
        "\n",
        "import tqdm.auto as tqdm"
      ]
    },
    {
      "cell_type": "markdown",
      "metadata": {
        "id": "jjytR__J66-5"
      },
      "source": [
        "## Training a network on CIFAR10"
      ]
    },
    {
      "cell_type": "markdown",
      "metadata": {
        "id": "vxGeSS4B7nAZ"
      },
      "source": [
        "### Dataset preparation"
      ]
    },
    {
      "cell_type": "markdown",
      "metadata": {
        "id": "4ac-nNMP6L0p"
      },
      "source": [
        "Con la funzione:\n",
        "\n",
        "trainloader = torch.utils.data.DataLoader(trainset, batch_size=batch_size, shuffle=True, num_workers=2)\n",
        "\n",
        "Stiamo andando a creare un DataLoader e num_workers=2 IN GENERE LO PONGO PARI AL NUMERO DI CPU CHE ABBIAMO, IN GENERE LO FISSO A 2 O 4.\n",
        "\n",
        "Ricorda che quando andiamo a trainare dobbiamo SEMPRE fare lo shuffle dei dati, ma quando TESTO NO!"
      ]
    },
    {
      "cell_type": "code",
      "execution_count": null,
      "metadata": {
        "id": "I6B3KIfD4g3r",
        "outputId": "bf034471-f987-425b-a9ef-7594175a88f2"
      },
      "outputs": [
        {
          "name": "stdout",
          "output_type": "stream",
          "text": [
            "Files already downloaded and verified\n",
            "Files already downloaded and verified\n"
          ]
        }
      ],
      "source": [
        "# Transformations to be applied to the output of the dataset\n",
        "transform = transforms.Compose([transforms.ToTensor(), transforms.Normalize((0.5, 0.5, 0.5), (0.5, 0.5, 0.5))])\n",
        "\n",
        "batch_size = 4\n",
        "\n",
        "# Training dataset and dataloader\n",
        "trainset = torchvision.datasets.CIFAR10(root='./data', train=True, download=True, transform=transform)\n",
        "trainloader = torch.utils.data.DataLoader(trainset, batch_size=batch_size, shuffle=True, num_workers=2)\n",
        "\n",
        "# Test dataset and dataloader\n",
        "testset = torchvision.datasets.CIFAR10(root='./data', train=False, download=True, transform=transform)\n",
        "testloader = torch.utils.data.DataLoader(testset, batch_size=batch_size, shuffle=False, num_workers=2)\n",
        "\n",
        "classes = ('plane', 'car', 'bird', 'cat', 'deer', 'dog', 'frog', 'horse', 'ship', 'truck')"
      ]
    },
    {
      "cell_type": "markdown",
      "metadata": {
        "id": "vBDoEqKr6L0r"
      },
      "source": [
        "Nota che :\n",
        "num_workers=2 IN GENERE LO PONGO PARI AL NUMERO DI CPU CHE ABBIAMO, IN GENERE LO FISSO A 2 O 4"
      ]
    },
    {
      "cell_type": "markdown",
      "metadata": {
        "id": "IWW2c-nq6L0s"
      },
      "source": [
        "Notice that this is a very easy task since we already have the DataLoader with the corresponding method (len, getitem and init)."
      ]
    },
    {
      "cell_type": "code",
      "execution_count": null,
      "metadata": {
        "id": "TfdT0sS07OP9",
        "outputId": "dd952de3-121c-4710-b2a4-511ddf4f1e79"
      },
      "outputs": [
        {
          "name": "stdout",
          "output_type": "stream",
          "text": [
            "torch.Size([4, 3, 32, 32])\n",
            "torch.Size([4])\n"
          ]
        },
        {
          "data": {
            "image/png": "[encoded data removed]",
            "text/plain": [
              "<Figure size 640x480 with 1 Axes>"
            ]
          },
          "metadata": {},
          "output_type": "display_data"
        },
        {
          "name": "stdout",
          "output_type": "stream",
          "text": [
            "Labels: cat, horse, cat, horse\n"
          ]
        }
      ],
      "source": [
        "def imshow(img):\n",
        "    img = img / 2 + 0.5     # unnormalize\n",
        "    npimg = img.numpy()\n",
        "    plt.imshow(np.transpose(npimg, (1, 2, 0)))\n",
        "    plt.show()\n",
        "\n",
        "dataiter = iter(trainloader)\n",
        "\n",
        "# TODO: what's the content of images and labels?\n",
        "# How are multiple images batched together\n",
        "images, labels = next(dataiter)\n",
        "print(images.shape)\n",
        "print(labels.shape)\n",
        "\n",
        "# show images\n",
        "imshow(torchvision.utils.make_grid(images))\n",
        "\n",
        "# print labels\n",
        "print('Labels: ' + ', '.join(f'{classes[labels[j]].strip()}' for j in range(batch_size)))"
      ]
    },
    {
      "cell_type": "markdown",
      "metadata": {
        "id": "oxQfUcjW6L0t"
      },
      "source": [
        "Notice that, since the trainLoader, which is the DataLoader we created indicated 4 samples, t each iterations of the learning process we are providing to the network 4 distinct images.\n",
        "Infact, the result of the function:\n",
        "\n",
        "dataiter = iter(trainloader)\n",
        "\n",
        "images, labels = next(dataiter)\n",
        "\n",
        "is one that has as images 4 distinct images, so the shape of images will be [4,3,32,32], which means 4 images of shape [3,32,32]. And as labels the shape will be simply [4] and contains the categorical attributes related to each image."
      ]
    },
    {
      "cell_type": "markdown",
      "metadata": {
        "id": "Bkze8yai8DsP"
      },
      "source": [
        "## Network definition\n",
        "\n",
        "Let's define a very basic neural network that takes an image as input and outputs one out of 10 labels."
      ]
    },
    {
      "cell_type": "code",
      "execution_count": null,
      "metadata": {
        "id": "y1hI7rlS7qBq",
        "outputId": "cf987ef0-4f86-4366-9e31-140c571f618b"
      },
      "outputs": [
        {
          "name": "stdout",
          "output_type": "stream",
          "text": [
            "Net(\n",
            "  (conv1): Conv2d(3, 6, kernel_size=(5, 5), stride=(1, 1))\n",
            "  (pool): MaxPool2d(kernel_size=2, stride=2, padding=0, dilation=1, ceil_mode=False)\n",
            "  (conv2): Conv2d(6, 16, kernel_size=(5, 5), stride=(1, 1))\n",
            "  (fc1): Linear(in_features=400, out_features=120, bias=True)\n",
            "  (fc2): Linear(in_features=120, out_features=84, bias=True)\n",
            "  (fc3): Linear(in_features=84, out_features=10, bias=True)\n",
            ")\n"
          ]
        }
      ],
      "source": [
        "import torch.nn as nn\n",
        "import torch.nn.functional as F\n",
        "\n",
        "#uso due Convolution layer e la softmax function.\n",
        "class Net(nn.Module):\n",
        "    def __init__(self, n_classes: int = 10):\n",
        "        super().__init__()\n",
        "        self.conv1 = nn.Conv2d(3, 6, 5)\n",
        "        self.pool = nn.MaxPool2d(2, 2)\n",
        "        self.conv2 = nn.Conv2d(6, 16, 5)\n",
        "        self.fc1 = nn.Linear(16 * 5 * 5, 120)\n",
        "        self.fc2 = nn.Linear(120, 84)\n",
        "        self.fc3 = nn.Linear(84, n_classes)\n",
        "\n",
        "    def forward(self, x):\n",
        "        x = self.pool(F.relu(self.conv1(x)))\n",
        "        x = self.pool(F.relu(self.conv2(x)))\n",
        "        x = torch.flatten(x, 1) # flatten all dimensions except batch\n",
        "        x = F.relu(self.fc1(x))\n",
        "        x = F.relu(self.fc2(x))\n",
        "        x = self.fc3(x)\n",
        "        return x\n",
        "\n",
        "\n",
        "net = Net(n_classes=10)\n",
        "#et = Net(n_classes=10).cuda(), cuda dice a torch che deve mettere tutti i parametri della rete sulla gpu.\n",
        "\n",
        "print(net)"
      ]
    },
    {
      "cell_type": "markdown",
      "metadata": {
        "id": "imAYJDSs6L0u"
      },
      "source": [
        "Notice that the last layer is fully connected and the number of output neurons is equal to the number of classes we want to classify.\n",
        "\n",
        "Notice also that when we create the model we can specify whether we want it to be executed on the GPU or on the CPU. This choise is important since, depending on this, the data provided to the nutwork should be in the GPU (iput.cuda()) or in the cpu (by not specifing cuda)."
      ]
    },
    {
      "cell_type": "markdown",
      "metadata": {
        "id": "YkjSPneK6L0v"
      },
      "source": [
        "In the code `self.conv1 = nn.Conv2d(3, 6, 5)`, you're defining a **convolutional layer** using PyTorch. The function `nn.Conv2d` creates a 2D convolution, commonly used in Convolutional Neural Networks (CNNs) for image processing. Let's break down the integer values you passed as arguments:\n",
        "\n",
        "1. **3**: This represents the **number of input channels** of the image or tensor being passed to this layer. For example, if you're working with RGB images, there are 3 channels (Red, Green, Blue), so this value is set to 3.\n",
        "\n",
        "2. **6**: This represents the **number of output channels**, i.e., the number of convolutional filters that will be applied to the image. In this case, you're creating 6 filters, each producing an output feature map. So, the result of this convolution will be a tensor with 6 channels.\n",
        "\n",
        "3. **5**: This is the **kernel size**, which defines the size of the convolutional filter. In this case, the filter will be 5x5.\n",
        "\n",
        "### In summary:\n",
        "- **3**: Number of input channels (e.g., 3 for RGB images).\n",
        "- **6**: Number of output channels (6 filters applied).\n",
        "- **5**: Kernel size (5x5 filter).\n",
        "\n",
        "So, you're applying a 2D convolution with 6 filters of size 5x5 to an image with 3 channels (like an RGB image).\n"
      ]
    },
    {
      "cell_type": "markdown",
      "metadata": {
        "id": "laMgs6i88gHi"
      },
      "source": [
        "## Optimizers"
      ]
    },
    {
      "cell_type": "code",
      "execution_count": null,
      "metadata": {
        "id": "WeF3JrPh8GdO"
      },
      "outputs": [],
      "source": [
        "import torch.optim as optim\n",
        "\n",
        "optimizer = optim.SGD(net.parameters(), lr=0.001, momentum=0.9)"
      ]
    },
    {
      "cell_type": "markdown",
      "metadata": {
        "id": "uZ_NuJ0h6L0v"
      },
      "source": [
        "\n",
        "in genere lr sopratutto (momentum in genere non è così importante) lo devo scegliere con il validation set"
      ]
    },
    {
      "cell_type": "markdown",
      "metadata": {
        "id": "gn7avzSU9FFg"
      },
      "source": [
        "## Training loop"
      ]
    },
    {
      "cell_type": "markdown",
      "metadata": {
        "id": "jYRmoH7l6L0w"
      },
      "source": [
        "Nota che se stai inserendo la rete dentro la gpu (hai creato la rete con cuda), devi mettere i dati in gpu, con il comando \".cuda()\". Nota che infatti di default verrebbe messo tutto dentro la cpu creando errori visto che avremmo i dati in CPU e la rete in GPU."
      ]
    },
    {
      "cell_type": "markdown",
      "metadata": {
        "id": "-oAjpmCd6L0w"
      },
      "source": [
        "Con la funzione zero_grad() stiamo andando ad azzerare il gradiente dei parametri per consentire di iniziare da zero."
      ]
    },
    {
      "cell_type": "markdown",
      "metadata": {
        "id": "j7Y2pVvX6L0w"
      },
      "source": [
        "Con la funzione backward calcoliamo il gradiente rispetto ai parametri e con step applichiamo la modifica ai parametri."
      ]
    },
    {
      "cell_type": "code",
      "execution_count": null,
      "metadata": {
        "id": "N9o6OMds8Iyf",
        "outputId": "6274e9d6-7023-479a-e604-9da6e28297d2"
      },
      "outputs": [
        {
          "name": "stdout",
          "output_type": "stream",
          "text": [
            "Training loss: 2.272\n",
            "Training loss: 2.284\n",
            "Training loss: 2.159\n",
            "Training loss: 2.126\n",
            "Training loss: 1.702\n",
            "Training loss: 2.680\n",
            "Training loss: 1.072\n",
            "Training loss: 2.031\n",
            "Training loss: 1.753\n",
            "Training loss: 1.662\n",
            "Training loss: 1.986\n",
            "Training loss: 1.367\n",
            "Training loss: 1.369\n",
            "Training loss: 0.476\n",
            "Training loss: 1.348\n",
            "Training loss: 1.226\n",
            "Training loss: 1.580\n",
            "Training loss: 1.539\n",
            "Training loss: 2.341\n",
            "Training loss: 2.180\n",
            "Training loss: 1.289\n",
            "Training loss: 0.221\n",
            "Training loss: 1.603\n",
            "Training loss: 1.145\n",
            "Training loss: 0.877\n",
            "Training loss: 1.640\n"
          ]
        }
      ],
      "source": [
        "for epoch in range(2):  # Loop over the dataset twice\n",
        "\n",
        "    for i, (inputs, labels) in enumerate(trainloader):\n",
        "\n",
        "\n",
        "        inputs, labels = inputs, labels\n",
        "        #inputs.cuda e labels.cuda() serve sempre per andare a dire di mettere il parametro dentro la gpu\n",
        "\n",
        "        # zero the parameter gradients\n",
        "        optimizer.zero_grad()\n",
        "\n",
        "        # Forward the input through the network\n",
        "        logits = net(inputs)\n",
        "\n",
        "        # Compute the loss value for the input\n",
        "        loss = F.cross_entropy(logits, labels)\n",
        "\n",
        "        # Compute gradients of the loss with respect to the model parameters\n",
        "        loss.backward()\n",
        "        #posso adesso esplorare il processo fatto da backward ocn il metodo\n",
        "\n",
        "        # Apply gradient updates\n",
        "        optimizer.step()\n",
        "\n",
        "        if i % 1000 == 0:    # print every 2000 mini-batches\n",
        "            print(f'Training loss: {loss.item():.3f}')\n"
      ]
    },
    {
      "cell_type": "markdown",
      "metadata": {
        "id": "ND31W_-DBBCb"
      },
      "source": [
        "### BONUS: what happens after you call loss.backward()?\n",
        "\n",
        "Try to inspect the `.grad` property of the network's parameters."
      ]
    },
    {
      "cell_type": "code",
      "execution_count": null,
      "metadata": {
        "id": "lWbNISdqBVse",
        "outputId": "af6d5ab0-76d0-4957-abd1-b0562513a711"
      },
      "outputs": [
        {
          "data": {
            "text/plain": [
              "<generator object Module.parameters at 0x000001D23689F760>"
            ]
          },
          "execution_count": 11,
          "metadata": {},
          "output_type": "execute_result"
        }
      ],
      "source": [
        "inputs, labels = next(iter(trainloader))\n",
        "inputs, labels = inputs, labels\n",
        "\n",
        "# zero the parameter gradients\n",
        "optimizer.zero_grad()\n",
        "\n",
        "# Forward the input through the network\n",
        "logits = net(inputs)\n",
        "\n",
        "# Compute the loss value for the input\n",
        "loss = F.cross_entropy(logits, labels)\n",
        "\n",
        "# Compute the gradients\n",
        "loss.backward()\n",
        "\n",
        "net.parameters()"
      ]
    },
    {
      "cell_type": "markdown",
      "metadata": {
        "id": "-a88kLxT_oTu"
      },
      "source": [
        "## Validate the network on the test data"
      ]
    },
    {
      "cell_type": "markdown",
      "metadata": {
        "id": "5s3_Tan56L0z"
      },
      "source": [
        "Con la funzione no_grad():\n",
        "with torch.no_grad()\n",
        "ti serve perché così dici di evitare di calcolare il gradiente quando devo effettuare validation, al fine di rendere più efficiente il codice."
      ]
    },
    {
      "cell_type": "markdown",
      "metadata": {
        "id": "kP97-1rT6L0z"
      },
      "source": [
        "Nota che la rete neurale è fata in modo da restituire tanti neuroni quante sono le classe che voglio classificare. Per ognuno di questi neuroni ti viene dato un valore tra zero e uno che indica la PROBABILITA' CHE UN SAMPLE SIA DI QUELLA CLASSE (a cui è associato il neurone in output).\n",
        "Quindi per la predizione andiamo semplicemente a prendere il valore maggiore tra tutti i neuroni dell'ultimo livello."
      ]
    },
    {
      "cell_type": "code",
      "execution_count": null,
      "metadata": {
        "id": "zd84DoWV_aZe",
        "outputId": "a576724d-143b-4e68-8a71-8e1beb979310"
      },
      "outputs": [
        {
          "name": "stdout",
          "output_type": "stream",
          "text": [
            "Accuracy of the network on the 10000 test images: 57.06 %\n"
          ]
        }
      ],
      "source": [
        "correct = 0\n",
        "total = 0\n",
        "\n",
        "with torch.no_grad():\n",
        "\n",
        "    for inputs, labels in testloader:\n",
        "        inputs, labels = inputs, labels\n",
        "\n",
        "        # Compute the network logits for the input batch\n",
        "        outputs = net(inputs)\n",
        "\n",
        "        # For each input sample in the batch, we predict the class corresponding to the larget logit\n",
        "        predicted_labels = outputs.max(1).indices\n",
        "        #max(1) resitituisce l'indice del valore che minimizza la loss.\n",
        "\n",
        "        total += labels.size(0)\n",
        "        correct += (predicted_labels == labels).sum().item()\n",
        "\n",
        "print(f'Accuracy of the network on the 10000 test images: {100 * correct / total:.2f} %')"
      ]
    },
    {
      "cell_type": "markdown",
      "metadata": {
        "id": "oqc7Yz-f6L00"
      },
      "source": [
        "57.06% is not that bad considering that we have 10 classes."
      ]
    },
    {
      "cell_type": "markdown",
      "metadata": {
        "id": "h-q6u2Rt6L00"
      },
      "source": [
        "with torch.no_grad():\n",
        "Questo mi serve per non memorizzare i gradient memories perché normalmente lo farebbe per darti maggiori informazioni.\n",
        "Ma se non ti servono è meglio digliertelo per ottimizzarlo.\n",
        "\n",
        "Quindi ricorda che quando usiamo i dati di training non specifichiamo no_grad perché poi vogliamo calcolare la loss, ma quando, invece, andiamo ad usare i dati di test, andiamo a calcolare il risultato della rete neurale specificando no_grad per fargli acapire che non ci servirà calcolare la loss quindi può ottimizzare delle operazioni."
      ]
    },
    {
      "cell_type": "markdown",
      "metadata": {
        "id": "3T9tDFmlDen0"
      },
      "source": [
        "## Extension to a new dataset\n",
        "\n",
        "**It's your turn!**.\n",
        "\n",
        "Download the Flowers dataset from http://www.robots.ox.ac.uk/~vgg/data/flowers/102/102flowers.tgz"
      ]
    },
    {
      "cell_type": "code",
      "execution_count": null,
      "metadata": {
        "id": "14BQOAGsDebF",
        "outputId": "4c7f9115-ff4d-4adf-9f7b-81e632174fa4"
      },
      "outputs": [
        {
          "name": "stderr",
          "output_type": "stream",
          "text": [
            "\"wget\" non � riconosciuto come comando interno o esterno,\n",
            " un programma eseguibile o un file batch.\n",
            "\"wget\" non � riconosciuto come comando interno o esterno,\n",
            " un programma eseguibile o un file batch.\n",
            "\"wget\" non � riconosciuto come comando interno o esterno,\n",
            " un programma eseguibile o un file batch.\n",
            "tar: Error opening archive: Failed to open '102flowers.tgz'\n"
          ]
        }
      ],
      "source": [
        "!wget http://www.robots.ox.ac.uk/~vgg/data/flowers/102/102flowers.tgz\n",
        "!wget http://www.robots.ox.ac.uk/~vgg/data/flowers/102/imagelabels.mat\n",
        "!wget http://www.robots.ox.ac.uk/~vgg/data/flowers/102/setid.mat\n",
        "!tar -xf 102flowers.tgz && rm 102flowers.tgz"
      ]
    },
    {
      "cell_type": "markdown",
      "metadata": {
        "id": "UWRFJEIc6L01"
      },
      "source": [
        "Flower dataset."
      ]
    },
    {
      "cell_type": "code",
      "execution_count": null,
      "metadata": {
        "id": "pf6H1aTRGuX1"
      },
      "outputs": [],
      "source": [
        "import os.path as osp\n",
        "from torch.utils.data import Dataset\n",
        "\n",
        "from typing import Literal\n",
        "\n",
        "from torchvision.io import read_image\n",
        "\n",
        "from PIL import Image\n",
        "\n",
        "import scipy.io\n",
        "\n",
        "\n",
        "class FlowersDataset(Dataset):\n",
        "    def __init__(self, split: Literal['trn', 'val', 'tst'],\n",
        "                 labels_file: str, splits_path: str, img_dir: str, transform=None):\n",
        "        self.split = split\n",
        "        self.ids = np.array(scipy.io.loadmat('setid.mat')[f'{split}id']).squeeze()\n",
        "\n",
        "        # Load the labels\n",
        "        labels = np.array(scipy.io.loadmat('imagelabels.mat')['labels'].squeeze())\n",
        "        self.labels = np.take(labels, self.ids, 0)\n",
        "\n",
        "        self.img_dir = img_dir\n",
        "\n",
        "        self.transform = transform\n",
        "\n",
        "    def __len__(self):\n",
        "        return len(self.ids)\n",
        "\n",
        "    def __getitem__(self, idx):\n",
        "        image, label = None, None\n",
        "\n",
        "        # TODO: ...\n",
        "\n",
        "        return image, label"
      ]
    },
    {
      "cell_type": "markdown",
      "metadata": {
        "id": "hao4SIj56L02"
      },
      "source": [
        "# My version of the getitem method"
      ]
    },
    {
      "cell_type": "code",
      "execution_count": null,
      "metadata": {
        "id": "jh_53NM16L02"
      },
      "outputs": [],
      "source": [
        "def __getitem__(self, idx):\n",
        "      # Ottieni l'ID dell'immagine\n",
        "      img_id = self.ids[idx]\n",
        "\n",
        "      # Costruisci il percorso dell'immagine\n",
        "      img_path = osp.join(self.img_dir, f'image_{img_id:05d}.jpg')  # Formatta l'ID in modo che corrisponda al nome file\n",
        "\n",
        "      # Carica l'immagine\n",
        "      image = Image.open(img_path).convert('RGB')\n",
        "\n",
        "      # Applica le trasformazioni, se definite\n",
        "      if self.transform:\n",
        "          image = self.transform(image)\n",
        "\n",
        "      # Ottieni l'etichetta corrispondente\n",
        "      label = self.labels[idx]\n",
        "\n",
        "      return image, label"
      ]
    },
    {
      "cell_type": "markdown",
      "metadata": {
        "id": "qJwqKh1V6L02"
      },
      "source": [
        "Problem: when i run the provided code with this method i obtain 15% accuracy."
      ]
    },
    {
      "cell_type": "code",
      "execution_count": null,
      "metadata": {
        "id": "tGqlaKFbJa2k"
      },
      "outputs": [],
      "source": [
        "transform = transforms.Compose([\n",
        "    transforms.ToTensor(),\n",
        "    transforms.Normalize((0.5, 0.5, 0.5), (0.5, 0.5, 0.5)),\n",
        "    transforms.Resize(64),\n",
        "    transforms.CenterCrop(64)\n",
        "])\n",
        "\n",
        "trainset = FlowersDataset(\"trn\", \"imagelabels.mat\", \"setid.mat\", \"jpg\", transform=transform)\n",
        "valset = FlowersDataset(\"val\", \"imagelabels.mat\", \"setid.mat\", \"jpg\", transform=transform)\n",
        "\n",
        "trainloader = torch.utils.data.DataLoader(trainset, batch_size=batch_size, shuffle=True, num_workers=2)\n",
        "valloader = torch.utils.data.DataLoader(valset, batch_size=batch_size, shuffle=True, num_workers=2)"
      ]
    },
    {
      "cell_type": "code",
      "execution_count": null,
      "metadata": {
        "id": "Eehiuo9fP4NM"
      },
      "outputs": [],
      "source": [
        "class Net(nn.Module):\n",
        "    def __init__(self, n_classes: int = 10):\n",
        "        super().__init__()\n",
        "        self.conv1 = nn.Conv2d(3, 16, 5)\n",
        "        self.pool = nn.MaxPool2d(2, 2)\n",
        "        self.conv2 = nn.Conv2d(16, 128, 5)\n",
        "        self.avgpool = nn.AdaptiveAvgPool2d(2)\n",
        "        self.fc1 = nn.Linear(512, 512)\n",
        "        self.fc2 = nn.Linear(512, 128)\n",
        "        self.fc3 = nn.Linear(128, n_classes)\n",
        "\n",
        "    def forward(self, x):\n",
        "        x = self.pool(F.relu(self.conv1(x)))\n",
        "        x = F.relu(self.conv2(x))\n",
        "        x = self.avgpool(x)\n",
        "        x = torch.flatten(x, 1) # flatten all dimensions except batch\n",
        "        x = F.relu(self.fc1(x))\n",
        "        x = F.relu(self.fc2(x))\n",
        "        return self.fc3(x)\n",
        "\n",
        "\n",
        "net = Net(n_classes=103)\n",
        "\n",
        "optimizer = optim.Adam(net.parameters(), lr=0.001)"
      ]
    },
    {
      "cell_type": "code",
      "execution_count": null,
      "metadata": {
        "id": "Y_jlxq2KKyKD"
      },
      "outputs": [],
      "source": [
        "for epoch in range(10):  # Loop over the dataset twice\n",
        "\n",
        "    for i, (inputs, labels) in enumerate(trainloader):\n",
        "\n",
        "        inputs, labels = inputs, labels\n",
        "\n",
        "        # zero the parameter gradients\n",
        "        optimizer.zero_grad()\n",
        "\n",
        "        # Forward the input through the network\n",
        "        logits = net(inputs)\n",
        "\n",
        "        # Compute the loss value for the input\n",
        "        loss = F.cross_entropy(logits, labels)\n",
        "\n",
        "        # Compute gradients of the loss with respect to the model parameters\n",
        "        loss.backward()\n",
        "\n",
        "        # Apply gradient updates\n",
        "        optimizer.step()\n",
        "\n",
        "        if i % 1000 == 0:    # print every 2000 mini-batches\n",
        "            print(f'Training loss: {loss.item():.3f}')\n"
      ]
    },
    {
      "cell_type": "code",
      "execution_count": null,
      "metadata": {
        "id": "rVJ5MtBsK4N_"
      },
      "outputs": [],
      "source": [
        "correct = 0\n",
        "total = 0\n",
        "\n",
        "with torch.no_grad():\n",
        "\n",
        "    for inputs, labels in valloader:\n",
        "        inputs, labels = inputs, labels\n",
        "\n",
        "        # Compute the network logits for the input batch\n",
        "        outputs = net(inputs)\n",
        "\n",
        "        # For each input sample in the batch, we predict the class corresponding to the larget logit\n",
        "        predicted_labels = outputs.max(1).indices\n",
        "\n",
        "        total += labels.size(0)\n",
        "        correct += (predicted_labels == labels).sum().item()\n",
        "\n",
        "print(f'Accuracy of the network on the test images: {100 * correct / total:.2f} %')"
      ]
    },
    {
      "cell_type": "markdown",
      "source": [
        "### Potresti anbche scrivere: model.train(False) (invece di fare no_grad)."
      ],
      "metadata": {
        "id": "N0UHQkLO6UwU"
      }
    },
    {
      "cell_type": "markdown",
      "metadata": {
        "id": "GVgFdGTf6L04"
      },
      "source": [
        "with torch.no_grad():\n",
        "Questo mi serve per non memorizzare i gradient memories perché normalmente lo farebbe per darti maggiori informazioni.\n",
        "Ma se non ti servono è meglio digliertelo per ottimizzarlo."
      ]
    }
  ],
  "metadata": {
    "accelerator": "GPU",
    "colab": {
      "gpuType": "T4",
      "provenance": []
    },
    "kernelspec": {
      "display_name": "Python 3",
      "language": "python",
      "name": "python3"
    },
    "language_info": {
      "codemirror_mode": {
        "name": "ipython",
        "version": 3
      },
      "file_extension": ".py",
      "mimetype": "text/x-python",
      "name": "python",
      "nbconvert_exporter": "python",
      "pygments_lexer": "ipython3",
      "version": "3.12.6"
    }
  },
  "nbformat": 4,
  "nbformat_minor": 0
}